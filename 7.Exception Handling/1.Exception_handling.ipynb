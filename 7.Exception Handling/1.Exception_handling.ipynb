{
 "cells": [
  {
   "cell_type": "code",
   "execution_count": 2,
   "metadata": {},
   "outputs": [
    {
     "name": "stdout",
     "output_type": "stream",
     "text": [
      "The variable has not been assigned\n"
     ]
    }
   ],
   "source": [
    "#exception handling (try , except block)\n",
    "\n",
    "try:\n",
    "    a=b\n",
    "except:\n",
    "    print(\"The variable has not been assigned\")"
   ]
  },
  {
   "cell_type": "code",
   "execution_count": 4,
   "metadata": {},
   "outputs": [
    {
     "name": "stdout",
     "output_type": "stream",
     "text": [
      "name 'b' is not defined\n"
     ]
    }
   ],
   "source": [
    "try:\n",
    "    a=b\n",
    "except NameError as ex: #using an alliace\n",
    "    print(ex)"
   ]
  },
  {
   "cell_type": "code",
   "execution_count": 7,
   "metadata": {},
   "outputs": [
    {
     "name": "stdout",
     "output_type": "stream",
     "text": [
      "division by zero\n",
      "Enter Denominator > 0\n"
     ]
    }
   ],
   "source": [
    "try:\n",
    "    result = 1/0\n",
    "except ZeroDivisionError as zd:\n",
    "    print(zd)\n",
    "    print(\"Enter Denominator > 0\")"
   ]
  },
  {
   "cell_type": "code",
   "execution_count": 11,
   "metadata": {},
   "outputs": [
    {
     "name": "stdout",
     "output_type": "stream",
     "text": [
      "name 'b' is not defined\n",
      "main exception is caught here\n"
     ]
    }
   ],
   "source": [
    "try:\n",
    "    result = 1/2\n",
    "    a=b\n",
    "except ZeroDivisionError as zd:\n",
    "    print(zd)\n",
    "    print(\"Enter Denominator > 0\")\n",
    "except Exception as ex:#main exception class that can handle all exception\n",
    "    print(ex)          #this should be below all exceptions\n",
    "    print(\"main exception is caught here\")"
   ]
  },
  {
   "cell_type": "code",
   "execution_count": 18,
   "metadata": {},
   "outputs": [
    {
     "name": "stdout",
     "output_type": "stream",
     "text": [
      "-10.0\n"
     ]
    }
   ],
   "source": [
    "try:\n",
    "    num =int(input(\"Enter a Number\"))\n",
    "    result = 10/num\n",
    "except ValueError as ve:\n",
    "    print(ve)\n",
    "    print(\"This is not a valid Number\")\n",
    "except ZeroDivisionError as zd:\n",
    "    print(zd)\n",
    "    print(\"The denominator must be greater than 0\")\n",
    "except Exception as ex:\n",
    "    print(ex)\n",
    "\n",
    "print(result)"
   ]
  },
  {
   "cell_type": "code",
   "execution_count": 20,
   "metadata": {},
   "outputs": [
    {
     "name": "stdout",
     "output_type": "stream",
     "text": [
      "The result is 0.2127659574468085.\n"
     ]
    }
   ],
   "source": [
    "# try , except , else\n",
    "try:\n",
    "    num =int(input(\"Enter a Number\"))\n",
    "    result = 10/num\n",
    "except ValueError as ve:\n",
    "    print(ve)\n",
    "    print(\"This is not a valid Number\")\n",
    "except ZeroDivisionError as zd:\n",
    "    print(zd)\n",
    "    print(\"The denominator must be greater than 0\")\n",
    "except Exception as ex:\n",
    "    print(ex)\n",
    "else:\n",
    "    print(f\"The result is {result}.\")"
   ]
  },
  {
   "cell_type": "code",
   "execution_count": 21,
   "metadata": {},
   "outputs": [
    {
     "name": "stdout",
     "output_type": "stream",
     "text": [
      "The result is 0.8333333333333334.\n",
      "Execution is complete\n"
     ]
    }
   ],
   "source": [
    "# try , except , else and finally\n",
    "try:\n",
    "    num =int(input(\"Enter a Number\"))\n",
    "    result = 10/num\n",
    "except ValueError as ve:\n",
    "    print(ve)\n",
    "    print(\"This is not a valid Number\")\n",
    "except ZeroDivisionError as zd:\n",
    "    print(zd)\n",
    "    print(\"The denominator must be greater than 0\")\n",
    "except Exception as ex:\n",
    "    print(ex)\n",
    "else:\n",
    "    print(f\"The result is {result}.\")\n",
    "finally:\n",
    "    print(\"Execution is complete.\")# finally will alwasy get executed"
   ]
  },
  {
   "cell_type": "code",
   "execution_count": 26,
   "metadata": {},
   "outputs": [
    {
     "name": "stdout",
     "output_type": "stream",
     "text": [
      "[Errno 2] No such file or directory: 'example.txt'\n",
      "File not found\n"
     ]
    }
   ],
   "source": [
    "# file and exception handling\n",
    "\n",
    "try:\n",
    "    file = open('example.txt')\n",
    "    content = file.read()\n",
    "    print(content)\n",
    "\n",
    "except FileNotFoundError as fn:\n",
    "    print(fn)\n",
    "    print(\"File not found\")\n",
    "\n",
    "finally:\n",
    "    if 'file' in locals() and not file.closed:\n",
    "        file.close()\n",
    "        print('file close')"
   ]
  }
 ],
 "metadata": {
  "kernelspec": {
   "display_name": "Python 3",
   "language": "python",
   "name": "python3"
  },
  "language_info": {
   "codemirror_mode": {
    "name": "ipython",
    "version": 3
   },
   "file_extension": ".py",
   "mimetype": "text/x-python",
   "name": "python",
   "nbconvert_exporter": "python",
   "pygments_lexer": "ipython3",
   "version": "3.12.4"
  }
 },
 "nbformat": 4,
 "nbformat_minor": 2
}
