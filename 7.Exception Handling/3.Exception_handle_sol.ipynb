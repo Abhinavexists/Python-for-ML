{
 "cells": [
  {
   "cell_type": "code",
   "execution_count": 5,
   "metadata": {},
   "outputs": [
    {
     "name": "stdout",
     "output_type": "stream",
     "text": [
      "division by zero\n",
      "The Denominator is less than 0\n"
     ]
    }
   ],
   "source": [
    "# Write a function that takes two integers as input and returns their division. Use try, except, and finally blocks to handle division by zero and print an appropriate message.\n",
    "\n",
    "def division(int1 , int2):\n",
    "    try:\n",
    "        div = int1/int2\n",
    "    except ValueError as ve:\n",
    "        print(ve)\n",
    "        print(\"Wrong input Value\")\n",
    "    except ZeroDivisionError as zd:\n",
    "        print(zd)\n",
    "        print(\"The Denominator is less than 0\")\n",
    "    except Exception as ex:\n",
    "        print(ex)\n",
    "\n",
    "int1 = int(input('enter First number'))\n",
    "int2 = int(input('enter second number'))\n",
    "division(int1 ,int2)\n",
    "    "
   ]
  },
  {
   "cell_type": "code",
   "execution_count": 5,
   "metadata": {},
   "outputs": [
    {
     "name": "stdout",
     "output_type": "stream",
     "text": [
      "[Errno 2] No such file or directory: 'data.txt'\n",
      "The file does not exist\n"
     ]
    }
   ],
   "source": [
    "# Write a function that reads the contents of a file named `data.txt`. Use try, except, and finally blocks to handle file not found errors and ensure the file is properly closed.\n",
    "\n",
    "def file_read(filename):\n",
    "    try:\n",
    "        with open(filename , 'r') as file:\n",
    "            file.read()\n",
    "    except FileNotFoundError as fe:\n",
    "        print(fe)\n",
    "        print('The file does not exist')\n",
    "    finally:\n",
    "        if 'file' in locals() and not file.closed:\n",
    "            file.close()\n",
    "            print('file closed')\n",
    "\n",
    "file_read('data.txt')"
   ]
  },
  {
   "cell_type": "code",
   "execution_count": 10,
   "metadata": {},
   "outputs": [
    {
     "name": "stdout",
     "output_type": "stream",
     "text": [
      "execution complete\n"
     ]
    },
    {
     "data": {
      "text/plain": [
       "21"
      ]
     },
     "execution_count": 10,
     "metadata": {},
     "output_type": "execute_result"
    }
   ],
   "source": [
    "# Write a function that takes a list of integers and returns their sum. Use try, except,\n",
    "# and finally blocks to handle TypeError if a non-integer value is encountered and print an appropriate message.\n",
    "\n",
    "def integers(list):\n",
    "    total = 0\n",
    "    try:\n",
    "        for items in list:\n",
    "           total += items\n",
    "    except TypeError as ve:\n",
    "        print(ve)\n",
    "        total = None\n",
    "    finally:\n",
    "        print('execution complete')\n",
    "        return total\n",
    "    \n",
    "\n",
    "integers([1,2,3,4,5,6])\n",
    "\n",
    "   \n",
    "    "
   ]
  },
  {
   "cell_type": "code",
   "execution_count": 13,
   "metadata": {},
   "outputs": [
    {
     "name": "stdout",
     "output_type": "stream",
     "text": [
      "execution complete\n",
      "23\n"
     ]
    }
   ],
   "source": [
    "# Write a function that prompts the user to enter an integer. \n",
    "# Use try, except, and finally blocks to handle ValueError if the user enters a non-integer value and print an appropriate message.\n",
    "\n",
    "def my_integer():\n",
    "    try:\n",
    "        num = int(input(\"Enter the Number\"))\n",
    "    except ValueError as ve:\n",
    "        print(ve)\n",
    "        print(\"Entered a non integer value\")\n",
    "    finally:\n",
    "        print(\"execution complete\")\n",
    "    return num \n",
    "\n",
    "print(my_integer())"
   ]
  },
  {
   "cell_type": "code",
   "execution_count": 5,
   "metadata": {},
   "outputs": [
    {
     "name": "stdout",
     "output_type": "stream",
     "text": [
      "execution complete\n",
      "2\n",
      "Error: 'x'\n",
      "execution complete\n"
     ]
    },
    {
     "ename": "UnboundLocalError",
     "evalue": "cannot access local variable 'value' where it is not associated with a value",
     "output_type": "error",
     "traceback": [
      "\u001b[1;31m---------------------------------------------------------------------------\u001b[0m",
      "\u001b[1;31mUnboundLocalError\u001b[0m                         Traceback (most recent call last)",
      "Cell \u001b[1;32mIn[5], line 16\u001b[0m\n\u001b[0;32m     14\u001b[0m \u001b[38;5;28mdict\u001b[39m \u001b[38;5;241m=\u001b[39m {\u001b[38;5;124m'\u001b[39m\u001b[38;5;124ma\u001b[39m\u001b[38;5;124m'\u001b[39m: \u001b[38;5;241m1\u001b[39m, \u001b[38;5;124m'\u001b[39m\u001b[38;5;124mb\u001b[39m\u001b[38;5;124m'\u001b[39m: \u001b[38;5;241m2\u001b[39m, \u001b[38;5;124m'\u001b[39m\u001b[38;5;124mc\u001b[39m\u001b[38;5;124m'\u001b[39m: \u001b[38;5;241m3\u001b[39m}\n\u001b[0;32m     15\u001b[0m \u001b[38;5;28mprint\u001b[39m(get_dict_value(\u001b[38;5;28mdict\u001b[39m , \u001b[38;5;124m'\u001b[39m\u001b[38;5;124mb\u001b[39m\u001b[38;5;124m'\u001b[39m))  \n\u001b[1;32m---> 16\u001b[0m \u001b[38;5;28mprint\u001b[39m(get_dict_value(\u001b[38;5;28mdict\u001b[39m , \u001b[38;5;124m'\u001b[39m\u001b[38;5;124mx\u001b[39m\u001b[38;5;124m'\u001b[39m))\n",
      "Cell \u001b[1;32mIn[5], line 11\u001b[0m, in \u001b[0;36mget_dict_value\u001b[1;34m(dict, key)\u001b[0m\n\u001b[0;32m      9\u001b[0m \u001b[38;5;28;01mfinally\u001b[39;00m:\n\u001b[0;32m     10\u001b[0m     \u001b[38;5;28mprint\u001b[39m(\u001b[38;5;124m\"\u001b[39m\u001b[38;5;124mexecution complete\u001b[39m\u001b[38;5;124m\"\u001b[39m)\n\u001b[1;32m---> 11\u001b[0m \u001b[38;5;28;01mreturn\u001b[39;00m value\n",
      "\u001b[1;31mUnboundLocalError\u001b[0m: cannot access local variable 'value' where it is not associated with a value"
     ]
    }
   ],
   "source": [
    "# Write a function that takes a dictionary and a key as input and returns the value associated with the key. \n",
    "# Use try, except, and finally blocks to handle KeyError if the key is not found in the dictionary and print an appropriate message.\n",
    "\n",
    "def get_dict_value(dict , key):\n",
    "    try:\n",
    "        value = dict[key]\n",
    "    except KeyError as ke:\n",
    "        print(f\"Error: {ke}\")\n",
    "    finally:\n",
    "        print(\"execution complete\")\n",
    "    return value\n",
    "\n",
    "# Test\n",
    "dict = {'a': 1, 'b': 2, 'c': 3}\n",
    "print(get_dict_value(dict , 'b'))  \n",
    "print(get_dict_value(dict , 'x'))"
   ]
  },
  {
   "cell_type": "code",
   "execution_count": 16,
   "metadata": {},
   "outputs": [
    {
     "name": "stdout",
     "output_type": "stream",
     "text": [
      "conversion is complete\n",
      "division is complete\n",
      "calculation is complete\n",
      "0.7692307692307693\n"
     ]
    }
   ],
   "source": [
    "# Write a function that performs nested exception handling. It should first attempt to convert a string to an integer, and then attempt to divide by that integer. \n",
    "# Use nested try, except, and finally blocks to handle ValueError and ZeroDivisionError and print appropriate messages.\n",
    "\n",
    "def nested_handling(string):\n",
    "    try:\n",
    "        try:\n",
    "            num = int(string)\n",
    "        except ValueError as ve:\n",
    "            print(ve)\n",
    "            print(\"input correct input value\")\n",
    "            num = None\n",
    "        finally:\n",
    "            print(\"conversion is complete\")\n",
    "        if num is not None:\n",
    "            try:\n",
    "                result = 10/num\n",
    "            except ZeroDivisionError as zd:\n",
    "                print(zd)\n",
    "                print(\"the num should be greater than 0\")\n",
    "            finally:\n",
    "                print(\"division is complete\")\n",
    "            return result\n",
    "    finally:\n",
    "        print(\"calculation is complete\")\n",
    "\n",
    "print(nested_handling(\"13\"))"
   ]
  },
  {
   "cell_type": "code",
   "execution_count": 17,
   "metadata": {},
   "outputs": [
    {
     "name": "stdout",
     "output_type": "stream",
     "text": [
      "indexing is complete\n"
     ]
    },
    {
     "data": {
      "text/plain": [
       "4"
      ]
     },
     "execution_count": 17,
     "metadata": {},
     "output_type": "execute_result"
    }
   ],
   "source": [
    "# Write a function that takes a list and an index as input and returns the element at the given index. \n",
    "# Use try, except, and finally blocks to handle IndexError if the index is out of range and print an appropriate message.\n",
    "\n",
    "def return_list(list , index):\n",
    "    try:\n",
    "        elements = list[index]\n",
    "    except IndexError as ie:\n",
    "        print(ie)\n",
    "        print(\"index is out of range\")\n",
    "        elements = None\n",
    "    finally:\n",
    "        print(\"indexing is complete\")\n",
    "    return elements\n",
    "\n",
    "list = [1,2,3,4,7,8,10]\n",
    "return_list(list , 3)\n"
   ]
  },
  {
   "cell_type": "code",
   "execution_count": 19,
   "metadata": {},
   "outputs": [
    {
     "name": "stdout",
     "output_type": "stream",
     "text": [
      "request is complete\n",
      "<Response [200]>\n"
     ]
    }
   ],
   "source": [
    "# Write a function that attempts to open a URL and read its contents. \n",
    "# Use try, except, and finally blocks to handle network-related errors and print an appropriate message.\n",
    "\n",
    "import requests\n",
    "\n",
    "def url_opener(url):\n",
    "    try:\n",
    "        response = requests.get(url)\n",
    "        response.raise_for_status()\n",
    "    except requests.RequestException as re:\n",
    "        print(f\"network Error : {re}\")\n",
    "        return None\n",
    "    finally:\n",
    "        print(\"request is complete\")\n",
    "    return response\n",
    "\n",
    "print(url_opener('https://jsonplaceholder.typicode.com/posts/1'))"
   ]
  },
  {
   "cell_type": "code",
   "execution_count": 20,
   "metadata": {},
   "outputs": [
    {
     "name": "stdout",
     "output_type": "stream",
     "text": [
      "parsing is complete\n",
      "{'name': 'John', 'age': 30}\n",
      "Decode Error: Expecting value: line 1 column 1 (char 0)\n",
      "parsing is complete\n",
      "None\n"
     ]
    }
   ],
   "source": [
    "# Write a function that attempts to parse a JSON string. \n",
    "# Use try, except, and finally blocks to handle JSONDecodeError if the string is not a valid JSON and print an appropriate message.\n",
    "\n",
    "import json\n",
    "\n",
    "def parse_json(json_string):\n",
    "    try:\n",
    "        data = json.loads(json_string)\n",
    "        return data\n",
    "    except json.JSONDecodeError as jd:\n",
    "        print(f\"Decode Error: {jd}\")\n",
    "        return None\n",
    "    finally:\n",
    "        print(\"parsing is complete\")\n",
    "\n",
    "print(parse_json('{\"name\": \"John\", \"age\": 30}'))\n",
    "print(parse_json('Invalid JSON'))  \n"
   ]
  },
  {
   "cell_type": "code",
   "execution_count": 29,
   "metadata": {},
   "outputs": [
    {
     "name": "stdout",
     "output_type": "stream",
     "text": [
      "Error:Negative Number Found:-4\n",
      "execution complete\n",
      "execution complete\n"
     ]
    }
   ],
   "source": [
    "# Define a custom exception named `NegativeNumberError`. Write a function that raises this exception if a negative number is encountered in a list. \n",
    "# Use try, except, and finally blocks to handle the custom exception and print an appropriate message.\n",
    "\n",
    "class NegativeNumberException(Exception):\n",
    "    pass\n",
    "\n",
    "def negativenumber(list):\n",
    "    try:\n",
    "        for num in list:\n",
    "            if num < 0:\n",
    "                raise NegativeNumberException(f\"Negative Number Found:{num}\")\n",
    "    except NegativeNumberException as ne:\n",
    "        print(f\"Error:{ne}\")\n",
    "    finally:\n",
    "        print(\"execution complete\")\n",
    "\n",
    "negativenumber([1,2,3,-4])\n",
    "negativenumber([1,2,3,4])\n"
   ]
  },
  {
   "cell_type": "code",
   "execution_count": 31,
   "metadata": {},
   "outputs": [
    {
     "name": "stdout",
     "output_type": "stream",
     "text": [
      "ValueError:This gives a value error\n",
      "Execution complete\n"
     ]
    }
   ],
   "source": [
    "# Write a function that calls another function which may raise an exception. \n",
    "# Use try, except, and finally blocks to handle the exception and print an appropriate message.\n",
    "\n",
    "def second_function():\n",
    "    raise ValueError (\"This gives a value error\")\n",
    "\n",
    "def first_function():\n",
    "    try:\n",
    "        second_function()\n",
    "    except ValueError as ve:\n",
    "        print(f\"ValueError:{ve}\")\n",
    "    finally:\n",
    "        print(\"Execution complete\")\n",
    "\n",
    "first_function()\n"
   ]
  },
  {
   "cell_type": "code",
   "execution_count": 38,
   "metadata": {},
   "outputs": [
    {
     "name": "stdout",
     "output_type": "stream",
     "text": [
      "execution complete\n",
      "0.75\n",
      "division by zero:The number should be greater than 0\n",
      "execution complete\n",
      "None\n"
     ]
    }
   ],
   "source": [
    "# Define a class with a method that performs a division operation. \n",
    "# Use try, except, and finally blocks within the method to handle division by zero and print an appropriate message.\n",
    "\n",
    "class Calculator:\n",
    "    def division(self,a,b):\n",
    "        try:\n",
    "            result = a/b\n",
    "            return result\n",
    "        except ZeroDivisionError as zd:\n",
    "            print(f\"{zd}:The number should be greater than 0\")\n",
    "        finally:\n",
    "            print(\"execution complete\")\n",
    "    \n",
    "calc = Calculator() #calling the instance\n",
    "\n",
    "print(calc.division(3,4))\n",
    "print(calc.division(2,0))"
   ]
  },
  {
   "cell_type": "code",
   "execution_count": 42,
   "metadata": {},
   "outputs": [
    {
     "name": "stdout",
     "output_type": "stream",
     "text": [
      "invalid literal for int() with base 10: 'a'\n",
      "execution complete\n",
      "execution complete\n"
     ]
    },
    {
     "data": {
      "text/plain": [
       "[1, 2, 3]"
      ]
     },
     "execution_count": 42,
     "metadata": {},
     "output_type": "execute_result"
    }
   ],
   "source": [
    "# Write a function that takes a list of strings and converts them to integers. \n",
    "# Use try, except, and finally blocks to handle ValueError if a string cannot be converted and print an appropriate message.\n",
    "\n",
    "def convert(lst):\n",
    "    integers = []\n",
    "    try:\n",
    "        for items in lst:\n",
    "            integers.append(int(items))\n",
    "    except ValueError as ve:\n",
    "        print(ve)\n",
    "        integers = None\n",
    "    finally:\n",
    "        print(\"execution complete\")\n",
    "    return integers\n",
    "\n",
    "convert([\"a\" , \"b\" , \"c\"])\n",
    "convert([\"1\" , \"2\" , \"3\"])\n"
   ]
  },
  {
   "cell_type": "code",
   "execution_count": 47,
   "metadata": {},
   "outputs": [
    {
     "name": "stdout",
     "output_type": "stream",
     "text": [
      "execution complete\n"
     ]
    }
   ],
   "source": [
    "# Write a function that attempts to write a list of strings to a file. \n",
    "# Use try, except, and finally blocks to handle IOError and ensure the file is properly closed.\n",
    "\n",
    "def string_to_file(strings , filename):\n",
    "    try:\n",
    "        with open(filename , 'w') as file:\n",
    "            for string in strings:\n",
    "                file.write(string + '\\n')\n",
    "    except IOError as io:\n",
    "        print(io)\n",
    "    finally:\n",
    "            file.close()\n",
    "            print(\"execution complete\")\n",
    "\n",
    "string_to_file(['a' , 'b' , 'c'] , \"my.txt\")\n",
    "        "
   ]
  }
 ],
 "metadata": {
  "kernelspec": {
   "display_name": "Python 3",
   "language": "python",
   "name": "python3"
  },
  "language_info": {
   "codemirror_mode": {
    "name": "ipython",
    "version": 3
   },
   "file_extension": ".py",
   "mimetype": "text/x-python",
   "name": "python",
   "nbconvert_exporter": "python",
   "pygments_lexer": "ipython3",
   "version": "3.12.4"
  }
 },
 "nbformat": 4,
 "nbformat_minor": 2
}
