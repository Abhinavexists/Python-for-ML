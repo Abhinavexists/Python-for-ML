{
 "cells": [
  {
   "cell_type": "code",
   "execution_count": 7,
   "metadata": {},
   "outputs": [
    {
     "name": "stdout",
     "output_type": "stream",
     "text": [
      "2\n"
     ]
    }
   ],
   "source": [
    "# Define a recursive function to calculate the nth Fibonacci number using memoization. Test the function with different inputs.\n",
    "\n",
    "\n",
    "\n",
    "def fibonnaci(num , memo = {}):\n",
    "    for num in memo:\n",
    "        return memo[num]\n",
    "    if num <= 1:\n",
    "        return num\n",
    "    else:\n",
    "        memo[num] = fibonnaci(num-1 , memo) + fibonnaci(num-2 , memo)\n",
    "        return memo[num]\n",
    "    \n",
    "\n",
    "print(fibonnaci(3))"
   ]
  },
  {
   "cell_type": "code",
   "execution_count": 20,
   "metadata": {},
   "outputs": [
    {
     "name": "stdout",
     "output_type": "stream",
     "text": [
      "{7: 9, 3: 9}\n"
     ]
    }
   ],
   "source": [
    "# Define a function that takes two arguments, a and b, where b is a dictionary with a default value of an empty dictionary. The function should add a new key-value pair to the dictionary and return it. \n",
    "# Test the function with different inputs.\n",
    "\n",
    "def myfun(a,b=None):\n",
    "    if b is None:\n",
    "        b = {}\n",
    "    b[a] = a**2\n",
    "    return b\n",
    "\n",
    "print(myfun(3 , {7:9}))"
   ]
  },
  {
   "cell_type": "code",
   "execution_count": 21,
   "metadata": {},
   "outputs": [
    {
     "name": "stdout",
     "output_type": "stream",
     "text": [
      "{'a': 1, 'c': 3}\n"
     ]
    }
   ],
   "source": [
    "# Define a function that takes a variable number of keyword arguments and returns a dictionary containing only those key-value pairs where the value is an integer. \n",
    "# Test the function with different inputs.\n",
    "\n",
    "\n",
    "def filter_fun(**kwargs):\n",
    "    return {k:v for k , v in kwargs.items() if isinstance(v, int)}\n",
    "\n",
    "print(filter_fun(a=1, b='two', c=3, d=4.5))"
   ]
  },
  {
   "cell_type": "code",
   "execution_count": 22,
   "metadata": {},
   "outputs": [
    {
     "name": "stdout",
     "output_type": "stream",
     "text": [
      "[1, 4, 9, 16]\n"
     ]
    }
   ],
   "source": [
    "# Define a function that takes another function as a callback and a list of integers. The function should apply the callback to each integer in the list and return a new list with the results. \n",
    "# Test with different callback functions.\n",
    "\n",
    "def apply_callback(callback , lst):\n",
    "    return [callback(x) for x in lst]\n",
    "\n",
    "print(apply_callback(lambda x: x**2, [1, 2, 3, 4]))"
   ]
  },
  {
   "cell_type": "code",
   "execution_count": 26,
   "metadata": {},
   "outputs": [
    {
     "name": "stdout",
     "output_type": "stream",
     "text": [
      "9\n"
     ]
    }
   ],
   "source": [
    "# Define a function that returns another function. \n",
    "# The returned function should take an integer and return its square. Test the returned function with different inputs.\n",
    "\n",
    "def square_fun():\n",
    "    def square(x):\n",
    "        return x**2\n",
    "    return square\n",
    "\n",
    "sol = square_fun()\n",
    "print(sol(3))"
   ]
  },
  {
   "cell_type": "code",
   "execution_count": null,
   "metadata": {},
   "outputs": [],
   "source": []
  }
 ],
 "metadata": {
  "kernelspec": {
   "display_name": "Python 3",
   "language": "python",
   "name": "python3"
  },
  "language_info": {
   "codemirror_mode": {
    "name": "ipython",
    "version": 3
   },
   "file_extension": ".py",
   "mimetype": "text/x-python",
   "name": "python",
   "nbconvert_exporter": "python",
   "pygments_lexer": "ipython3",
   "version": "3.12.4"
  }
 },
 "nbformat": 4,
 "nbformat_minor": 2
}
