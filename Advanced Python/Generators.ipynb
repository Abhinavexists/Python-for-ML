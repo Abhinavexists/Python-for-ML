{
 "cells": [
  {
   "cell_type": "markdown",
   "metadata": {},
   "source": [
    "### Generators\n",
    "Generators are a simpler way to create iterators. They use the yield keyword to produce a series of values lazily, which means they generate values on the fly and do not store them in memory."
   ]
  },
  {
   "cell_type": "code",
   "execution_count": 5,
   "metadata": {},
   "outputs": [],
   "source": [
    "def square(n):\n",
    "    for i in range(3):\n",
    "        yield i**2 # this yield keyword will create a local variable"
   ]
  },
  {
   "cell_type": "code",
   "execution_count": 6,
   "metadata": {},
   "outputs": [
    {
     "data": {
      "text/plain": [
       "<generator object square at 0x0000021B1A9DACF0>"
      ]
     },
     "execution_count": 6,
     "metadata": {},
     "output_type": "execute_result"
    }
   ],
   "source": [
    "square(3)"
   ]
  },
  {
   "cell_type": "code",
   "execution_count": 7,
   "metadata": {},
   "outputs": [
    {
     "name": "stdout",
     "output_type": "stream",
     "text": [
      "0\n",
      "1\n",
      "4\n"
     ]
    }
   ],
   "source": [
    "for i in square(3):\n",
    "    print(i)"
   ]
  },
  {
   "cell_type": "code",
   "execution_count": 8,
   "metadata": {},
   "outputs": [
    {
     "data": {
      "text/plain": [
       "<generator object square at 0x0000021B1AA66DC0>"
      ]
     },
     "execution_count": 8,
     "metadata": {},
     "output_type": "execute_result"
    }
   ],
   "source": [
    "a = square(3)\n",
    "a"
   ]
  },
  {
   "cell_type": "code",
   "execution_count": 12,
   "metadata": {},
   "outputs": [
    {
     "ename": "StopIteration",
     "evalue": "",
     "output_type": "error",
     "traceback": [
      "\u001b[1;31m---------------------------------------------------------------------------\u001b[0m",
      "\u001b[1;31mStopIteration\u001b[0m                             Traceback (most recent call last)",
      "Cell \u001b[1;32mIn[12], line 1\u001b[0m\n\u001b[1;32m----> 1\u001b[0m \u001b[38;5;28mnext\u001b[39m(a)\n",
      "\u001b[1;31mStopIteration\u001b[0m: "
     ]
    }
   ],
   "source": [
    "next(a)"
   ]
  },
  {
   "cell_type": "code",
   "execution_count": 1,
   "metadata": {},
   "outputs": [],
   "source": [
    "def my_generator():\n",
    "    yield 1\n",
    "    yield 2\n",
    "    yield 3\n"
   ]
  },
  {
   "cell_type": "code",
   "execution_count": 2,
   "metadata": {},
   "outputs": [
    {
     "data": {
      "text/plain": [
       "<generator object my_generator at 0x000001E9D25B01A0>"
      ]
     },
     "execution_count": 2,
     "metadata": {},
     "output_type": "execute_result"
    }
   ],
   "source": [
    "gen = my_generator()\n",
    "gen"
   ]
  },
  {
   "cell_type": "code",
   "execution_count": 5,
   "metadata": {},
   "outputs": [
    {
     "ename": "StopIteration",
     "evalue": "",
     "output_type": "error",
     "traceback": [
      "\u001b[1;31m---------------------------------------------------------------------------\u001b[0m",
      "\u001b[1;31mStopIteration\u001b[0m                             Traceback (most recent call last)",
      "Cell \u001b[1;32mIn[5], line 1\u001b[0m\n\u001b[1;32m----> 1\u001b[0m \u001b[38;5;28mnext\u001b[39m(gen)\n",
      "\u001b[1;31mStopIteration\u001b[0m: "
     ]
    }
   ],
   "source": [
    "next(gen)"
   ]
  },
  {
   "cell_type": "code",
   "execution_count": 6,
   "metadata": {},
   "outputs": [],
   "source": [
    "### practical : reading large files\n",
    "\n",
    "def read_large_files(filepath):\n",
    "    with open(filepath , 'r') as file:\n",
    "        for line in file:\n",
    "            yield line\n"
   ]
  },
  {
   "cell_type": "code",
   "execution_count": 7,
   "metadata": {},
   "outputs": [
    {
     "name": "stdout",
     "output_type": "stream",
     "text": [
      "The Power of GitHub: Revolutionizing Software Development and Collaboration\n",
      "GitHub, a web-based platform that facilitates version control and collaborative software development, has become an indispensable tool for millions of developers around the world. Since its launch in 2008, GitHub has transformed the way software is built, maintained, and shared. This essay delves into the multifaceted impact of GitHub on the software industry, highlighting its role in fostering collaboration, improving code quality, promoting open-source contributions, and shaping the future of software development.\n",
      "\n",
      "A Platform for Collaboration\n",
      "One of GitHub's most significant contributions to the software development landscape is its ability to foster collaboration among developers, regardless of geographical location. With features like pull requests, code reviews, and issue tracking, GitHub enables teams to work together seamlessly. The platform's distributed version control system, Git, allows multiple developers to work on the same project simultaneously without fear of overwriting each other's changes. This has made it easier for teams to collaborate on complex projects, leading to faster development cycles and more innovative solutions.\n",
      "\n",
      "GitHub's collaborative features have also democratized software development by making it accessible to a broader audience. Developers from different backgrounds, skill levels, and regions can contribute to projects, learn from each other's work, and improve their coding skills. This has led to a more inclusive and diverse software development community, where ideas and contributions from a wide range of perspectives are valued and encouraged.\n",
      "\n",
      "Improving Code Quality\n",
      "GitHub has played a crucial role in improving code quality across the software industry. With features like automated testing, continuous integration, and code review workflows, GitHub enables developers to catch bugs and issues early in the development process. Automated testing ensures that code changes do not introduce regressions or break existing functionality, while continuous integration helps teams maintain a stable and reliable codebase.\n",
      "\n",
      "Code reviews, a core feature of GitHub, have become an industry standard for ensuring code quality. By allowing developers to review each other's code before it is merged into the main branch, GitHub promotes best practices, encourages adherence to coding standards, and fosters knowledge sharing within teams. This peer review process helps catch potential issues that automated tests might miss and leads to better overall software quality.\n",
      "\n",
      "Moreover, GitHub's extensive ecosystem of third-party integrations and tools has further enhanced the development workflow. Developers can integrate their repositories with tools for code analysis, security scanning, performance monitoring, and more. These integrations provide valuable insights into code quality and security, enabling teams to build more robust and secure applications.\n",
      "\n",
      "Promoting Open Source\n",
      "GitHub has had a profound impact on the open-source software movement. By providing a platform where developers can freely share their code, collaborate on projects, and contribute to open-source initiatives, GitHub has become the de facto hub for open-source development. Thousands of popular open-source projects, from programming languages like Python and Ruby to frameworks like React and Angular, are hosted on GitHub, making it easier for developers to find, contribute to, and use open-source software.\n",
      "\n",
      "The platform's open nature has encouraged more developers to contribute to open-source projects, either by submitting code, reporting bugs, or improving documentation. This has led to the rapid growth of the open-source ecosystem, with projects receiving contributions from a global community of developers. As a result, open-source software has become a driving force behind much of the innovation in the tech industry, powering everything from web applications to operating systems.\n",
      "\n",
      "GitHub has also made it easier for companies to embrace open-source development. Many organizations now use GitHub to host their open-source projects, allowing them to benefit from the contributions and feedback of the broader developer community. This collaborative approach has led to faster development cycles, better software quality, and increased adoption of open-source solutions in the enterprise.\n",
      "\n",
      "Shaping the Future of Software Development\n",
      "GitHub's influence on the future of software development cannot be overstated. As the platform continues to evolve, it is poised to shape the way software is built, shared, and maintained for years to come. One of the most significant trends driven by GitHub is the rise of \"DevOps\" practices, which aim to streamline the development, testing, and deployment of software. GitHub's integration with continuous integration/continuous deployment (CI/CD) pipelines has made it easier for teams to automate their workflows and deliver software faster and with greater confidence.\n",
      "\n",
      "In addition, GitHub's role in the growing field of AI-powered development is becoming increasingly important. With the advent of tools like GitHub Copilot, an AI-powered code completion tool, developers are gaining access to new ways of writing code more efficiently. Copilot uses machine learning models trained on vast amounts of publicly available code to suggest context-aware code completions, helping developers write better code faster. This innovation has the potential to revolutionize how developers interact with code and accelerate the development process.\n",
      "\n",
      "Furthermore, GitHub's impact on education and learning is profound. Many universities and coding boot camps have integrated GitHub into their curricula, teaching students how to use version control and collaborate on code in real-world scenarios. The platform has become an essential tool for aspiring developers, providing them with a portfolio of work that showcases their skills to potential employers. GitHub's vast repository of open-source projects also serves as a valuable learning resource, allowing developers to study and contribute to high-quality code written by experienced professionals.\n",
      "\n",
      "Conclusion\n",
      "GitHub has fundamentally changed the way software is developed, shared, and maintained. Its powerful collaboration features, emphasis on code quality, support for open-source development, and influence on emerging trends like DevOps and AI-powered coding have made it an essential tool for developers worldwide. As the platform continues to evolve, GitHub will undoubtedly remain at the forefront of innovation in the software industry, shaping the future of software development for years to come.\n",
      "\n",
      "\n",
      "\n",
      "\n",
      "\n",
      "\n"
     ]
    }
   ],
   "source": [
    "filepath = \"largefile.txt\"\n",
    "\n",
    "for line in read_large_files(filepath):\n",
    "    print(line.strip())"
   ]
  }
 ],
 "metadata": {
  "kernelspec": {
   "display_name": "base",
   "language": "python",
   "name": "python3"
  },
  "language_info": {
   "codemirror_mode": {
    "name": "ipython",
    "version": 3
   },
   "file_extension": ".py",
   "mimetype": "text/x-python",
   "name": "python",
   "nbconvert_exporter": "python",
   "pygments_lexer": "ipython3",
   "version": "3.12.4"
  }
 },
 "nbformat": 4,
 "nbformat_minor": 2
}
