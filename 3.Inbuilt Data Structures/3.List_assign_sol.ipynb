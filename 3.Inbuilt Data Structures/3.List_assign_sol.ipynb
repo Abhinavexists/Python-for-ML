{
 "cells": [
  {
   "cell_type": "code",
   "execution_count": 3,
   "metadata": {},
   "outputs": [
    {
     "name": "stdout",
     "output_type": "stream",
     "text": [
      "[1, 2, 3, 4, 5, 6, 7, 8, 9, 10, 11, 12, 13, 14, 15, 16, 17, 18, 19, 20]\n"
     ]
    }
   ],
   "source": [
    "# Assignment 1: Creating and Accessing Lists\n",
    "# Create a list of the first 20 positive integers. Print the list.\n",
    "\n",
    "lst = list(range(1,21))\n",
    "print(lst)"
   ]
  },
  {
   "cell_type": "code",
   "execution_count": 16,
   "metadata": {},
   "outputs": [
    {
     "name": "stdout",
     "output_type": "stream",
     "text": [
      "1\n",
      "11\n",
      "20\n"
     ]
    }
   ],
   "source": [
    "# Assignment 2: Accessing List Elements\n",
    "# Print the first, middle, and last elements of the list created in Assignment 1.\n",
    "\n",
    "print(lst[0])\n",
    "print(lst[len(lst)//2])\n",
    "print(lst[-1])\n"
   ]
  },
  {
   "cell_type": "code",
   "execution_count": 22,
   "metadata": {},
   "outputs": [
    {
     "name": "stdout",
     "output_type": "stream",
     "text": [
      "[1, 2, 3, 4, 5]\n",
      "[16, 17, 18, 19, 20]\n",
      "[6, 7, 8, 9, 10, 11, 12, 13, 14, 15]\n"
     ]
    }
   ],
   "source": [
    "# Print the first five elements, the last five elements, and the elements from index 5 to 15 of the list created in Assignment 1.\n",
    "print(lst[:5])\n",
    "print(lst[-5:])\n",
    "print(lst[5:15])"
   ]
  },
  {
   "cell_type": "code",
   "execution_count": 23,
   "metadata": {},
   "outputs": [
    {
     "name": "stdout",
     "output_type": "stream",
     "text": [
      "[0, 1, 4, 9, 16, 25, 36, 49, 64, 81]\n"
     ]
    }
   ],
   "source": [
    "# Create a new list containing the squares of the first 10 positive integers using a list comprehension. Print the new list.\n",
    "\n",
    "square_list =[x**2 for x in range(10)]\n",
    "print(square_list)"
   ]
  },
  {
   "cell_type": "code",
   "execution_count": 24,
   "metadata": {},
   "outputs": [
    {
     "name": "stdout",
     "output_type": "stream",
     "text": [
      "[0, 2, 4, 6, 8, 10, 12, 14, 16, 18]\n"
     ]
    }
   ],
   "source": [
    "# Create a new list containing only the even numbers from the list created in Assignment 1 using a list comprehension. Print the new list.\n",
    "even_num =[x for x in range(20) if x%2==0]\n",
    "print(even_num)"
   ]
  },
  {
   "cell_type": "code",
   "execution_count": 30,
   "metadata": {},
   "outputs": [
    {
     "name": "stdout",
     "output_type": "stream",
     "text": [
      "[1, 1, 2, 2, 3, 3, 4, 4, 5, 5, 6, 7, 7, 7, 7, 8, 9, 9]\n",
      "[9, 9, 8, 7, 7, 7, 7, 6, 5, 5, 4, 4, 3, 3, 2, 2, 1, 1]\n",
      "[1, 2, 3, 4, 5, 6, 7, 8, 9]\n"
     ]
    }
   ],
   "source": [
    "# Create a list of random numbers and sort it in ascending and descending order. Remove the duplicates from the list and print the modified list.\n",
    "random_lst = [1,2,5,4,6,7,7,7,7,8,9,3,4,5,9,1,3,2]\n",
    "sorted_lst = sorted(random_lst)\n",
    "print(sorted_lst) #ascending order\n",
    "\n",
    "dec_list = sorted(random_lst , reverse = True)\n",
    "print(dec_list) #decending order\n",
    "\n",
    "duplicates_lst = list(set(sorted_lst))\n",
    "print(duplicates_lst) #removede duplicates"
   ]
  },
  {
   "cell_type": "code",
   "execution_count": 37,
   "metadata": {},
   "outputs": [
    {
     "name": "stdout",
     "output_type": "stream",
     "text": [
      "[{1, 4}, {1, 5}, {1, 6}, {2, 4}, {2, 5}, {2, 6}, {3, 4}, {3, 5}, {3, 6}]\n"
     ]
    }
   ],
   "source": [
    "# Create a nested list representing a 3x3 matrix and print the matrix. Access and print the element at the second row and third column.\n",
    "\n",
    "lst1 = [1,2,3]\n",
    "lst2 = [4,5,6]\n",
    "\n",
    "matrix = [{i,j} for i in lst1 for j in lst2]\n",
    "print(matrix)"
   ]
  },
  {
   "cell_type": "code",
   "execution_count": 35,
   "metadata": {},
   "outputs": [
    {
     "name": "stdout",
     "output_type": "stream",
     "text": [
      "Matrix:\n",
      "[1, 2, 3]\n",
      "[4, 5, 6]\n",
      "[7, 8, 9]\n",
      "Element at second row and third column: 6\n"
     ]
    }
   ],
   "source": [
    "matrix = [\n",
    "    [1, 2, 3],\n",
    "    [4, 5, 6],\n",
    "    [7, 8, 9]\n",
    "]\n",
    "print(\"Matrix:\")\n",
    "for row in matrix:\n",
    "    print(row)\n",
    "print(f\"Element at second row and third column: {matrix[1][2]}\")"
   ]
  },
  {
   "cell_type": "code",
   "execution_count": 44,
   "metadata": {},
   "outputs": [
    {
     "name": "stdout",
     "output_type": "stream",
     "text": [
      "[{'name': 'ritu', 'score': 75}, {'name': 'Abhinav', 'score': 77}, {'name': 'dhanoo', 'score': 78}]\n",
      "[{'name': 'dhanoo', 'score': 78}, {'name': 'Abhinav', 'score': 77}, {'name': 'ritu', 'score': 75}]\n"
     ]
    }
   ],
   "source": [
    "# Create a list of dictionaries where each dictionary represents a student with keys 'name' and 'score'. Sort the list of dictionaries by the 'score' in descending order and print the sorted list.\n",
    "\n",
    "dict_lst = [{'name':\"Abhinav\" , 'score':77} , {'name':\"dhanoo\" , 'score':78},{'name':\"ritu\" , 'score':75}]\n",
    "sorted_dict_lst = sorted(dict_lst, key=lambda x:x['score'])\n",
    "print(sorted_dict_lst)\n",
    "rev_sorted_dict_lst = sorted(dict_lst, key=lambda x:x['score'] ,reverse = True)\n",
    "print(rev_sorted_dict_lst)\n"
   ]
  },
  {
   "cell_type": "code",
   "execution_count": 52,
   "metadata": {},
   "outputs": [
    {
     "name": "stdout",
     "output_type": "stream",
     "text": [
      "Original matrix:\n",
      "[1, 2, 3]\n",
      "[4, 5, 6]\n",
      "[7, 8, 9]\n",
      "Transpose Matrix:\n",
      "[1, 2, 3]\n",
      "[4, 5, 6]\n",
      "[7, 8, 9]\n"
     ]
    }
   ],
   "source": [
    "# Write a function that takes a 3x3 matrix (nested list) as input and returns its transpose. Print the original and transposed matrices.\n",
    "def transpose_matrix(matrix):\n",
    "    return[[matrix[i][j] for j in range(len(matrix))] for i in range(len(matrix[0]))]\n",
    "\n",
    "matrix = [\n",
    "    [1, 2, 3],\n",
    "    [4, 5, 6],\n",
    "    [7, 8, 9]\n",
    "]\n",
    "\n",
    "transpose = transpose_matrix(matrix)\n",
    "print(\"Original matrix:\")\n",
    "for row in matrix:\n",
    "    print(row)\n",
    "print(\"Transpose Matrix:\")\n",
    "for row in transpose:\n",
    "    print(row)\n"
   ]
  },
  {
   "cell_type": "code",
   "execution_count": 54,
   "metadata": {},
   "outputs": [
    {
     "name": "stdout",
     "output_type": "stream",
     "text": [
      "[1, 2, 3, 4, 5, 6, 7, 8, 9]\n"
     ]
    }
   ],
   "source": [
    "# Write a function that takes a nested list and flattens it into a single list. Print the original and flattened lists.\n",
    "\n",
    "def flatten_list(nest_lst):\n",
    "   flat_lst =[items for sublist in nest_lst for items in sublist]\n",
    "   return flat_lst\n",
    "\n",
    "nest_lst = [\n",
    "    [1, 2, 3],\n",
    "    [4, 5, 6],\n",
    "    [7, 8, 9]\n",
    "]\n",
    "\n",
    "flattened_lst = flatten_list(nest_lst)\n",
    "print(flattened_lst)"
   ]
  },
  {
   "cell_type": "code",
   "execution_count": 56,
   "metadata": {},
   "outputs": [
    {
     "name": "stdout",
     "output_type": "stream",
     "text": [
      "[1, 3, 5, 7, 8, 9, 10]\n"
     ]
    }
   ],
   "source": [
    "# Create a list of the first 10 positive integers. Remove the elements at indices 2, 4, and 6, and insert the element '99' at index 5. Print the modified list.\n",
    "\n",
    "my_lst = [1,2,3,4,5,6,7,8,9,10]\n",
    "my_lst.remove(2)\n",
    "my_lst.remove(4) #this removes the element not the indices \n",
    "my_lst.remove(6)\n",
    "print(my_lst)"
   ]
  },
  {
   "cell_type": "code",
   "execution_count": 61,
   "metadata": {},
   "outputs": [
    {
     "name": "stdout",
     "output_type": "stream",
     "text": [
      "modified list is [1, 2, 4, 5, 7, 8, 10]\n",
      "[1, 2, 4, 5, 7, 99, 8, 10]\n"
     ]
    }
   ],
   "source": [
    "my_lst = [1,2,3,4,5,6,7,8,9,10]\n",
    "del my_lst[2]\n",
    "del my_lst[4]\n",
    "del my_lst[6]\n",
    "print(f\"modified list is {my_lst}\")\n",
    "\n",
    "mod_lst = my_lst.insert(5, 99)\n",
    "print(my_lst)"
   ]
  },
  {
   "cell_type": "code",
   "execution_count": 63,
   "metadata": {},
   "outputs": [
    {
     "name": "stdout",
     "output_type": "stream",
     "text": [
      "[(1, 6), (2, 7), (3, 8), (4, 9), (5, 0)]\n"
     ]
    }
   ],
   "source": [
    "# Assignment 12: List Zipping\n",
    "# Create two lists of the same length. Use the `zip` function to combine these lists into a list of tuples and print the result.\n",
    "\n",
    "lst1 = [1,2,3,4,5]\n",
    "lst2 = [6,7,8,9,0]\n",
    "\n",
    "zip_lst = list(zip(lst1, lst2))\n",
    "print(zip_lst)"
   ]
  },
  {
   "cell_type": "code",
   "execution_count": 2,
   "metadata": {},
   "outputs": [
    {
     "name": "stdout",
     "output_type": "stream",
     "text": [
      "[6, 5, 4, 3, 2, 1]\n",
      "[1, 2, 3, 4, 5, 6]\n"
     ]
    }
   ],
   "source": [
    "# Write a function that takes a list and returns a new list with the elements in reverse order. Print the original and reversed lists.\n",
    "\n",
    "def reversed_list(original_lst):\n",
    "    return original_lst[::-1]\n",
    "\n",
    "original_list = [1,2,3,4,5,6]\n",
    "\n",
    "reverse_lst = reversed_list(original_list)\n",
    "print(reverse_lst)\n",
    "print(original_list)"
   ]
  },
  {
   "cell_type": "code",
   "execution_count": 4,
   "metadata": {},
   "outputs": [
    {
     "name": "stdout",
     "output_type": "stream",
     "text": [
      "[4, 5, 6, 7, 1, 2, 3]\n"
     ]
    }
   ],
   "source": [
    "# Write a function that rotates a list by n positions. Print the original and rotated lists.\n",
    "\n",
    "def rotated_list(lst , n):\n",
    "    return lst[n:] + lst[:n]\n",
    "\n",
    "lst = [1,2,3,4,5,6,7]\n",
    "rotate_list = rotated_list(lst , 3)\n",
    "print(rotate_list)"
   ]
  },
  {
   "cell_type": "code",
   "execution_count": 7,
   "metadata": {},
   "outputs": [
    {
     "name": "stdout",
     "output_type": "stream",
     "text": [
      "[4, 5]\n"
     ]
    }
   ],
   "source": [
    "# Write a function that takes two lists and returns a new list containing only the elements that are present in both lists. Print the intersected list.\n",
    "\n",
    "\n",
    "lst1 = [1,2,3,4,5]\n",
    "lst2 = [4,5,6,7,8,9,0]\n",
    "\n",
    "def list_intersection(lst1 , lst2):\n",
    "    return [x for x in lst1 if x in lst2]\n",
    "\n",
    "intersected_lst = list_intersection(lst1 , lst2)\n",
    "print(intersected_lst)\n",
    "\n"
   ]
  }
 ],
 "metadata": {
  "kernelspec": {
   "display_name": "Python 3",
   "language": "python",
   "name": "python3"
  },
  "language_info": {
   "codemirror_mode": {
    "name": "ipython",
    "version": 3
   },
   "file_extension": ".py",
   "mimetype": "text/x-python",
   "name": "python",
   "nbconvert_exporter": "python",
   "pygments_lexer": "ipython3",
   "version": "3.12.4"
  }
 },
 "nbformat": 4,
 "nbformat_minor": 2
}
