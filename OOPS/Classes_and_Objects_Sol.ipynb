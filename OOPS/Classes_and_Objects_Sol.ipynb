{
 "cells": [
  {
   "cell_type": "markdown",
   "metadata": {},
   "source": [
    "### Assignment 1: Basic Class and Object Creation\n",
    "\n",
    "Create a class named `Car` with attributes `make`, `model`, and `year`. Create an object of the class and print its attributes."
   ]
  },
  {
   "cell_type": "code",
   "execution_count": 7,
   "metadata": {},
   "outputs": [
    {
     "name": "stdout",
     "output_type": "stream",
     "text": [
      "<__main__.Car object at 0x000001FB1D60EC60>\n",
      "Sedan : Tesla : 2020\n"
     ]
    }
   ],
   "source": [
    "class Car:\n",
    "    def __init__(self,make,model,year):\n",
    "        self.make = make\n",
    "        self.model = model \n",
    "        self.year = year\n",
    "\n",
    "Car1 = Car(\"Sedan\",\"Tesla\",2020)\n",
    "print(Car1)\n",
    "print(f\"{Car1.make} : {Car1.model} : {Car1.year}\")"
   ]
  },
  {
   "cell_type": "markdown",
   "metadata": {},
   "source": [
    "### Assignment 2: Methods in Class\n",
    "\n",
    "Add a method named `start_engine` to the `Car` class that prints a message when the engine starts. Create an object of the class and call the method."
   ]
  },
  {
   "cell_type": "code",
   "execution_count": 13,
   "metadata": {},
   "outputs": [
    {
     "name": "stdout",
     "output_type": "stream",
     "text": [
      "<__main__.Car object at 0x000001FB1D60E180>\n",
      "Sedan : Tesla : 2020\n",
      "The engine is started\n"
     ]
    }
   ],
   "source": [
    "class Car:\n",
    "    def __init__(self,make,model,year):\n",
    "        self.make = make\n",
    "        self.model = model \n",
    "        self.year = year\n",
    "     \n",
    "    def Start_engine(self):\n",
    "        print(\"The engine is started\")\n",
    "\n",
    "\n",
    "Car1 = Car(\"Sedan\",\"Tesla\",2020)\n",
    "print(Car1)\n",
    "print(f\"{Car1.make} : {Car1.model} : {Car1.year}\")\n",
    "Car1.Start_engine()"
   ]
  },
  {
   "cell_type": "markdown",
   "metadata": {},
   "source": [
    "### Assignment 3: Class with Constructor\n",
    "\n",
    "Create a class named `Student` with attributes `name` and `age`. Use a constructor to initialize these attributes. Create an object of the class and print its attributes."
   ]
  },
  {
   "cell_type": "code",
   "execution_count": 15,
   "metadata": {},
   "outputs": [
    {
     "name": "stdout",
     "output_type": "stream",
     "text": [
      "Rakesh : 22\n"
     ]
    }
   ],
   "source": [
    "class Student:\n",
    "    def __init__(self,name,age):\n",
    "        self.name = name\n",
    "        self.age = age\n",
    "\n",
    "Student1 = Student(\"Rakesh\",22)\n",
    "print(f\"{Student1.name} : {Student1.age}\")"
   ]
  },
  {
   "cell_type": "markdown",
   "metadata": {},
   "source": [
    "### Assignment 4: Class with Private Attributes\n",
    "\n",
    "Create a class named `BankAccount` with private attributes `account_number` and `balance`. Add methods to deposit and withdraw money, and to check the balance. Create an object of the class and perform some operations.\n"
   ]
  },
  {
   "cell_type": "code",
   "execution_count": 29,
   "metadata": {},
   "outputs": [
    {
     "name": "stdout",
     "output_type": "stream",
     "text": [
      "Account Number : 1234 , Balance : 10000\n"
     ]
    }
   ],
   "source": [
    "class BankAccount:\n",
    "    def __init__(self ,account_number , balance):\n",
    "        self.__account_number = account_number\n",
    "        self.__balance = balance\n",
    "\n",
    "    def Deposit(self , amount):\n",
    "        self.__balance += amount\n",
    "        print(f\"Cash Deposited : {amount} , Total Balance : {self.__balance}\")\n",
    "\n",
    "    def Withdrawl(self , amount):\n",
    "        if amount > self.__balance:\n",
    "            print(\"Insufficient Balance\")\n",
    "        else:\n",
    "            self.__balance -= amount\n",
    "            print(f\"Withdrawl Amount : {amount}  , Total Balance : {self.__balance}\")\n",
    "    \n",
    "    def CheckBalance(self):\n",
    "        return self.__balance\n",
    "    \n",
    "     # Getter for account number\n",
    "    def get_account_number(self):\n",
    "        return self.__account_number\n",
    "    \n",
    "account  = BankAccount(1234 , 10000)\n",
    "print(f\"Account Number : {account.get_account_number()} , Balance : {account.CheckBalance()}\")\n",
    "    \n"
   ]
  },
  {
   "cell_type": "code",
   "execution_count": 20,
   "metadata": {},
   "outputs": [
    {
     "name": "stdout",
     "output_type": "stream",
     "text": [
      "Cash Deposited : 2000 , Total Balance : 12000\n"
     ]
    }
   ],
   "source": [
    "account.Deposit(2000)"
   ]
  },
  {
   "cell_type": "code",
   "execution_count": 21,
   "metadata": {},
   "outputs": [
    {
     "name": "stdout",
     "output_type": "stream",
     "text": [
      "Withdrawl Amount : 3450  , Total Balance : 8550\n"
     ]
    }
   ],
   "source": [
    "account.Withdrawl(3450)"
   ]
  },
  {
   "cell_type": "code",
   "execution_count": 23,
   "metadata": {},
   "outputs": [
    {
     "data": {
      "text/plain": [
       "8550"
      ]
     },
     "execution_count": 23,
     "metadata": {},
     "output_type": "execute_result"
    }
   ],
   "source": [
    "account.CheckBalance()"
   ]
  },
  {
   "cell_type": "markdown",
   "metadata": {},
   "source": [
    "### Assignment 5: Class Inheritance\n",
    "\n",
    "Create a base class named `Person` with attributes `name` and `age`. Create a derived class named `Employee` that inherits from `Person` and adds an attribute `employee_id`. Create an object of the derived class and print its attributes."
   ]
  },
  {
   "cell_type": "code",
   "execution_count": null,
   "metadata": {},
   "outputs": [],
   "source": []
  }
 ],
 "metadata": {
  "kernelspec": {
   "display_name": "base",
   "language": "python",
   "name": "python3"
  },
  "language_info": {
   "codemirror_mode": {
    "name": "ipython",
    "version": 3
   },
   "file_extension": ".py",
   "mimetype": "text/x-python",
   "name": "python",
   "nbconvert_exporter": "python",
   "pygments_lexer": "ipython3",
   "version": "3.12.4"
  }
 },
 "nbformat": 4,
 "nbformat_minor": 2
}
