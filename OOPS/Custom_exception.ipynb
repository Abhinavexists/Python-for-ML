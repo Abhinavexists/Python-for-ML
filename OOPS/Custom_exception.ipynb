{
 "cells": [
  {
   "cell_type": "markdown",
   "metadata": {},
   "source": [
    "### Custom Exception (Raise and Throw an Exception)"
   ]
  },
  {
   "cell_type": "code",
   "execution_count": null,
   "metadata": {},
   "outputs": [],
   "source": [
    "class Error(Exception):\n",
    "    pass\n",
    "\n",
    "class dobException(Error):\n",
    "    pass\n"
   ]
  },
  {
   "cell_type": "code",
   "execution_count": 2,
   "metadata": {},
   "outputs": [
    {
     "name": "stdout",
     "output_type": "stream",
     "text": [
      "Ther age is valid , you can apply for exams\n"
     ]
    }
   ],
   "source": [
    "year=int(input(\"Enter the Date of Birth\"))\n",
    "age = 2024 - year\n",
    "\n",
    "try:\n",
    "    if age <= 30 and age >= 20:\n",
    "        print(\"Ther age is valid , you can apply for exams\")\n",
    "    else:\n",
    "        raise dobException\n",
    "except dobException:\n",
    "    print(\"Sorry , You are not eligible\")\n"
   ]
  }
 ],
 "metadata": {
  "kernelspec": {
   "display_name": "base",
   "language": "python",
   "name": "python3"
  },
  "language_info": {
   "codemirror_mode": {
    "name": "ipython",
    "version": 3
   },
   "file_extension": ".py",
   "mimetype": "text/x-python",
   "name": "python",
   "nbconvert_exporter": "python",
   "pygments_lexer": "ipython3",
   "version": "3.12.4"
  }
 },
 "nbformat": 4,
 "nbformat_minor": 2
}
