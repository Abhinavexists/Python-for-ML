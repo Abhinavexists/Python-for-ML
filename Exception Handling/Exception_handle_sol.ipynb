{
 "cells": [
  {
   "cell_type": "code",
   "execution_count": 5,
   "metadata": {},
   "outputs": [
    {
     "name": "stdout",
     "output_type": "stream",
     "text": [
      "division by zero\n",
      "The Denominator is less than 0\n"
     ]
    }
   ],
   "source": [
    "# Write a function that takes two integers as input and returns their division. Use try, except, and finally blocks to handle division by zero and print an appropriate message.\n",
    "\n",
    "def division(int1 , int2):\n",
    "    try:\n",
    "        div = int1/int2\n",
    "    except ValueError as ve:\n",
    "        print(ve)\n",
    "        print(\"Wrong input Value\")\n",
    "    except ZeroDivisionError as zd:\n",
    "        print(zd)\n",
    "        print(\"The Denominator is less than 0\")\n",
    "    except Exception as ex:\n",
    "        print(ex)\n",
    "\n",
    "int1 = int(input('enter First number'))\n",
    "int2 = int(input('enter second number'))\n",
    "division(int1 ,int2)\n",
    "    "
   ]
  },
  {
   "cell_type": "code",
   "execution_count": null,
   "metadata": {},
   "outputs": [],
   "source": [
    "# Write a function that reads the contents of a file named `data.txt`. Use try, except, and finally blocks to handle file not found errors and ensure the file is properly closed."
   ]
  }
 ],
 "metadata": {
  "kernelspec": {
   "display_name": "Python 3",
   "language": "python",
   "name": "python3"
  },
  "language_info": {
   "codemirror_mode": {
    "name": "ipython",
    "version": 3
   },
   "file_extension": ".py",
   "mimetype": "text/x-python",
   "name": "python",
   "nbconvert_exporter": "python",
   "pygments_lexer": "ipython3",
   "version": "3.12.4"
  }
 },
 "nbformat": 4,
 "nbformat_minor": 2
}
