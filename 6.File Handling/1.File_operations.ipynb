{
 "cells": [
  {
   "cell_type": "code",
   "execution_count": 3,
   "metadata": {},
   "outputs": [
    {
     "name": "stdout",
     "output_type": "stream",
     "text": [
      "You are all set to attend Code Cubicle 2.0. \n",
      "Travel safe and if you have any questions reach out to Code Cubicle 2.0 organizers.\n"
     ]
    }
   ],
   "source": [
    "# read a whole file\n",
    "\n",
    "with open('example.txt' , 'r') as file: # r tells the file is opne only in read mode and you can't write\n",
    "    content = file.read()\n",
    "    print(content)"
   ]
  },
  {
   "cell_type": "code",
   "execution_count": 5,
   "metadata": {},
   "outputs": [
    {
     "name": "stdout",
     "output_type": "stream",
     "text": [
      "You are all set to attend Code Cubicle 2.0. \n",
      "\n",
      "Travel safe and if you have any questions reach out to Code Cubicle 2.0 organizers.\n"
     ]
    }
   ],
   "source": [
    "# read a whole file line by line\n",
    "\n",
    "with open('example.txt' , 'r') as file:\n",
    "    for line in file:\n",
    "        print(line) # there is new line which is also getting added"
   ]
  },
  {
   "cell_type": "code",
   "execution_count": 6,
   "metadata": {},
   "outputs": [
    {
     "name": "stdout",
     "output_type": "stream",
     "text": [
      "You are all set to attend Code Cubicle 2.0.\n",
      "Travel safe and if you have any questions reach out to Code Cubicle 2.0 organizers.\n"
     ]
    }
   ],
   "source": [
    "with open('example.txt' , 'r') as file:\n",
    "    for line in file:\n",
    "        print(line.strip()) # strip() removes the newline character"
   ]
  },
  {
   "cell_type": "code",
   "execution_count": 7,
   "metadata": {},
   "outputs": [],
   "source": [
    "#write in a file(with overwriting)\n",
    "\n",
    "with open('example.txt', 'w') as file:\n",
    "          file.write(\"i am going to write a new text\\n\")\n",
    "          file.write(\"this will remove the previous text as it treats the file as an empty file\\n\") # this can be a problem"
   ]
  },
  {
   "cell_type": "code",
   "execution_count": 8,
   "metadata": {},
   "outputs": [],
   "source": [
    "# write in a file(without overwriting)\n",
    "\n",
    "with open('example.txt' , 'a') as file: # a stands for append\n",
    "    file.write(\"the append mode will write the text without removing previous one\\n\")\n",
    "    file.write(\"this keeps the file intact\\n\")"
   ]
  },
  {
   "cell_type": "code",
   "execution_count": 10,
   "metadata": {},
   "outputs": [],
   "source": [
    "# write multiple lines or a list of lines\n",
    "lines = ['this is first line\\n','this is second line\\n','this is third line\\n']\n",
    "with open('example.txt','a') as file:\n",
    "    file.writelines(lines)"
   ]
  },
  {
   "cell_type": "code",
   "execution_count": 11,
   "metadata": {},
   "outputs": [],
   "source": [
    "#binary files\n",
    "\n",
    "data = b'\\x01\\x02\\x03\\x04'\n",
    "with open('example.bin' , 'wb') as file:\n",
    "    file.write(data)"
   ]
  },
  {
   "cell_type": "code",
   "execution_count": 13,
   "metadata": {},
   "outputs": [
    {
     "name": "stdout",
     "output_type": "stream",
     "text": [
      "b'\\x01\\x02\\x03\\x04'\n"
     ]
    }
   ],
   "source": [
    "#read binary files\n",
    "\n",
    "with open('example.bin','rb') as file:\n",
    "    content=file.read()\n",
    "    print(content)"
   ]
  },
  {
   "cell_type": "code",
   "execution_count": 14,
   "metadata": {},
   "outputs": [],
   "source": [
    "#read a content form a source file and and write it on a destination file\n",
    "\n",
    "with open('example.txt', 'r') as file:\n",
    "    content = file.read()\n",
    "\n",
    "with open('destination.txt' , 'w') as file:\n",
    "    file.write(content)"
   ]
  },
  {
   "cell_type": "code",
   "execution_count": 23,
   "metadata": {},
   "outputs": [
    {
     "name": "stdout",
     "output_type": "stream",
     "text": [
      "lines:7 , words:60 , characters:311\n"
     ]
    }
   ],
   "source": [
    "# read the text file and count the number of lines words and characters\n",
    "\n",
    "def count_text_file(file_path):\n",
    "    with open(file_path , 'r') as file:\n",
    "        lines = file.readlines()\n",
    "        line_count = len(lines)\n",
    "        word_count = sum(len(line.split()) for line in lines)\n",
    "        char_count = sum(len(line) for line in lines)\n",
    "        return line_count , word_count , char_count\n",
    "    \n",
    "file_path = 'example.txt'\n",
    "lines , words , characters = count_text_file(file_path)\n",
    "print(f\"lines:{lines} , words:{words} , characters:{characters}\")"
   ]
  },
  {
   "cell_type": "markdown",
   "metadata": {},
   "source": [
    "The w+ mode in Python is used to open a file for both reading and writing. If the file does not exist, it will be created. If the file exists, its content is truncated (i.e., the file is overwritten)."
   ]
  },
  {
   "cell_type": "code",
   "execution_count": 28,
   "metadata": {},
   "outputs": [
    {
     "name": "stdout",
     "output_type": "stream",
     "text": [
      "this is a new line\n",
      "this is 2nd continuation\n",
      "\n"
     ]
    }
   ],
   "source": [
    "# writing and then reading a file\n",
    "with open('example.txt' , 'w+') as file:\n",
    "          file.write(\"this is a new line\\n\")\n",
    "          file.write(\"this is 2nd continuation\\n\")\n",
    "\n",
    "          # move the file cursor to the beginning\n",
    "          file.seek(0)\n",
    "\n",
    "          content = file.read()\n",
    "          print(content)"
   ]
  }
 ],
 "metadata": {
  "kernelspec": {
   "display_name": "Python 3",
   "language": "python",
   "name": "python3"
  },
  "language_info": {
   "codemirror_mode": {
    "name": "ipython",
    "version": 3
   },
   "file_extension": ".py",
   "mimetype": "text/x-python",
   "name": "python",
   "nbconvert_exporter": "python",
   "pygments_lexer": "ipython3",
   "version": "3.12.4"
  }
 },
 "nbformat": 4,
 "nbformat_minor": 2
}
