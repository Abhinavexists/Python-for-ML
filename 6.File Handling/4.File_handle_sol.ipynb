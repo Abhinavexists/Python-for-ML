{
 "cells": [
  {
   "cell_type": "code",
   "execution_count": 7,
   "metadata": {},
   "outputs": [
    {
     "name": "stdout",
     "output_type": "stream",
     "text": [
      "Innovative Initiatives: Pioneers impactful conferences like Impact and Parliament Direct.\n",
      "Extensive Volunteer Network: Leverages a wide network of volunteers across various chapters.\n",
      "Personal Alignment: Aligns with my values and aspirations to contribute to societal development and work with like-minded individuals.\n",
      "None\n"
     ]
    }
   ],
   "source": [
    "# Write a function that reads the contents of a file named `sample.txt` and prints each line.\n",
    "\n",
    "def read_file(filename):\n",
    " with open(filename , 'r') as file:\n",
    "    for line in file:\n",
    "        print(line.strip())\n",
    "\n",
    "content = read_file('sample.txt')\n",
    "print(content)"
   ]
  },
  {
   "cell_type": "code",
   "execution_count": 1,
   "metadata": {},
   "outputs": [
    {
     "name": "stdout",
     "output_type": "stream",
     "text": [
      "None\n"
     ]
    }
   ],
   "source": [
    "# Write a function that writes a list of strings to a file named `output.txt`, with each string on a new line.\n",
    "\n",
    "def string_list(lines , filename):\n",
    "    with open(filename , 'w+') as file:\n",
    "        for line in lines:\n",
    "            file.write(line + '\\n')\n",
    "\n",
    "str_list = string_list(['hello'], 'output.txt')\n",
    "print(str_list)"
   ]
  },
  {
   "cell_type": "code",
   "execution_count": 2,
   "metadata": {},
   "outputs": [
    {
     "name": "stdout",
     "output_type": "stream",
     "text": [
      "127\n",
      "None\n"
     ]
    }
   ],
   "source": [
    "# Write a function that copies the contents of a file named `source.txt` to a new file named `destination.txt`\n",
    "def file_copy(source , destination):\n",
    "  with open(source , 'r') as file:\n",
    "    content = file.read()\n",
    "\n",
    "  with open(destination , 'w') as file:\n",
    "    file.write(content)\n",
    "\n",
    "copy_result = file_copy('source.txt','destination.txt')\n",
    "print(copy_result)"
   ]
  },
  {
   "cell_type": "code",
   "execution_count": 5,
   "metadata": {},
   "outputs": [
    {
     "name": "stdout",
     "output_type": "stream",
     "text": [
      "its going to be okay\n"
     ]
    }
   ],
   "source": [
    "# Write a function that appends a given string to the end of a file named `log.txt`.\n",
    "\n",
    "def append_str(filename , text):\n",
    "    with open(filename , 'a') as file:\n",
    "        file.write(text)\n",
    "    \n",
    "    with open(filename , 'r') as file:\n",
    "        content = file.read()\n",
    "        return content\n",
    "        \n",
    "\n",
    "append = append_str('log.txt' , \"its going to be okay\")\n",
    "print(append)\n"
   ]
  },
  {
   "cell_type": "code",
   "execution_count": 3,
   "metadata": {},
   "outputs": [
    {
     "name": "stdout",
     "output_type": "stream",
     "text": [
      "6\n"
     ]
    }
   ],
   "source": [
    "# Write a function that reads the contents of a file named `document.txt` and returns the number of words in the file.\n",
    "\n",
    "def word_count(filename):\n",
    "    with open(filename , 'r') as file:\n",
    "        lines = file.readlines()\n",
    "        count_word = sum(len(line.split()) for line in lines)\n",
    "        return count_word\n",
    "    \n",
    "answer = word_count('document.txt')\n",
    "print(answer)\n"
   ]
  },
  {
   "cell_type": "code",
   "execution_count": 10,
   "metadata": {},
   "outputs": [],
   "source": [
    "# Write a function that finds and replaces all occurrences of a given word in a file named `data.txt` with another word.\n",
    "\n",
    "def duplicate(filename , old_word ,new_word):\n",
    "    with open(filename , 'r') as file:\n",
    "        content = file.read()\n",
    "        word_change = content.replace(old_word , new_word)\n",
    "    with open(filename , 'w') as file:\n",
    "        file.write(word_change)\n",
    "        return word_change\n",
    "    \n",
    "answer = duplicate('data.txt' , \"the\" , \"hello\")"
   ]
  },
  {
   "cell_type": "code",
   "execution_count": 14,
   "metadata": {},
   "outputs": [
    {
     "name": "stdout",
     "output_type": "stream",
     "text": [
      ": n o i t a m r i f n o c  r o f  t n e m e t a t s  n r u t e r  a  h t i w  n o i s r e v  d e v o r p m i  y l t h g i l s  a  s ' e r e H   . e l i f  n o i t a n i t s e d  o l l e h  o t  e l i f  e c r u o s  o l l e h  f o  s t n e t n o c  o l l e h  s e i p o c  y l t c e r r o c  e l i f _ y p o c  n o i t c n u f  r u o Y "
     ]
    }
   ],
   "source": [
    "# Write a function that reads the contents of a file named `reverse.txt` and prints each line in reverse order.\n",
    "\n",
    "def reverse_line(filename):\n",
    "    with open(filename , 'r') as file:\n",
    "        content = file.read()\n",
    "        for line in reversed(content):\n",
    "            print(line.strip() , end = \" \")\n",
    "    \n",
    "answer = reverse_line('data.txt')\n"
   ]
  },
  {
   "cell_type": "code",
   "execution_count": 20,
   "metadata": {},
   "outputs": [
    {
     "name": "stdout",
     "output_type": "stream",
     "text": [
      "lines:38 , words:38 , characters:177\n"
     ]
    }
   ],
   "source": [
    "# Write a function that reads the contents of a file named `stats.txt` and returns the number of lines, words, and characters in the file.\n",
    "\n",
    "def count(filename):\n",
    "    with open(filename , 'r') as file:\n",
    "        content = file.read()\n",
    "        lines = content.split()\n",
    "        line_count = len(lines)\n",
    "        word_count = sum(len(line.split()) for line in lines)\n",
    "        char_count = sum(len(line) for line in lines)\n",
    "    return line_count , word_count , char_count\n",
    "\n",
    "file_path = 'stat.txt'\n",
    "lines , word , char = count(file_path)\n",
    "print(f\"lines:{lines} , words:{word} , characters:{char}\")\n"
   ]
  },
  {
   "cell_type": "code",
   "execution_count": 1,
   "metadata": {},
   "outputs": [],
   "source": [
    "# Write a function that merges the contents of multiple files into a single file named `merged.txt`.\n",
    "\n",
    "def merge_files(file_list , outputfile):\n",
    "    with open(outputfile , 'w') as outfile:\n",
    "        for fname in file_list:\n",
    "            with open(fname , 'r' ) as infile:\n",
    "                outfile.write(infile.read() + '\\n')\n"
   ]
  },
  {
   "cell_type": "code",
   "execution_count": 2,
   "metadata": {},
   "outputs": [],
   "source": [
    "# Write a function that splits a large file named `large.txt` into smaller files of 100 lines each.\n",
    "\n",
    "def splitter(filename , lines_per_file):\n",
    "    with open(filename , 'r') as file:\n",
    "       lines = file.readlines()\n",
    "       for i in range(0 , len(lines) , lines_per_file):\n",
    "           with open(f\"{file}_part{i//lines_per_file + 1}.txt\" , 'w') as partfile:\n",
    "               partfile.writelines(lines[i:i + lines_per_file])\n",
    "\n",
    "# Test\n",
    "# split_file('large.txt', 100)"
   ]
  },
  {
   "cell_type": "code",
   "execution_count": 5,
   "metadata": {},
   "outputs": [],
   "source": [
    "# Write a function that creates a log file named `activity.log` and writes log messages with timestamps.\n",
    "\n",
    "import datetime\n",
    "\n",
    "def log_message(message , filename = 'activity.log'):\n",
    "    timestamp = datetime.datetime.now().isoformat()\n",
    "    with open(filename , 'a') as file:\n",
    "        file.write(f'[{timestamp}] {message}\\n')\n",
    "\n",
    "log_message('This is a log message.')"
   ]
  },
  {
   "cell_type": "code",
   "execution_count": 8,
   "metadata": {},
   "outputs": [],
   "source": [
    "# Write a function that reads a binary file named `image.bin` and writes its contents to another binary file named `copy_image.bin`.\n",
    "def binary_copy(source , destination):\n",
    "    with open(source , 'rb') as infile:\n",
    "        content = infile.read()\n",
    "\n",
    "    with open(destination , 'wb') as outfile:\n",
    "        outfile.write(content)\n",
    "\n",
    "binary_copy('image.bin' , 'copy_image.bin')\n",
    "    \n"
   ]
  },
  {
   "cell_type": "code",
   "execution_count": 11,
   "metadata": {},
   "outputs": [
    {
     "data": {
      "text/plain": [
       "[{'ID': '1',\n",
       "  'Name': 'John Doe',\n",
       "  'Age': '23',\n",
       "  'Email': 'johndoe@example.com',\n",
       "  'Score': '85'},\n",
       " {'ID': '2',\n",
       "  'Name': 'Jane Smith',\n",
       "  'Age': '29',\n",
       "  'Email': 'janesmith@example.com',\n",
       "  'Score': '92'},\n",
       " {'ID': '3',\n",
       "  'Name': 'Michael Brown',\n",
       "  'Age': '35',\n",
       "  'Email': 'michaelbrown@example.com',\n",
       "  'Score': '78'},\n",
       " {'ID': '4',\n",
       "  'Name': 'Emily Davis',\n",
       "  'Age': '27',\n",
       "  'Email': 'emilydavis@example.com',\n",
       "  'Score': '88'},\n",
       " {'ID': '5',\n",
       "  'Name': 'David Wilson',\n",
       "  'Age': '31',\n",
       "  'Email': 'davidwilson@example.com',\n",
       "  'Score': '90'},\n",
       " {'ID': '6',\n",
       "  'Name': 'Linda Johnson',\n",
       "  'Age': '22',\n",
       "  'Email': 'lindajohnson@example.com',\n",
       "  'Score': '76'},\n",
       " {'ID': '7',\n",
       "  'Name': 'Robert Martinez',\n",
       "  'Age': '28',\n",
       "  'Email': 'robertmartinez@example.com',\n",
       "  'Score': '81'},\n",
       " {'ID': '8',\n",
       "  'Name': 'Susan Lee',\n",
       "  'Age': '34',\n",
       "  'Email': 'susanlee@example.com',\n",
       "  'Score': '89'},\n",
       " {'ID': '9',\n",
       "  'Name': 'James Anderson',\n",
       "  'Age': '26',\n",
       "  'Email': 'jamesanderson@example.com',\n",
       "  'Score': '94'},\n",
       " {'ID': '10',\n",
       "  'Name': 'Patricia Taylor',\n",
       "  'Age': '30',\n",
       "  'Email': 'patriciataylor@example.com',\n",
       "  'Score': '77'}]"
      ]
     },
     "execution_count": 11,
     "metadata": {},
     "output_type": "execute_result"
    }
   ],
   "source": [
    "# Write a function that reads a CSV file named `data.csv` and prints its contents as a list of dictionaries.\n",
    "import csv\n",
    "\n",
    "def csv_read(filename):\n",
    "    with open(filename , 'r') as file:\n",
    "        reader  = csv.DictReader(file)\n",
    "        return list(reader)\n",
    "    \n",
    "csv_read('data.csv')"
   ]
  },
  {
   "cell_type": "code",
   "execution_count": 1,
   "metadata": {},
   "outputs": [
    {
     "data": {
      "text/plain": [
       "{'users': [{'id': 1,\n",
       "   'name': 'John Doe',\n",
       "   'age': 23,\n",
       "   'email': 'johndoe@example.com',\n",
       "   'score': 85},\n",
       "  {'id': 2,\n",
       "   'name': 'Jane Smith',\n",
       "   'age': 29,\n",
       "   'email': 'janesmith@example.com',\n",
       "   'score': 92},\n",
       "  {'id': 3,\n",
       "   'name': 'Michael Brown',\n",
       "   'age': 35,\n",
       "   'email': 'michaelbrown@example.com',\n",
       "   'score': 78},\n",
       "  {'id': 4,\n",
       "   'name': 'Emily Davis',\n",
       "   'age': 27,\n",
       "   'email': 'emilydavis@example.com',\n",
       "   'score': 88},\n",
       "  {'id': 5,\n",
       "   'name': 'David Wilson',\n",
       "   'age': 31,\n",
       "   'email': 'davidwilson@example.com',\n",
       "   'score': 90},\n",
       "  {'id': 6,\n",
       "   'name': 'Linda Johnson',\n",
       "   'age': 22,\n",
       "   'email': 'lindajohnson@example.com',\n",
       "   'score': 76},\n",
       "  {'id': 7,\n",
       "   'name': 'Robert Martinez',\n",
       "   'age': 28,\n",
       "   'email': 'robertmartinez@example.com',\n",
       "   'score': 81},\n",
       "  {'id': 8,\n",
       "   'name': 'Susan Lee',\n",
       "   'age': 34,\n",
       "   'email': 'susanlee@example.com',\n",
       "   'score': 89},\n",
       "  {'id': 9,\n",
       "   'name': 'James Anderson',\n",
       "   'age': 26,\n",
       "   'email': 'jamesanderson@example.com',\n",
       "   'score': 94},\n",
       "  {'id': 10,\n",
       "   'name': 'Patricia Taylor',\n",
       "   'age': 30,\n",
       "   'email': 'patriciataylor@example.com',\n",
       "   'score': 77}]}"
      ]
     },
     "execution_count": 1,
     "metadata": {},
     "output_type": "execute_result"
    }
   ],
   "source": [
    "# Write a function that reads a JSON file named `data.json` and prints its contents as a Python dictionary.\n",
    "import json\n",
    "\n",
    "def json_read(filename):\n",
    "    with open(filename ,'r') as file:\n",
    "        reader = json.load(file)\n",
    "        return reader\n",
    "    \n",
    "json_read('data.json')"
   ]
  },
  {
   "cell_type": "code",
   "execution_count": 2,
   "metadata": {},
   "outputs": [],
   "source": [
    "# Write a function that attempts to read a file named `protected.txt` and handles any permission errors gracefully by printing an error message\n",
    "\n",
    "def read_protected_file(filename):\n",
    "    try:\n",
    "        with open(filename, 'r') as file:\n",
    "            print(file.read())\n",
    "    except PermissionError as e:\n",
    "        print(f\"Permission error: {e}\")\n",
    "\n",
    "# Test\n",
    "# read_protected_file('protected.txt')"
   ]
  }
 ],
 "metadata": {
  "kernelspec": {
   "display_name": "Python 3",
   "language": "python",
   "name": "python3"
  },
  "language_info": {
   "codemirror_mode": {
    "name": "ipython",
    "version": 3
   },
   "file_extension": ".py",
   "mimetype": "text/x-python",
   "name": "python",
   "nbconvert_exporter": "python",
   "pygments_lexer": "ipython3",
   "version": "3.12.4"
  }
 },
 "nbformat": 4,
 "nbformat_minor": 2
}
