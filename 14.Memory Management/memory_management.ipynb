{
 "cells": [
  {
   "cell_type": "markdown",
   "metadata": {},
   "source": [
    "#### Python Memory Management\n",
    "Memory management in Python involves a combination of automatic garbage collection, reference counting, and various internal optimizations to efficiently manage memory allocation and deallocation. Understanding these mechanisms can help developers write more efficient and robust applications.\n",
    "\n",
    "1. Key Concepts in Python Memory Management\n",
    "2. Memory Allocation and Deallocation\n",
    "3. Reference Counting\n",
    "4. Garbage Collection\n",
    "5. The gc Module\n",
    "6. Memory Management Best Practices"
   ]
  },
  {
   "cell_type": "markdown",
   "metadata": {},
   "source": [
    "### Reference Counting\n",
    "Reference counting is the primary method Python uses to manage memory. Each object in Python maintains a count of references pointing to it. When the reference count drops to zero, the memory occupied by the object is deallocated."
   ]
  },
  {
   "cell_type": "code",
   "execution_count": 1,
   "metadata": {},
   "outputs": [
    {
     "name": "stdout",
     "output_type": "stream",
     "text": [
      "2\n"
     ]
    }
   ],
   "source": [
    "# reference counting\n",
    "import sys\n",
    "\n",
    "a = []\n",
    "# 2 9one reference from 'a' and one from getrefcount())\n",
    "print(sys.getrefcount(a))"
   ]
  },
  {
   "cell_type": "code",
   "execution_count": 2,
   "metadata": {},
   "outputs": [
    {
     "name": "stdout",
     "output_type": "stream",
     "text": [
      "3\n"
     ]
    }
   ],
   "source": [
    "b = a\n",
    "print(sys.getrefcount(b))"
   ]
  },
  {
   "cell_type": "code",
   "execution_count": 3,
   "metadata": {},
   "outputs": [
    {
     "name": "stdout",
     "output_type": "stream",
     "text": [
      "2\n"
     ]
    }
   ],
   "source": [
    "del b\n",
    "print(sys.getrefcount(a))"
   ]
  },
  {
   "cell_type": "markdown",
   "metadata": {},
   "source": [
    "### Garbage Collection\n",
    "Python includes a cyclic garbage collector to handle reference cycles. Reference cycles occur when objects reference each other, preventing their reference counts from reaching zero."
   ]
  },
  {
   "cell_type": "code",
   "execution_count": 5,
   "metadata": {},
   "outputs": [],
   "source": [
    "import gc\n",
    "# enable garbage collection\n",
    "gc.enable() # enable the garbage collector"
   ]
  },
  {
   "cell_type": "code",
   "execution_count": 7,
   "metadata": {},
   "outputs": [],
   "source": [
    "gc.disable()"
   ]
  },
  {
   "cell_type": "code",
   "execution_count": 8,
   "metadata": {},
   "outputs": [
    {
     "data": {
      "text/plain": [
       "7"
      ]
     },
     "execution_count": 8,
     "metadata": {},
     "output_type": "execute_result"
    }
   ],
   "source": [
    "gc.collect() #trigger the garbage colector manually\n",
    "# the value shows the no. of variables unreachable"
   ]
  },
  {
   "cell_type": "code",
   "execution_count": 9,
   "metadata": {},
   "outputs": [
    {
     "name": "stdout",
     "output_type": "stream",
     "text": [
      "[{'collections': 166, 'collected': 1684, 'uncollectable': 0}, {'collections': 15, 'collected': 242, 'uncollectable': 0}, {'collections': 2, 'collected': 7, 'uncollectable': 0}]\n"
     ]
    }
   ],
   "source": [
    "# get the garbage collection stats\n",
    "print(gc.get_stats())"
   ]
  },
  {
   "cell_type": "code",
   "execution_count": 10,
   "metadata": {},
   "outputs": [
    {
     "name": "stdout",
     "output_type": "stream",
     "text": [
      "[]\n"
     ]
    }
   ],
   "source": [
    "# get unreachable objects\n",
    "print(gc.garbage)"
   ]
  },
  {
   "cell_type": "markdown",
   "metadata": {},
   "source": [
    "####  Memory Management Best Practices\n",
    "1. Use Local Variables: Local variables have a shorter lifespan and are freed sooner than global variables.\n",
    "2. Avoid Circular References: Circular references can lead to memory leaks if not properly managed.\n",
    "3. Use Generators: Generators produce items one at a time and only keep one item in memory at a time, making them memory efficient.\n",
    "4. Explicitly Delete Objects: Use the del statement to delete variables and objects explicitly.\n",
    "5. Profile Memory Usage: Use memory profiling tools like tracemalloc and memory_profiler to identify memory leaks and optimize memory usage."
   ]
  },
  {
   "cell_type": "code",
   "execution_count": 12,
   "metadata": {},
   "outputs": [
    {
     "name": "stdout",
     "output_type": "stream",
     "text": [
      "object obj1 created\n",
      "object obj2 created\n",
      "object obj1 deleted\n",
      "object obj2 deleted\n",
      "object obj1 deleted\n",
      "object obj2 deleted\n"
     ]
    },
    {
     "data": {
      "text/plain": [
       "512"
      ]
     },
     "execution_count": 12,
     "metadata": {},
     "output_type": "execute_result"
    }
   ],
   "source": [
    "# Handling Circular reference\n",
    "import gc\n",
    "\n",
    "class myobject:\n",
    "    def __init__(self,name):\n",
    "        self.name = name\n",
    "        print(f'object {self.name} created')\n",
    "\n",
    "    def __del__ (self):\n",
    "        print(f'object {self.name} deleted')\n",
    "\n",
    "# create circular reference\n",
    "obj1=myobject(\"obj1\")\n",
    "obj2=myobject('obj2')\n",
    "obj1.ref=obj2\n",
    "obj2.ref=obj1\n",
    "\n",
    "del obj1\n",
    "del obj2\n",
    "\n",
    "#manually trigger garbage collection\n",
    "gc.collect()"
   ]
  },
  {
   "cell_type": "code",
   "execution_count": 13,
   "metadata": {},
   "outputs": [
    {
     "name": "stdout",
     "output_type": "stream",
     "text": [
      "Garbaje collected object []\n"
     ]
    }
   ],
   "source": [
    "# print collected garbage\n",
    "print(f\"Garbaje collected object {gc.garbage}\")"
   ]
  },
  {
   "cell_type": "code",
   "execution_count": 14,
   "metadata": {},
   "outputs": [
    {
     "name": "stdout",
     "output_type": "stream",
     "text": [
      "0\n",
      "1\n",
      "2\n",
      "3\n",
      "4\n",
      "5\n",
      "6\n",
      "7\n",
      "8\n",
      "9\n",
      "10\n",
      "11\n"
     ]
    }
   ],
   "source": [
    "# Generators for memory efficiency\n",
    "\n",
    "def generate_num(n):\n",
    "    for i in range(n):\n",
    "        yield i\n",
    "\n",
    "# using the generator\n",
    "for num in generate_num(100000):\n",
    "    print(num)\n",
    "    if num > 10:\n",
    "        break"
   ]
  },
  {
   "cell_type": "code",
   "execution_count": 20,
   "metadata": {},
   "outputs": [],
   "source": [
    "# profiling for memory usage\n",
    "import tracemalloc\n",
    "def create_list():\n",
    "    return [i for i in range(10000)]\n",
    "\n",
    "def main():\n",
    "    tracemalloc.start()\n",
    "\n",
    "    snapshot = tracemalloc.take_snapshot()\n",
    "    top_stats = snapshot.statistics('lineno')\n",
    "\n",
    "    print(\"[Top 10]\")\n",
    "    for stat in top_stats[::]:\n",
    "        print(stat)"
   ]
  },
  {
   "cell_type": "code",
   "execution_count": 21,
   "metadata": {},
   "outputs": [
    {
     "name": "stdout",
     "output_type": "stream",
     "text": [
      "[Top 10]\n",
      "d:\\Python\\venv\\Lib\\asyncio\\selector_events.py:132: size=4163 B, count=2, average=2082 B\n",
      "d:\\Python\\venv\\Lib\\json\\decoder.py:353: size=2466 B, count=34, average=73 B\n",
      "d:\\Python\\venv\\Lib\\threading.py:293: size=1520 B, count=4, average=380 B\n",
      "d:\\Python\\venv\\Lib\\site-packages\\traitlets\\traitlets.py:731: size=1409 B, count=23, average=61 B\n",
      "d:\\Python\\venv\\Lib\\site-packages\\jupyter_client\\session.py:100: size=1243 B, count=8, average=155 B\n",
      "d:\\Python\\venv\\Lib\\codeop.py:126: size=1168 B, count=9, average=130 B\n",
      "d:\\Python\\venv\\Lib\\site-packages\\zmq\\sugar\\attrsettr.py:45: size=1128 B, count=24, average=47 B\n",
      "d:\\Python\\venv\\Lib\\site-packages\\zmq\\sugar\\socket.py:805: size=1056 B, count=6, average=176 B\n",
      "d:\\Python\\venv\\Lib\\site-packages\\IPython\\core\\compilerop.py:174: size=1017 B, count=15, average=68 B\n",
      "d:\\Python\\venv\\Lib\\site-packages\\traitlets\\traitlets.py:1543: size=1001 B, count=17, average=59 B\n",
      "d:\\Python\\venv\\Lib\\site-packages\\traitlets\\traitlets.py:1514: size=960 B, count=8, average=120 B\n",
      "d:\\Python\\venv\\Lib\\site-packages\\IPython\\core\\compilerop.py:86: size=857 B, count=11, average=78 B\n",
      "d:\\Python\\venv\\Lib\\site-packages\\jupyter_client\\session.py:1057: size=781 B, count=6, average=130 B\n",
      "d:\\Python\\venv\\Lib\\site-packages\\ipykernel\\iostream.py:346: size=720 B, count=10, average=72 B\n",
      "d:\\Python\\venv\\Lib\\site-packages\\jupyter_client\\jsonutil.py:111: size=650 B, count=13, average=50 B\n",
      "d:\\Python\\venv\\Lib\\threading.py:290: size=624 B, count=5, average=125 B\n",
      "d:\\Python\\venv\\Lib\\site-packages\\ipykernel\\iostream.py:276: size=528 B, count=5, average=106 B\n",
      "d:\\Python\\venv\\Lib\\site-packages\\IPython\\core\\interactiveshell.py:3104: size=520 B, count=4, average=130 B\n",
      "d:\\Python\\venv\\Lib\\asyncio\\events.py:88: size=432 B, count=6, average=72 B\n",
      "d:\\Python\\venv\\Lib\\asyncio\\base_events.py:449: size=432 B, count=3, average=144 B\n",
      "d:\\Python\\venv\\Lib\\site-packages\\ipykernel\\kernelbase.py:775: size=424 B, count=2, average=212 B\n",
      "d:\\Python\\venv\\Lib\\site-packages\\IPython\\core\\history.py:836: size=416 B, count=6, average=69 B\n",
      "d:\\Python\\venv\\Lib\\site-packages\\jupyter_client\\jsonutil.py:75: size=416 B, count=2, average=208 B\n",
      "d:\\Python\\venv\\Lib\\site-packages\\ipykernel\\iostream.py:287: size=392 B, count=5, average=78 B\n",
      "d:\\Python\\venv\\Lib\\site-packages\\IPython\\core\\history.py:782: size=392 B, count=2, average=196 B\n",
      "d:\\Python\\venv\\Lib\\site-packages\\IPython\\core\\interactiveshell.py:3334: size=376 B, count=1, average=376 B\n",
      "d:\\Python\\venv\\Lib\\asyncio\\futures.py:418: size=360 B, count=9, average=40 B\n",
      "d:\\Python\\venv\\Lib\\site-packages\\ipykernel\\ipkernel.py:362: size=360 B, count=1, average=360 B\n",
      "d:\\Python\\venv\\Lib\\asyncio\\futures.py:394: size=320 B, count=2, average=160 B\n",
      "d:\\Python\\venv\\Lib\\asyncio\\futures.py:381: size=320 B, count=2, average=160 B\n",
      "d:\\Python\\venv\\Lib\\asyncio\\base_events.py:815: size=312 B, count=3, average=104 B\n",
      "d:\\Python\\venv\\Lib\\site-packages\\ipykernel\\iostream.py:527: size=304 B, count=4, average=76 B\n",
      "d:\\Python\\venv\\Lib\\site-packages\\IPython\\core\\interactiveshell.py:3517: size=296 B, count=1, average=296 B\n",
      "d:\\Python\\venv\\Lib\\site-packages\\tornado\\queues.py:248: size=288 B, count=2, average=144 B\n",
      "d:\\Python\\venv\\Lib\\site-packages\\ipykernel\\kernelbase.py:534: size=264 B, count=1, average=264 B\n",
      "d:\\Python\\venv\\Lib\\site-packages\\ipykernel\\kernelbase.py:435: size=248 B, count=1, average=248 B\n",
      "d:\\Python\\venv\\Lib\\site-packages\\ipykernel\\iostream.py:121: size=248 B, count=1, average=248 B\n",
      "d:\\Python\\venv\\Lib\\threading.py:135: size=240 B, count=4, average=60 B\n",
      "d:\\Python\\venv\\Lib\\site-packages\\ipykernel\\kernelbase.py:318: size=240 B, count=4, average=60 B\n",
      "d:\\Python\\venv\\Lib\\logging\\__init__.py:1622: size=240 B, count=1, average=240 B\n",
      "C:\\Users\\Abhi\\AppData\\Local\\Temp\\ipykernel_50512\\3201323237.py:6: size=232 B, count=2, average=116 B\n",
      "d:\\Python\\venv\\Lib\\site-packages\\ipykernel\\kernelbase.py:545: size=232 B, count=1, average=232 B\n",
      "d:\\Python\\venv\\Lib\\site-packages\\ipykernel\\zmqshell.py:549: size=224 B, count=3, average=75 B\n",
      "d:\\Python\\venv\\Lib\\site-packages\\IPython\\core\\interactiveshell.py:3223: size=208 B, count=4, average=52 B\n",
      "d:\\Python\\venv\\Lib\\site-packages\\jupyter_client\\session.py:1085: size=208 B, count=1, average=208 B\n",
      "d:\\Python\\venv\\Lib\\site-packages\\ipykernel\\kernelbase.py:770: size=208 B, count=1, average=208 B\n",
      "d:\\Python\\venv\\Lib\\site-packages\\ipykernel\\compiler.py:91: size=205 B, count=2, average=102 B\n",
      "d:\\Python\\venv\\Lib\\site-packages\\jupyter_client\\session.py:688: size=194 B, count=2, average=97 B\n",
      "d:\\Python\\venv\\Lib\\site-packages\\jupyter_client\\session.py:750: size=192 B, count=2, average=96 B\n",
      "d:\\Python\\venv\\Lib\\site-packages\\zmq\\sugar\\socket.py:802: size=184 B, count=2, average=92 B\n",
      "d:\\Python\\venv\\Lib\\site-packages\\ipykernel\\kernelbase.py:1182: size=173 B, count=2, average=86 B\n",
      "d:\\Python\\venv\\Lib\\site-packages\\IPython\\core\\interactiveshell.py:3224: size=160 B, count=4, average=40 B\n",
      "d:\\Python\\venv\\Lib\\site-packages\\ipykernel\\kernelbase.py:570: size=160 B, count=1, average=160 B\n",
      "d:\\Python\\venv\\Lib\\site-packages\\IPython\\core\\interactiveshell.py:3577: size=160 B, count=1, average=160 B\n",
      "d:\\Python\\venv\\Lib\\site-packages\\IPython\\core\\interactiveshell.py:3493: size=160 B, count=1, average=160 B\n",
      "d:\\Python\\venv\\Lib\\site-packages\\IPython\\core\\interactiveshell.py:3237: size=160 B, count=1, average=160 B\n",
      "d:\\Python\\venv\\Lib\\asyncio\\futures.py:387: size=160 B, count=1, average=160 B\n",
      "C:\\Users\\Abhi\\AppData\\Local\\Temp\\ipykernel_50512\\3201323237.py:3: size=160 B, count=1, average=160 B\n",
      "d:\\Python\\venv\\Lib\\threading.py:292: size=144 B, count=2, average=72 B\n",
      "d:\\Python\\venv\\Lib\\threading.py:288: size=144 B, count=2, average=72 B\n",
      "d:\\Python\\venv\\Lib\\threading.py:283: size=144 B, count=2, average=72 B\n",
      "d:\\Python\\venv\\Lib\\threading.py:282: size=144 B, count=2, average=72 B\n",
      "d:\\Python\\venv\\Lib\\site-packages\\tornado\\platform\\asyncio.py:235: size=144 B, count=2, average=72 B\n",
      "d:\\Python\\venv\\Lib\\site-packages\\ipykernel\\iostream.py:722: size=144 B, count=2, average=72 B\n",
      "d:\\Python\\venv\\Lib\\inspect.py:266: size=120 B, count=1, average=120 B\n",
      "d:\\Python\\venv\\Lib\\asyncio\\base_events.py:778: size=120 B, count=1, average=120 B\n",
      "d:\\Python\\venv\\Lib\\site-packages\\jupyter_client\\session.py:989: size=111 B, count=2, average=56 B\n",
      "d:\\Python\\venv\\Lib\\asyncio\\base_events.py:1971: size=96 B, count=3, average=32 B\n",
      "d:\\Python\\venv\\Lib\\site-packages\\zmq\\sugar\\socket.py:751: size=96 B, count=2, average=48 B\n",
      "d:\\Python\\venv\\Lib\\site-packages\\dateutil\\parser\\_parser.py:1195: size=96 B, count=2, average=48 B\n",
      "d:\\Python\\venv\\Lib\\site-packages\\IPython\\core\\interactiveshell.py:3375: size=96 B, count=2, average=48 B\n",
      "d:\\Python\\venv\\Lib\\concurrent\\futures\\_base.py:330: size=96 B, count=2, average=48 B\n",
      "d:\\Python\\venv\\Lib\\site-packages\\IPython\\core\\history.py:805: size=90 B, count=2, average=45 B\n",
      "d:\\Python\\venv\\Lib\\tracemalloc.py:551: size=72 B, count=1, average=72 B\n",
      "d:\\Python\\venv\\Lib\\tracemalloc.py:528: size=72 B, count=1, average=72 B\n",
      "d:\\Python\\venv\\Lib\\tracemalloc.py:477: size=72 B, count=1, average=72 B\n",
      "d:\\Python\\venv\\Lib\\tracemalloc.py:420: size=72 B, count=1, average=72 B\n",
      "d:\\Python\\venv\\Lib\\tracemalloc.py:312: size=72 B, count=1, average=72 B\n",
      "d:\\Python\\venv\\Lib\\tracemalloc.py:225: size=72 B, count=1, average=72 B\n",
      "d:\\Python\\venv\\Lib\\tracemalloc.py:212: size=72 B, count=1, average=72 B\n",
      "d:\\Python\\venv\\Lib\\tracemalloc.py:203: size=72 B, count=1, average=72 B\n",
      "d:\\Python\\venv\\Lib\\tracemalloc.py:187: size=72 B, count=1, average=72 B\n",
      "d:\\Python\\venv\\Lib\\tracemalloc.py:172: size=72 B, count=1, average=72 B\n",
      "d:\\Python\\venv\\Lib\\tracemalloc.py:155: size=72 B, count=1, average=72 B\n",
      "d:\\Python\\venv\\Lib\\tracemalloc.py:151: size=72 B, count=1, average=72 B\n",
      "d:\\Python\\venv\\Lib\\tracemalloc.py:147: size=72 B, count=1, average=72 B\n",
      "d:\\Python\\venv\\Lib\\tracemalloc.py:66: size=72 B, count=1, average=72 B\n",
      "d:\\Python\\venv\\Lib\\tracemalloc.py:52: size=72 B, count=1, average=72 B\n",
      "d:\\Python\\venv\\Lib\\tracemalloc.py:37: size=72 B, count=1, average=72 B\n",
      "d:\\Python\\venv\\Lib\\tracemalloc.py:13: size=72 B, count=1, average=72 B\n",
      "d:\\Python\\venv\\Lib\\site-packages\\IPython\\core\\history.py:851: size=72 B, count=1, average=72 B\n",
      "d:\\Python\\venv\\Lib\\site-packages\\IPython\\core\\history.py:834: size=72 B, count=1, average=72 B\n",
      "C:\\Users\\Abhi\\AppData\\Local\\Temp\\ipykernel_50512\\451043146.py:0: size=72 B, count=1, average=72 B\n",
      "d:\\Python\\venv\\Lib\\site-packages\\tornado\\queues.py:318: size=64 B, count=2, average=32 B\n",
      "d:\\Python\\venv\\Lib\\site-packages\\IPython\\core\\interactiveshell.py:3509: size=64 B, count=2, average=32 B\n",
      "d:\\Python\\venv\\Lib\\concurrent\\futures\\_base.py:421: size=64 B, count=2, average=32 B\n",
      "d:\\Python\\venv\\Lib\\site-packages\\zmq\\sugar\\socket.py:806: size=64 B, count=1, average=64 B\n",
      "d:\\Python\\venv\\Lib\\site-packages\\zmq\\eventloop\\zmqstream.py:639: size=64 B, count=1, average=64 B\n",
      "d:\\Python\\venv\\Lib\\site-packages\\ipykernel\\ipkernel.py:384: size=64 B, count=1, average=64 B\n",
      "d:\\Python\\venv\\Lib\\site-packages\\ipykernel\\ipkernel.py:383: size=64 B, count=1, average=64 B\n",
      "d:\\Python\\venv\\Lib\\site-packages\\ipykernel\\ipkernel.py:294: size=64 B, count=1, average=64 B\n",
      "d:\\Python\\venv\\Lib\\site-packages\\ipykernel\\ipkernel.py:291: size=64 B, count=1, average=64 B\n",
      "d:\\Python\\venv\\Lib\\site-packages\\decorator.py:232: size=64 B, count=1, average=64 B\n",
      "d:\\Python\\venv\\Lib\\site-packages\\IPython\\core\\interactiveshell.py:3566: size=64 B, count=1, average=64 B\n",
      "d:\\Python\\venv\\Lib\\site-packages\\IPython\\core\\interactiveshell.py:3303: size=64 B, count=1, average=64 B\n",
      "d:\\Python\\venv\\Lib\\site-packages\\IPython\\core\\interactiveshell.py:3300: size=64 B, count=1, average=64 B\n",
      "d:\\Python\\venv\\Lib\\site-packages\\jupyter_client\\session.py:1088: size=56 B, count=1, average=56 B\n",
      "d:\\Python\\venv\\Lib\\site-packages\\jupyter_client\\session.py:200: size=48 B, count=1, average=48 B\n",
      "d:\\Python\\venv\\Lib\\site-packages\\IPython\\core\\interactiveshell.py:3505: size=48 B, count=1, average=48 B\n",
      "d:\\Python\\venv\\Lib\\site-packages\\IPython\\core\\history.py:835: size=48 B, count=1, average=48 B\n",
      "d:\\Python\\venv\\Lib\\site-packages\\IPython\\core\\prefilter.py:317: size=47 B, count=1, average=47 B\n",
      "d:\\Python\\venv\\Lib\\site-packages\\jupyter_client\\session.py:996: size=32 B, count=1, average=32 B\n",
      "d:\\Python\\venv\\Lib\\site-packages\\jupyter_client\\session.py:603: size=32 B, count=1, average=32 B\n",
      "d:\\Python\\venv\\Lib\\site-packages\\ipykernel\\iostream.py:637: size=32 B, count=1, average=32 B\n",
      "d:\\Python\\venv\\Lib\\site-packages\\ipykernel\\iostream.py:168: size=32 B, count=1, average=32 B\n",
      "d:\\Python\\venv\\Lib\\site-packages\\IPython\\core\\interactiveshell.py:3503: size=32 B, count=1, average=32 B\n",
      "d:\\Python\\venv\\Lib\\site-packages\\IPython\\core\\history.py:793: size=32 B, count=1, average=32 B\n",
      "d:\\Python\\venv\\Lib\\site-packages\\IPython\\core\\compilerop.py:192: size=32 B, count=1, average=32 B\n",
      "d:\\Python\\venv\\Lib\\queue.py:151: size=32 B, count=1, average=32 B\n",
      "d:\\Python\\venv\\Lib\\asyncio\\base_events.py:781: size=32 B, count=1, average=32 B\n",
      "d:\\Python\\venv\\Lib\\site-packages\\ipykernel\\kernelbase.py:560: size=28 B, count=1, average=28 B\n",
      "d:\\Python\\venv\\Lib\\site-packages\\IPython\\core\\compilerop.py:172: size=28 B, count=1, average=28 B\n",
      "d:\\Python\\venv\\Lib\\site-packages\\IPython\\core\\interactiveshell.py:3485: size=8 B, count=1, average=8 B\n"
     ]
    }
   ],
   "source": [
    "main()"
   ]
  }
 ],
 "metadata": {
  "kernelspec": {
   "display_name": "venv",
   "language": "python",
   "name": "python3"
  },
  "language_info": {
   "codemirror_mode": {
    "name": "ipython",
    "version": 3
   },
   "file_extension": ".py",
   "mimetype": "text/x-python",
   "name": "python",
   "nbconvert_exporter": "python",
   "pygments_lexer": "ipython3",
   "version": "3.12.4"
  }
 },
 "nbformat": 4,
 "nbformat_minor": 2
}
