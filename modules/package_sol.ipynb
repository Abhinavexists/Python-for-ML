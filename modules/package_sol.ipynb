{
 "cells": [
  {
   "cell_type": "code",
   "execution_count": 6,
   "metadata": {},
   "outputs": [
    {
     "name": "stdout",
     "output_type": "stream",
     "text": [
      "5.0\n",
      "1.0\n"
     ]
    }
   ],
   "source": [
    "# Import the `math` module and use it to calculate the square root of 25 and the sine of 90 degrees.\n",
    "\n",
    "import math\n",
    "square_root=math.sqrt(25)\n",
    "radians = math.radians(90)\n",
    "angle=math.sin(radians)\n",
    "\n",
    "print(square_root)\n",
    "print(angle)\n"
   ]
  },
  {
   "cell_type": "code",
   "execution_count": 14,
   "metadata": {},
   "outputs": [
    {
     "name": "stdout",
     "output_type": "stream",
     "text": [
      "2024-07-24 00:33:19.081031\n"
     ]
    }
   ],
   "source": [
    "# Import the `datetime` module with an alias and use it to print the current date and time.\n",
    "\n",
    "from datetime import datetime as dt\n",
    "time = dt.now()\n",
    "print(time)"
   ]
  },
  {
   "cell_type": "code",
   "execution_count": 17,
   "metadata": {},
   "outputs": [
    {
     "name": "stdout",
     "output_type": "stream",
     "text": [
      "56\n"
     ]
    }
   ],
   "source": [
    "# Import the `randint` function from the `random` module and use it to generate a random integer between 1 and 100.\n",
    "\n",
    "import random\n",
    "\n",
    "print(random.randint(1,100))"
   ]
  },
  {
   "cell_type": "code",
   "execution_count": 18,
   "metadata": {},
   "outputs": [
    {
     "name": "stdout",
     "output_type": "stream",
     "text": [
      "4.0\n",
      "8.0\n"
     ]
    }
   ],
   "source": [
    "# Import the `sqrt` and `pow` functions from the `math` module and use them to calculate the square root of 16 and 2 raised to the power of 3.\n",
    "\n",
    "from math import sqrt , pow\n",
    "print(sqrt(16))\n",
    "print(pow(2,3))"
   ]
  },
  {
   "cell_type": "code",
   "execution_count": 21,
   "metadata": {},
   "outputs": [
    {
     "name": "stdout",
     "output_type": "stream",
     "text": [
      "No Such module is present\n"
     ]
    }
   ],
   "source": [
    "# Write code that attempts to import a non-existent module and gracefully handles the import error by printing an error message.\n",
    "try:\n",
    "    import non_existent_module\n",
    "except ImportError as e:\n",
    "    print (\"No Such module is present\")"
   ]
  },
  {
   "cell_type": "code",
   "execution_count": null,
   "metadata": {},
   "outputs": [],
   "source": [
    "# Use the `os` module to create a new directory, list the contents of the current directory, and remove the newly created directory.\n",
    "\n",
    "import os\n",
    "os.makedirs(\"new directiory\")"
   ]
  },
  {
   "cell_type": "code",
   "execution_count": 28,
   "metadata": {},
   "outputs": [
    {
     "name": "stdout",
     "output_type": "stream",
     "text": [
      "['destination.txt', 'example.csv', 'import_pakages.ipynb', 'new directiory', 'package', 'packagesquestion.ipynb', 'package_sol.ipynb', 'source.txt', 'standard_lib_overview.ipynb', 'test.py', 'testdir']\n"
     ]
    }
   ],
   "source": [
    "print(os.listdir('.'))"
   ]
  },
  {
   "cell_type": "code",
   "execution_count": 29,
   "metadata": {},
   "outputs": [
    {
     "name": "stdout",
     "output_type": "stream",
     "text": [
      "['destination.txt', 'example.csv', 'import_pakages.ipynb', 'package', 'packagesquestion.ipynb', 'package_sol.ipynb', 'source.txt', 'standard_lib_overview.ipynb', 'test.py', 'testdir']\n"
     ]
    }
   ],
   "source": [
    "os.removedirs(\"new directiory\")\n",
    "print(os.listdir('.'))\n"
   ]
  },
  {
   "cell_type": "code",
   "execution_count": 33,
   "metadata": {},
   "outputs": [
    {
     "name": "stdout",
     "output_type": "stream",
     "text": [
      "3.12.4 | packaged by Anaconda, Inc. | (main, Jun 18 2024, 15:03:56) [MSC v.1929 64 bit (AMD64)]\n",
      "['C:\\\\Users\\\\Abhin\\\\AppData\\\\Roaming\\\\Python\\\\Python312\\\\site-packages\\\\ipykernel_launcher.py', '--f=c:\\\\Users\\\\Abhin\\\\AppData\\\\Roaming\\\\jupyter\\\\runtime\\\\kernel-v2-124624F9Y3waLt6wxO.json']\n"
     ]
    }
   ],
   "source": [
    "# Use the `sys` module to print the Python version currently in use and the command-line arguments passed to the script.\n",
    "\n",
    "import sys\n",
    "print(sys.version)\n",
    "print(sys.argv)"
   ]
  },
  {
   "cell_type": "code",
   "execution_count": 34,
   "metadata": {},
   "outputs": [
    {
     "name": "stdout",
     "output_type": "stream",
     "text": [
      "2\n",
      "24\n"
     ]
    }
   ],
   "source": [
    "# Use the `math` module to calculate the greatest common divisor (GCD) of two numbers and the factorial of a number.\n",
    "\n",
    "from math import gcd , factorial\n",
    "print(gcd(134,44))\n",
    "print(factorial(4))"
   ]
  },
  {
   "cell_type": "code",
   "execution_count": 47,
   "metadata": {},
   "outputs": [
    {
     "name": "stdout",
     "output_type": "stream",
     "text": [
      "2024-07-24 13:59:49.887931\n",
      "2024-07-24\n",
      "2024-11-01\n",
      "Friday\n"
     ]
    }
   ],
   "source": [
    "# Use the `datetime` module to print the current date, calculate the date 100 days from today, and determine the day of the week for a given date.\n",
    "\n",
    "from datetime import *\n",
    "time = datetime.now()\n",
    "print(time)\n",
    "\n",
    "current_day = date.today()\n",
    "print(current_day)\n",
    "\n",
    "future_day = current_day + timedelta(days=100)\n",
    "print(future_day)\n",
    "\n",
    "print(future_day.strftime('%A'))"
   ]
  },
  {
   "cell_type": "code",
   "execution_count": 59,
   "metadata": {},
   "outputs": [
    {
     "name": "stdout",
     "output_type": "stream",
     "text": [
      "[10, 44, 38, 49, 40]\n",
      "[2, 4, 1, 3, 5]\n"
     ]
    }
   ],
   "source": [
    "# Use the `random` module to generate a list of 5 random numbers between 1 and 50 and shuffle the elements of a list.\n",
    "\n",
    "import random\n",
    "random_num = [random.randint(1,50) for _ in range(5)]\n",
    "print(random_num)\n",
    "\n",
    "lst = [1,2,3,4,5]\n",
    "random.shuffle(lst)\n",
    "print(lst)"
   ]
  },
  {
   "cell_type": "code",
   "execution_count": null,
   "metadata": {},
   "outputs": [],
   "source": [
    "# Create a package named `mypackage` with two modules: `module1` and `module2`. `module1` should contain a function that adds two numbers, \n",
    "# and `module2` should contain a function that multiplies two numbers. Write code to use these functions.\n",
    "\n"
   ]
  }
 ],
 "metadata": {
  "kernelspec": {
   "display_name": "Python 3",
   "language": "python",
   "name": "python3"
  },
  "language_info": {
   "codemirror_mode": {
    "name": "ipython",
    "version": 3
   },
   "file_extension": ".py",
   "mimetype": "text/x-python",
   "name": "python",
   "nbconvert_exporter": "python",
   "pygments_lexer": "ipython3",
   "version": "3.12.4"
  }
 },
 "nbformat": 4,
 "nbformat_minor": 2
}
