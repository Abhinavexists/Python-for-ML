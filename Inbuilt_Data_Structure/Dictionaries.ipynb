{
 "cells": [
  {
   "cell_type": "code",
   "execution_count": 1,
   "metadata": {},
   "outputs": [
    {
     "name": "stdout",
     "output_type": "stream",
     "text": [
      "<class 'dict'>\n"
     ]
    }
   ],
   "source": [
    "#creating dictionaries\n",
    "empty_dict = {}\n",
    "print(type(empty_dict))"
   ]
  },
  {
   "cell_type": "code",
   "execution_count": 2,
   "metadata": {},
   "outputs": [
    {
     "data": {
      "text/plain": [
       "{}"
      ]
     },
     "execution_count": 2,
     "metadata": {},
     "output_type": "execute_result"
    }
   ],
   "source": [
    "empty_dict = dict()\n",
    "empty_dict"
   ]
  },
  {
   "cell_type": "code",
   "execution_count": 3,
   "metadata": {},
   "outputs": [
    {
     "name": "stdout",
     "output_type": "stream",
     "text": [
      "{'name': 'krish', 'age': 32, 'grade': 24}\n",
      "<class 'dict'>\n"
     ]
    }
   ],
   "source": [
    "student = {\"name\":\"krish\", \"age\" : 32 , \"grade\" : 24}\n",
    "print(student)\n",
    "print(type(student))"
   ]
  },
  {
   "cell_type": "code",
   "execution_count": 6,
   "metadata": {},
   "outputs": [
    {
     "name": "stdout",
     "output_type": "stream",
     "text": [
      "{'name': 24, 'age': 32, 'grade': 24}\n"
     ]
    }
   ],
   "source": [
    "#single key is always used \n",
    "student = {\"name\":\"krish\" , \"age\":32 , \"grade\":24 , \"name\":24}\n",
    "print(student)"
   ]
  },
  {
   "cell_type": "code",
   "execution_count": 7,
   "metadata": {},
   "outputs": [
    {
     "name": "stdout",
     "output_type": "stream",
     "text": [
      "{'name': 'krish', 'age': 32, 'grade': 24}\n"
     ]
    }
   ],
   "source": [
    "# accessing dictionary elements\n",
    "student = {\"name\":\"krish\", \"age\" : 32 , \"grade\" : 24}\n",
    "print(student)"
   ]
  },
  {
   "cell_type": "code",
   "execution_count": 9,
   "metadata": {},
   "outputs": [
    {
     "name": "stdout",
     "output_type": "stream",
     "text": [
      "24\n",
      "32\n",
      "24\n",
      "None\n",
      "Not Avaliable\n"
     ]
    }
   ],
   "source": [
    "print(student['grade'])\n",
    "print(student['age'])\n",
    "\n",
    "#accessing using get() method\n",
    "print(student.get('grade'))\n",
    "print(student.get('last_name'))\n",
    "print(student.get('last_name' , \"Not Avaliable\"))"
   ]
  },
  {
   "cell_type": "code",
   "execution_count": 10,
   "metadata": {},
   "outputs": [
    {
     "name": "stdout",
     "output_type": "stream",
     "text": [
      "{'name': 'krish', 'age': 32, 'grade': 24}\n"
     ]
    }
   ],
   "source": [
    "## Modifying Dicitonary Elements\n",
    "## Dictionary are mutable,so you can add, update or delete elements\n",
    "print(student)"
   ]
  },
  {
   "cell_type": "code",
   "execution_count": 12,
   "metadata": {},
   "outputs": [
    {
     "name": "stdout",
     "output_type": "stream",
     "text": [
      "{'name': 'krish', 'age': 33, 'grade': 24}\n",
      "{'name': 'krish', 'age': 33, 'grade': 24, 'address': 'Delhi'}\n"
     ]
    }
   ],
   "source": [
    "student[\"age\"] = 33 #updated the value of key\n",
    "print(student)\n",
    "student[\"address\"] = \"Delhi\" #added new key\n",
    "\n",
    "print(student)"
   ]
  },
  {
   "cell_type": "code",
   "execution_count": 14,
   "metadata": {},
   "outputs": [],
   "source": [
    "del student['grade']#delete key and value pair"
   ]
  },
  {
   "cell_type": "code",
   "execution_count": 15,
   "metadata": {},
   "outputs": [
    {
     "name": "stdout",
     "output_type": "stream",
     "text": [
      "{'name': 'krish', 'age': 33, 'address': 'Delhi'}\n"
     ]
    }
   ],
   "source": [
    "print(student)"
   ]
  },
  {
   "cell_type": "code",
   "execution_count": 17,
   "metadata": {},
   "outputs": [
    {
     "name": "stdout",
     "output_type": "stream",
     "text": [
      "dict_keys(['name', 'age', 'address'])\n",
      "dict_values(['krish', 33, 'Delhi'])\n",
      "dict_items([('name', 'krish'), ('age', 33), ('address', 'Delhi')])\n"
     ]
    }
   ],
   "source": [
    "# dictionary methods\n",
    "keys= student.keys() #get aal the keys\n",
    "print(keys)\n",
    "values=student.values() #give values\n",
    "print(values)\n",
    "items=student.items() # gives items in for of list of tuples\n",
    "print(items)\n",
    "\n",
    "\n"
   ]
  },
  {
   "cell_type": "code",
   "execution_count": 19,
   "metadata": {},
   "outputs": [
    {
     "name": "stdout",
     "output_type": "stream",
     "text": [
      "{'name': 'krish', 'age': 33, 'address': 'Delhi'}\n",
      "{'name': 'krish', 'age': 33, 'address': 'Delhi'}\n"
     ]
    }
   ],
   "source": [
    "#shallow copy\n",
    "student_copy = student\n",
    "print(student)\n",
    "print(student_copy)"
   ]
  },
  {
   "cell_type": "code",
   "execution_count": 20,
   "metadata": {},
   "outputs": [
    {
     "name": "stdout",
     "output_type": "stream",
     "text": [
      "{'name': 'krish1', 'age': 33, 'address': 'Delhi'}\n",
      "{'name': 'krish1', 'age': 33, 'address': 'Delhi'}\n"
     ]
    }
   ],
   "source": [
    "student[\"name\"] = \"krish1\"\n",
    "print(student)\n",
    "print(student_copy) #the student copy got updated also and it should not happen"
   ]
  },
  {
   "cell_type": "code",
   "execution_count": 21,
   "metadata": {},
   "outputs": [
    {
     "name": "stdout",
     "output_type": "stream",
     "text": [
      "{'name': 'krish1', 'age': 33, 'address': 'Delhi'}\n",
      "{'name': 'krish1', 'age': 33, 'address': 'Delhi'}\n"
     ]
    }
   ],
   "source": [
    "student_copy1 = student.copy()#shallow copy , it provides a different memory location which dosent change with change in initial one.\n",
    "print(student_copy1)\n",
    "print(student)"
   ]
  },
  {
   "cell_type": "code",
   "execution_count": 22,
   "metadata": {},
   "outputs": [
    {
     "name": "stdout",
     "output_type": "stream",
     "text": [
      "{'name': 'krish2', 'age': 33, 'address': 'Delhi'}\n",
      "{'name': 'krish1', 'age': 33, 'address': 'Delhi'}\n"
     ]
    }
   ],
   "source": [
    "student[\"name\"] = \"krish2\"\n",
    "print(student)\n",
    "print(student_copy1)"
   ]
  },
  {
   "cell_type": "code",
   "execution_count": 23,
   "metadata": {},
   "outputs": [
    {
     "name": "stdout",
     "output_type": "stream",
     "text": [
      "name\n",
      "age\n",
      "address\n"
     ]
    }
   ],
   "source": [
    "# iterating over dictonionaries \n",
    "# can use loop \n",
    "for keys in student.keys():\n",
    "    print(keys)\n"
   ]
  },
  {
   "cell_type": "code",
   "execution_count": 24,
   "metadata": {},
   "outputs": [
    {
     "name": "stdout",
     "output_type": "stream",
     "text": [
      "krish2\n",
      "33\n",
      "Delhi\n"
     ]
    }
   ],
   "source": [
    "# iterate over values\n",
    "for keys in student.values():\n",
    "    print(keys)"
   ]
  },
  {
   "cell_type": "code",
   "execution_count": 25,
   "metadata": {},
   "outputs": [
    {
     "name": "stdout",
     "output_type": "stream",
     "text": [
      "name:krish2\n",
      "age:33\n",
      "address:Delhi\n"
     ]
    }
   ],
   "source": [
    "#iterate over key value pairs\n",
    "for key , value in student.items():\n",
    "    print(f\"{key}:{value}\") #f formatting"
   ]
  },
  {
   "cell_type": "code",
   "execution_count": 28,
   "metadata": {},
   "outputs": [
    {
     "name": "stdout",
     "output_type": "stream",
     "text": [
      "{'student1': {'name': 'krish', 'age': 32}, 'student2': {'name': 'Abhi', 'age': 19}, 'student3': {'name': 'Nonu', 'age': 20}}\n"
     ]
    }
   ],
   "source": [
    "# Nested dictionaries\n",
    "students = { \"student1\":{\"name\":\"krish\",\"age\":32},\n",
    "             \"student2\":{\"name\":\"Abhi\",\"age\":19},\n",
    "             \"student3\":{\"name\":\"Nonu\",\"age\":20}\n",
    "}\n",
    "print(students)"
   ]
  },
  {
   "cell_type": "code",
   "execution_count": 31,
   "metadata": {},
   "outputs": [
    {
     "name": "stdout",
     "output_type": "stream",
     "text": [
      "Abhi\n",
      "19\n"
     ]
    }
   ],
   "source": [
    "#accessing nested dictionaries\n",
    "print(students[\"student2\"][\"name\"])\n",
    "print(students[\"student2\"][\"age\"])\n"
   ]
  },
  {
   "cell_type": "code",
   "execution_count": 33,
   "metadata": {},
   "outputs": [
    {
     "name": "stdout",
     "output_type": "stream",
     "text": [
      "student1:{'name': 'krish', 'age': 32}\n",
      "name:krish\n",
      "age:32\n",
      "student2:{'name': 'Abhi', 'age': 19}\n",
      "name:Abhi\n",
      "age:19\n",
      "student3:{'name': 'Nonu', 'age': 20}\n",
      "name:Nonu\n",
      "age:20\n"
     ]
    }
   ],
   "source": [
    "#iterating over nested dictionary\n",
    "for student_id  , student_info in students.items():\n",
    "    print(f\"{student_id}:{student_info}\")\n",
    "    for key , value in student_info.items():\n",
    "        print(f\"{key}:{value}\")"
   ]
  },
  {
   "cell_type": "code",
   "execution_count": 34,
   "metadata": {},
   "outputs": [
    {
     "name": "stdout",
     "output_type": "stream",
     "text": [
      "{0: 0, 1: 1, 2: 4, 3: 9, 4: 16}\n"
     ]
    }
   ],
   "source": [
    "#dictionary comprehension \n",
    "square={x:x**2 for x in range(5)}\n",
    "print(square)\n",
    " "
   ]
  },
  {
   "cell_type": "code",
   "execution_count": 35,
   "metadata": {},
   "outputs": [
    {
     "name": "stdout",
     "output_type": "stream",
     "text": [
      "{0: 0, 2: 4, 4: 16, 6: 36, 8: 64}\n"
     ]
    }
   ],
   "source": [
    "## Condition dictionary comprehension\n",
    "evens={x:x**2 for x in range(10) if x%2==0}\n",
    "print(evens)\n",
    "    "
   ]
  },
  {
   "cell_type": "code",
   "execution_count": 37,
   "metadata": {},
   "outputs": [
    {
     "name": "stdout",
     "output_type": "stream",
     "text": [
      "{1: 1, 2: 1, 3: 5, 4: 2, 5: 3, 6: 2}\n"
     ]
    }
   ],
   "source": [
    "## Practical Examples\n",
    "\n",
    "## Use a dictionary to count he frequency of elements in list\n",
    "numbers = [1,2,3,3,3,3,3,4,4,5,5,5,6,6]\n",
    "frequency = {}\n",
    "\n",
    "for number in numbers:\n",
    "    if number in frequency:\n",
    "        frequency[number]+=1\n",
    "    else:\n",
    "        frequency[number]=1\n",
    "print(frequency)"
   ]
  },
  {
   "cell_type": "code",
   "execution_count": 38,
   "metadata": {},
   "outputs": [
    {
     "name": "stdout",
     "output_type": "stream",
     "text": [
      "{'a': 1, 'b': 3, 'c': 4}\n"
     ]
    }
   ],
   "source": [
    "# merge 2 dictionaries into one\n",
    "dict1 = {\"a\":1 , \"b\":2}\n",
    "dict2 = {\"b\":3 , \"c\":4}\n",
    "merge_dict = {**dict1 , **dict2}\n",
    "print(merge_dict)"
   ]
  }
 ],
 "metadata": {
  "kernelspec": {
   "display_name": "Python 3",
   "language": "python",
   "name": "python3"
  },
  "language_info": {
   "codemirror_mode": {
    "name": "ipython",
    "version": 3
   },
   "file_extension": ".py",
   "mimetype": "text/x-python",
   "name": "python",
   "nbconvert_exporter": "python",
   "pygments_lexer": "ipython3",
   "version": "3.12.4"
  }
 },
 "nbformat": 4,
 "nbformat_minor": 2
}
