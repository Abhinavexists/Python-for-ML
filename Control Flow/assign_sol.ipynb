{
 "cells": [
  {
   "cell_type": "code",
   "execution_count": 4,
   "metadata": {},
   "outputs": [
    {
     "name": "stdout",
     "output_type": "stream",
     "text": [
      "the number is positive\n"
     ]
    }
   ],
   "source": [
    "# #assignment 1\n",
    "# Write a program that asks the user to input a number and prints whether the number is positive.\n",
    "\n",
    "num = int(input(\"number is:\"))\n",
    "\n",
    "if num > 0:\n",
    "    print(\"the number is positive\")\n",
    "    "
   ]
  },
  {
   "cell_type": "code",
   "execution_count": 5,
   "metadata": {},
   "outputs": [
    {
     "name": "stdout",
     "output_type": "stream",
     "text": [
      "the number is negative\n"
     ]
    }
   ],
   "source": [
    "# Assignment 2: if-else Statement\n",
    "# Write a program that asks the user to input a number and prints whether the number is positive or negative.\n",
    "\n",
    "num = int(input(\"number is:\"))\n",
    "\n",
    "if num > 0:\n",
    "    print(\"the number is positive\")\n",
    "else:\n",
    "    print(\"the number is negative\")"
   ]
  },
  {
   "cell_type": "code",
   "execution_count": 6,
   "metadata": {},
   "outputs": [
    {
     "name": "stdout",
     "output_type": "stream",
     "text": [
      "the num is 0\n"
     ]
    }
   ],
   "source": [
    "# Assignment 3: if-elif-else Statement\n",
    "# Write a program that asks the user to input a number and prints whether the number is positive, negative, or zero.\n",
    "\n",
    "num = int(input(\"number is:\"))\n",
    "\n",
    "if num > 0:\n",
    "    print(\"the number is positive\")\n",
    "elif num ==0:\n",
    "    print(\"the num is 0\")\n",
    "else:\n",
    "    print(\"the number is negative\")\n"
   ]
  },
  {
   "cell_type": "code",
   "execution_count": 9,
   "metadata": {},
   "outputs": [
    {
     "name": "stdout",
     "output_type": "stream",
     "text": [
      "the number is positive and odd\n"
     ]
    }
   ],
   "source": [
    "# Assignment 4: Nested if Statement\n",
    "# Write a program that asks the user to input a number and prints whether the number is positive and even, positive and odd, or negative.\n",
    "\n",
    "num = int(input(\"number is:\"))\n",
    "\n",
    "if num > 0:\n",
    "    if num%2==0:\n",
    "        print(\"the number is positive and even\")\n",
    "    else:\n",
    "        print(\"the number is positive and odd\")\n",
    "elif num ==0:\n",
    "    print(\"the num is 0\")\n",
    "else:\n",
    "    print(\"the number is negative\")\n"
   ]
  },
  {
   "cell_type": "code",
   "execution_count": 15,
   "metadata": {},
   "outputs": [
    {
     "name": "stdout",
     "output_type": "stream",
     "text": [
      "0\n",
      "1\n",
      "2\n",
      "3\n",
      "4\n",
      "5\n",
      "6\n",
      "7\n",
      "8\n",
      "9\n",
      "10\n"
     ]
    }
   ],
   "source": [
    "# Assignment 5: for Loop\n",
    "# Write a program that prints all the numbers from 1 to 10 using a for loop.\n",
    "\n",
    "for i in range(11):\n",
    "    print(i)"
   ]
  },
  {
   "cell_type": "code",
   "execution_count": 22,
   "metadata": {},
   "outputs": [
    {
     "name": "stdout",
     "output_type": "stream",
     "text": [
      "1\n",
      "2\n",
      "3\n",
      "4\n",
      "5\n",
      "6\n",
      "7\n",
      "8\n",
      "9\n",
      "10\n"
     ]
    }
   ],
   "source": [
    "# Assignment 6: while Loop\n",
    "# Write a program that prints all the numbers from 1 to 10 using a while loop.\n",
    "\n",
    "i = 0\n",
    "while i < 10:\n",
    "    i = i+1\n",
    "    print(i)"
   ]
  },
  {
   "cell_type": "code",
   "execution_count": 30,
   "metadata": {},
   "outputs": [
    {
     "name": "stdout",
     "output_type": "stream",
     "text": [
      "* * * * * \n",
      "* * * * * \n",
      "* * * * * \n",
      "* * * * * \n",
      "* * * * * \n"
     ]
    }
   ],
   "source": [
    "# Write a program that prints a 5x5 grid of asterisks (*) using nested loops\n",
    "\n",
    "\n",
    "\n",
    "for i in range(5):\n",
    "    for j in range(5):\n",
    "        print(\"*\" , end=\" \")\n",
    "    print()"
   ]
  },
  {
   "cell_type": "code",
   "execution_count": 34,
   "metadata": {},
   "outputs": [
    {
     "name": "stdout",
     "output_type": "stream",
     "text": [
      "the total sum is 1\n",
      "the total sum is 3\n",
      "the total sum is 6\n",
      "the total sum is 10\n",
      "the total sum is 15\n",
      "the total sum is 21\n",
      "the total sum is 28\n",
      "the total sum is 36\n",
      "the total sum is 45\n"
     ]
    }
   ],
   "source": [
    "#Assignment 8: break Statement\n",
    "#Write a program that asks the user to input numbers until they input 0. The program should print the sum of all the input numbers.\n",
    "\n",
    "total_sum = 0\n",
    "while True:\n",
    "    num = int(input(\"the num is(press 0 to stop):\"))\n",
    "    if num==0:\n",
    "        break\n",
    "    total_sum += num\n",
    "    print(f\"the total sum is {total_sum}\")"
   ]
  },
  {
   "cell_type": "code",
   "execution_count": 37,
   "metadata": {},
   "outputs": [
    {
     "name": "stdout",
     "output_type": "stream",
     "text": [
      "0 1 2 3 4 6 7 8 9 10 "
     ]
    }
   ],
   "source": [
    "# Write a program that prints all the numbers from 1 to 10 except 5 using a for loop and continue statement.\n",
    "for i in range(11):\n",
    "    if i==5:\n",
    "        continue\n",
    "    print(i , end=\" \")"
   ]
  },
  {
   "cell_type": "code",
   "execution_count": 39,
   "metadata": {},
   "outputs": [],
   "source": [
    "# Write a program that defines an empty function using the pass statement.\n",
    "def empty_fun():\n",
    "    pass\n"
   ]
  },
  {
   "cell_type": "code",
   "execution_count": 41,
   "metadata": {},
   "outputs": [
    {
     "name": "stdout",
     "output_type": "stream",
     "text": [
      "0\n",
      "2\n",
      "4\n",
      "6\n",
      "8\n",
      "10\n",
      "12\n",
      "14\n",
      "16\n",
      "18\n",
      "20\n"
     ]
    }
   ],
   "source": [
    "# Write a program that asks the user to input a number and prints all the even numbers from 1 to that number using a for loop.\n",
    "num = int(input(\"Enter a number\"))\n",
    "\n",
    "for i in range(num):\n",
    "    if i%2==0:\n",
    "        print(i)\n"
   ]
  },
  {
   "cell_type": "code",
   "execution_count": 53,
   "metadata": {},
   "outputs": [
    {
     "name": "stdout",
     "output_type": "stream",
     "text": [
      "3628800\n"
     ]
    }
   ],
   "source": [
    "# Write a program that calculates the factorial of a number input by the user using a while loop.\n",
    "num = int(input(\"The number is\"))\n",
    "factorial = 1\n",
    "\n",
    "while num > 0:\n",
    "    factorial *= num\n",
    "    num -= 1\n",
    "print(factorial)"
   ]
  },
  {
   "cell_type": "code",
   "execution_count": 55,
   "metadata": {},
   "outputs": [
    {
     "name": "stdout",
     "output_type": "stream",
     "text": [
      "The sum of the digits is 24.\n"
     ]
    }
   ],
   "source": [
    "# Write a program that calculates the sum of the digits of a number input by the user using a while loop.\n",
    "number = int(input(\"Enter the number\"))\n",
    "sum_of_digits = 0\n",
    "while number > 0:\n",
    "    digit = number % 10\n",
    "    sum_of_digits += digit\n",
    "    number = number // 10\n",
    "print(f\"The sum of the digits is {sum_of_digits}.\")"
   ]
  },
  {
   "cell_type": "code",
   "execution_count": 65,
   "metadata": {},
   "outputs": [
    {
     "name": "stdout",
     "output_type": "stream",
     "text": [
      "47 ia a prime number\n"
     ]
    }
   ],
   "source": [
    "# Write a program that checks if a number input by the user is a prime number using a for loop.\n",
    "number = int(input(\"Enter the number\"))\n",
    "is_prime = True\n",
    "if number <= 1:\n",
    "    is_prime = False\n",
    "else:\n",
    "    for i in range(2 , int(number**0.5) +1):\n",
    "                if number%i==0:\n",
    "                   is_prime = False\n",
    "                   break\n",
    "if is_prime == True:\n",
    "    print(f\"{number} ia a prime number\")\n",
    "else:\n",
    "    print(f\"{number} ia not a prime number\")"
   ]
  },
  {
   "cell_type": "code",
   "execution_count": 78,
   "metadata": {},
   "outputs": [
    {
     "name": "stdout",
     "output_type": "stream",
     "text": [
      "0 1 1 2 3 5 8 13 21 34 "
     ]
    }
   ],
   "source": [
    "# Write a program that prints the first n Fibonacci numbers, where n is input by the user.\n",
    "\n",
    "fibonacci_num = int(input(\"Enter the number: \"))\n",
    "fibonacci_num1 = 0\n",
    "fibonacci_num2 = 1\n",
    "fibonacci_count = 0\n",
    "\n",
    "while fibonacci_count < fibonacci_num:\n",
    "    print(fibonacci_num1 , end =\" \")\n",
    "    fibonacci_num1, fibonacci_num2 = fibonacci_num2, fibonacci_num1 + fibonacci_num2\n",
    "    fibonacci_count += 1\n"
   ]
  }
 ],
 "metadata": {
  "kernelspec": {
   "display_name": "Python 3",
   "language": "python",
   "name": "python3"
  },
  "language_info": {
   "codemirror_mode": {
    "name": "ipython",
    "version": 3
   },
   "file_extension": ".py",
   "mimetype": "text/x-python",
   "name": "python",
   "nbconvert_exporter": "python",
   "pygments_lexer": "ipython3",
   "version": "3.12.4"
  }
 },
 "nbformat": 4,
 "nbformat_minor": 2
}
