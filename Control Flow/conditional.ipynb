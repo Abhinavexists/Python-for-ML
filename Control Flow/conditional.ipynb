{
 "cells": [
  {
   "cell_type": "code",
   "execution_count": 2,
   "metadata": {},
   "outputs": [
    {
     "name": "stdout",
     "output_type": "stream",
     "text": [
      "you are eligible to vote\n"
     ]
    }
   ],
   "source": [
    "# if statement\n",
    "age = 21\n",
    "if age >= 18:\n",
    "    print(\"you are eligible to vote\")\n",
    " "
   ]
  },
  {
   "cell_type": "code",
   "execution_count": 5,
   "metadata": {},
   "outputs": [
    {
     "name": "stdout",
     "output_type": "stream",
     "text": [
      "you can't vote\n"
     ]
    }
   ],
   "source": [
    "## else\n",
    "## The else statement executes a block of code if the condition in the if statement is False.\n",
    "age = 15\n",
    "if age >= 18:\n",
    "    print(\"you are eligible to vote\")\n",
    "else:\n",
    "    print(\"you can't vote\")"
   ]
  },
  {
   "cell_type": "code",
   "execution_count": 8,
   "metadata": {},
   "outputs": [
    {
     "name": "stdout",
     "output_type": "stream",
     "text": [
      "the price is marginally inflated\n"
     ]
    }
   ],
   "source": [
    "## elif\n",
    "## The elif statement allows you to check multiple conditions. It stands for \"else if\"\n",
    "\n",
    "price = 210\n",
    "if price <= 200:\n",
    "    print(\"the price is fair\")\n",
    "elif price <= 230:\n",
    "    print(\"the price is marginally inflated\")\n",
    "else:\n",
    "    print(\"the price is highy inflated\")"
   ]
  },
  {
   "cell_type": "code",
   "execution_count": 14,
   "metadata": {},
   "outputs": [
    {
     "name": "stdout",
     "output_type": "stream",
     "text": [
      "the no. is +ve\n",
      "the no. is odd\n"
     ]
    }
   ],
   "source": [
    "## Nested Condiitonal Statements\n",
    "\n",
    "# You can place one or more if, elif, or else statements inside another if, elif, or else statement to create nested conditional statements.\n",
    "\n",
    "## number even ,odd,negative\n",
    "\n",
    "num = float(input(\"Enter the number:\"))\n",
    "\n",
    "if num>0:\n",
    "    print(\"the no. is +ve\")\n",
    "    if num%2==0:\n",
    "       print(\"the no is even\")\n",
    "    else:\n",
    "       print(\"the no. is odd\")\n",
    "elif num == 0:\n",
    "   print(\"the no. is 0\")\n",
    "else:\n",
    "   print(\"the no. is -ve\")    "
   ]
  },
  {
   "cell_type": "code",
   "execution_count": 19,
   "metadata": {},
   "outputs": [
    {
     "name": "stdout",
     "output_type": "stream",
     "text": [
      "it is not a leap year\n"
     ]
    }
   ],
   "source": [
    "Year = int(input(\"The year is:\"))\n",
    "if Year >= 0:\n",
    "    if Year%4==0:\n",
    "        print(\"it is a leap year\")\n",
    "    else:\n",
    "        print(\"it is not a leap year\")\n",
    "\n",
    "else:\n",
    "    print(\"invalid input\")"
   ]
  },
  {
   "cell_type": "code",
   "execution_count": 21,
   "metadata": {},
   "outputs": [
    {
     "name": "stdout",
     "output_type": "stream",
     "text": [
      "2013 is not a leap year\n"
     ]
    }
   ],
   "source": [
    "## Practical Examples\n",
    "\n",
    "## Determine if a year is a leap year using nested condition statement\n",
    "\n",
    "year=int(input(\"Enter the year\"))\n",
    "\n",
    "if year%4==0:\n",
    "    if year%100==0:\n",
    "        if year%400==0:\n",
    "            print(year,\"is a leap year\")\n",
    "        else:\n",
    "            print(year,\"is not a leap year\")\n",
    "    else:\n",
    "        print(year,\"is a leap year\")\n",
    "\n",
    "else:\n",
    "    print(year,\"is not a leap year\")"
   ]
  },
  {
   "cell_type": "code",
   "execution_count": null,
   "metadata": {},
   "outputs": [],
   "source": [
    "## Assignment\n",
    "## Simple Calculator program\n",
    "# Take user input\n",
    "num1 = float(input(\"Enter first number: \"))\n",
    "num2 = float(input(\"Enter second number: \"))\n",
    "operation = input(\"Enter operation (+, -, *, /): \")\n",
    "\n",
    "# Perform the requested operation\n",
    "if operation == '+':\n",
    "    result = num1 + num2\n",
    "elif operation == '-':\n",
    "    result = num1 - num2\n",
    "elif operation == '*':\n",
    "    result = num1 * num2\n",
    "elif operation == '/':\n",
    "    if num2 != 0:\n",
    "        result = num1 / num2\n",
    "    else:\n",
    "        result = \"Error! Division by zero.\"\n",
    "else:\n",
    "    result = \"Invalid operation.\"\n",
    "\n",
    "print(\"Result:\", result)"
   ]
  },
  {
   "cell_type": "code",
   "execution_count": 31,
   "metadata": {},
   "outputs": [
    {
     "name": "stdout",
     "output_type": "stream",
     "text": [
      "The name of the passenger is  Abhi\n",
      "The age of the passenger is 19\n",
      "Student status True\n",
      "The price is 1300\n"
     ]
    }
   ],
   "source": [
    "### Determine the ticket price based on age and whether the person is a student.\n",
    "# Ticket pricing based on age and student status\n",
    "\n",
    "name = input(\"What your name is:\")\n",
    "print(\"The name of the passenger is \" , name)\n",
    "\n",
    "Age = int(input(\"your age is\"))\n",
    "print(\"The age of the passenger is\" , Age)\n",
    "\n",
    "is_Student = input(\"Are you a student (yes/No):\").strip().lower() == \"yes\"\n",
    "print(\"Student status\" , is_Student)\n",
    "\n",
    "Ticket_Price = 1800\n",
    "\n",
    "if Age <= 18 or Age >= 60:\n",
    "    Ticket = Ticket_Price/2\n",
    "    if is_Student:\n",
    "        student_Ticket = Ticket- 500\n",
    "        print(\"The price is\", student_Ticket)\n",
    "    else:\n",
    "        print(\"The price is\",Ticket)\n",
    "elif is_Student:\n",
    "    Student_Ticket = Ticket_Price - 500 \n",
    "    print(\"The price is\", Student_Ticket)\n",
    "else:\n",
    "    print(\"The price is\" , Ticket_Price)\n",
    "    \n"
   ]
  },
  {
   "cell_type": "code",
   "execution_count": 34,
   "metadata": {},
   "outputs": [
    {
     "name": "stdout",
     "output_type": "stream",
     "text": [
      "Employee Name is Abhinav Kumar Singh\n",
      "The total year of service is 11\n",
      "Performance rating of employee is 3\n",
      "Your Cureent Salary is 80000\n",
      "Your Bonus is 40000.0\n"
     ]
    }
   ],
   "source": [
    "# Complex Example 3: Employee Bonus Calculation\n",
    "# Calculate an employee's bonus based on their performance rating and years of service.\n",
    "# Employee bonus calculation\n",
    "# Take user input\n",
    "\n",
    "name = input(\"Employee Name\")\n",
    "print(\"Employee Name is\" , name)\n",
    "\n",
    "Year_of_service = int(input(\"Total years of Service\"))\n",
    "print(\"The total year of service is\" , Year_of_service)\n",
    "\n",
    "per_rate = int(input(\"Input the performance rating form 1 to 5\"))\n",
    "print(\"Performance rating of employee is\" , per_rate )\n",
    "\n",
    "salary = int(input(\"Your current Salary is\"))\n",
    "print(\"Your Cureent Salary is\" , salary)\n",
    "\n",
    "if Year_of_service >= 15:\n",
    "    bonus1 = salary/2\n",
    "elif Year_of_service >= 10:\n",
    "    bonus1 = salary/3\n",
    "else:\n",
    "    bonus1 = salary/4\n",
    "\n",
    "if per_rate >= 4:\n",
    "    bonus2 = salary/4\n",
    "elif per_rate >=2:\n",
    "    bonus2 = salary/6\n",
    "else:\n",
    "    bonus2 = 0\n",
    "\n",
    "Bonus = bonus2 + bonus1\n",
    "Final_Bonus = abs(Bonus)\n",
    "print(\"Your Bonus is\" , Final_Bonus )\n"
   ]
  }
 ],
 "metadata": {
  "kernelspec": {
   "display_name": "Python 3",
   "language": "python",
   "name": "python3"
  },
  "language_info": {
   "codemirror_mode": {
    "name": "ipython",
    "version": 3
   },
   "file_extension": ".py",
   "mimetype": "text/x-python",
   "name": "python",
   "nbconvert_exporter": "python",
   "pygments_lexer": "ipython3",
   "version": "3.12.4"
  }
 },
 "nbformat": 4,
 "nbformat_minor": 2
}
