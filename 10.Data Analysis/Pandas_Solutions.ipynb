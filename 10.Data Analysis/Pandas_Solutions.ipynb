{
 "cells": [
  {
   "cell_type": "markdown",
   "metadata": {},
   "source": [
    "### Assignment 1: DataFrame Creation and Indexing\n",
    "\n",
    "1. Create a Pandas DataFrame with 4 columns and 6 rows filled with random integers. Set the index to be the first column.\n",
    "2. Create a Pandas DataFrame with columns 'A', 'B', 'C' and index 'X', 'Y', 'Z'. Fill the DataFrame with random integers and access the element at row 'Y' and column 'B'."
   ]
  },
  {
   "cell_type": "code",
   "execution_count": 2,
   "metadata": {},
   "outputs": [],
   "source": [
    "import pandas as pd\n",
    "import numpy as np"
   ]
  },
  {
   "cell_type": "code",
   "execution_count": 19,
   "metadata": {},
   "outputs": [
    {
     "name": "stdout",
     "output_type": "stream",
     "text": [
      "Dataframe\n",
      "    A   B   C   D\n",
      "0  13  18  18  60\n",
      "1  90  15  45   2\n",
      "2  20  39  42  22\n",
      "3  88  10  73  65\n",
      "4  93  68  19  85\n",
      "5  25  93  31  90\n",
      "Indexed Dataframe\n",
      "     B   C   D\n",
      "A             \n",
      "13  18  18  60\n",
      "90  15  45   2\n",
      "20  39  42  22\n",
      "88  10  73  65\n",
      "93  68  19  85\n",
      "25  93  31  90\n"
     ]
    }
   ],
   "source": [
    "df = pd.DataFrame(np.random.randint(1,100,size=(6,4)) , columns=['A','B','C','D'])\n",
    "print('Dataframe:')\n",
    "print(df)\n",
    "\n",
    "df.set_index('A' , inplace = True)\n",
    "print(\"Indexed Dataframe:\")\n",
    "print(df)"
   ]
  },
  {
   "cell_type": "code",
   "execution_count": 26,
   "metadata": {},
   "outputs": [
    {
     "name": "stdout",
     "output_type": "stream",
     "text": [
      "Dataframe:\n",
      "    A   B   C\n",
      "X  10  43  67\n",
      "Y  77  57   3\n",
      "Z  10  67  13\n",
      "Elements Requested\n",
      "57\n"
     ]
    }
   ],
   "source": [
    "df = pd.DataFrame(np.random.randint(1,100,size=(3,3)) , columns=['A','B','C'] , index=['X','Y','Z'])\n",
    "print('Dataframe:')\n",
    "print(df)\n",
    "\n",
    "elements = df.at['Y' , 'B']\n",
    "print('Elements Requested')\n",
    "print(elements)\n",
    "\n"
   ]
  },
  {
   "cell_type": "markdown",
   "metadata": {},
   "source": [
    "### Assignment 2: DataFrame Operations\n",
    "\n",
    "1. Create a Pandas DataFrame with 3 columns and 5 rows filled with random integers. Add a new column that is the product of the first two columns.\n",
    "2. Create a Pandas DataFrame with 3 columns and 4 rows filled with random integers. Compute the row-wise and column-wise sum."
   ]
  },
  {
   "cell_type": "code",
   "execution_count": 29,
   "metadata": {},
   "outputs": [
    {
     "name": "stdout",
     "output_type": "stream",
     "text": [
      "Dataframe:\n",
      "    A   B   C\n",
      "0   7   8  48\n",
      "1  35  53  47\n",
      "2  46  34   2\n",
      "3  89  96  37\n",
      "4  92  45  14\n",
      "Dataframe Regenerated\n",
      "    A   B   C     D\n",
      "0   7   8  48    56\n",
      "1  35  53  47  1855\n",
      "2  46  34   2  1564\n",
      "3  89  96  37  8544\n",
      "4  92  45  14  4140\n"
     ]
    }
   ],
   "source": [
    "df =  pd.DataFrame(np.random.randint(1,100,size=(5,3)) , columns=['A','B','C'])\n",
    "print('Dataframe:')\n",
    "print(df)\n",
    "\n",
    "df['D']  = df['A']*df['B']\n",
    "print('Dataframe Regenerated')\n",
    "print(df)"
   ]
  },
  {
   "cell_type": "code",
   "execution_count": 36,
   "metadata": {},
   "outputs": [
    {
     "name": "stdout",
     "output_type": "stream",
     "text": [
      "Dataframe:\n",
      "    A   B   C\n",
      "0  56  49  51\n",
      "1  52  69  69\n",
      "2  96   3  84\n",
      "3  96  46  18\n",
      "Row Wise Sum\n",
      "0    156\n",
      "1    190\n",
      "2    183\n",
      "3    160\n",
      "dtype: int64\n",
      "Column Wise Sum\n",
      "A    300\n",
      "B    167\n",
      "C    222\n",
      "dtype: int64\n"
     ]
    }
   ],
   "source": [
    "df =  pd.DataFrame(np.random.randint(1,100,size=(4,3)) , columns=['A','B','C'])\n",
    "print('Dataframe:')\n",
    "print(df)\n",
    "\n",
    "row_wise_sum = df.sum(axis=1)\n",
    "print('Row Wise Sum')\n",
    "print(row_wise_sum)\n",
    "\n",
    "column_wise_sum = df.sum(axis=0)\n",
    "print('Column Wise Sum')\n",
    "print(column_wise_sum)"
   ]
  },
  {
   "cell_type": "markdown",
   "metadata": {},
   "source": [
    "### Assignment 3: Data Cleaning\n",
    "\n",
    "1. Create a Pandas DataFrame with 3 columns and 5 rows filled with random integers. Introduce some NaN values. Fill the NaN values with the mean of the respective columns.\n",
    "2. Create a Pandas DataFrame with 4 columns and 6 rows filled with random integers. Introduce some NaN values. Drop the rows with any NaN values."
   ]
  },
  {
   "cell_type": "code",
   "execution_count": 42,
   "metadata": {},
   "outputs": [
    {
     "name": "stdout",
     "output_type": "stream",
     "text": [
      "Dataframe:\n",
      "    A   B   C\n",
      "0  98  14  44\n",
      "1  84  39   4\n",
      "2  58  62  36\n",
      "3  73  35  41\n",
      "4  37  92  46\n",
      "Dataframe with some NaN values:\n",
      "      A     B     C\n",
      "0  98.0   NaN  44.0\n",
      "1   NaN  39.0   4.0\n",
      "2  58.0  62.0   NaN\n",
      "3  73.0  35.0  41.0\n",
      "4   NaN  92.0  46.0\n",
      "Final Dataframe\n",
      "           A     B      C\n",
      "0  98.000000  57.0  44.00\n",
      "1  76.333333  39.0   4.00\n",
      "2  58.000000  62.0  33.75\n",
      "3  73.000000  35.0  41.00\n",
      "4  76.333333  92.0  46.00\n"
     ]
    }
   ],
   "source": [
    "df = pd.DataFrame(np.random.randint(1,100,size=(5,3)) , columns=['A' , 'B' , 'C'])\n",
    "print('Dataframe:')\n",
    "print(df)\n",
    "\n",
    "df.iloc[1, 0] = np.nan\n",
    "df.iloc[0, 1] = np.nan\n",
    "df.iloc[2, 2] = np.nan\n",
    "df.iloc[4, 0] = np.nan\n",
    "print('Dataframe with some NaN values:')\n",
    "print(df)\n",
    "\n",
    "# df.fillna(df.mean().mean() , inplace=True) if want to replace with mean of whole dstaframe\n",
    "df.fillna(df.mean() , inplace=True) # mean of respective coloumn\n",
    "print('Final Dataframe')\n",
    "print(df)"
   ]
  },
  {
   "cell_type": "code",
   "execution_count": 44,
   "metadata": {},
   "outputs": [
    {
     "name": "stdout",
     "output_type": "stream",
     "text": [
      "Dataframe\n",
      "    A   B   C\n",
      "0  91  80  97\n",
      "1  79  15  61\n",
      "2   3   1   1\n",
      "3  70  12  59\n",
      "4  28   9  93\n",
      "5  28  80  79\n",
      "Dataframe with some NaN values:\n",
      "      A     B     C\n",
      "0  91.0   NaN  97.0\n",
      "1   NaN  15.0  61.0\n",
      "2   3.0   1.0   NaN\n",
      "3  70.0  12.0  59.0\n",
      "4   NaN   9.0  93.0\n",
      "5  28.0  80.0  79.0\n",
      "Final Dataframe\n",
      "      A     B     C\n",
      "3  70.0  12.0  59.0\n",
      "5  28.0  80.0  79.0\n"
     ]
    }
   ],
   "source": [
    "df = pd.DataFrame(np.random.randint(1,100,size=(6,3)) , columns=['A' ,'B' ,'C'])\n",
    "print('Dataframe')\n",
    "print(df)\n",
    "\n",
    "df.iloc[1, 0] = np.nan\n",
    "df.iloc[0, 1] = np.nan\n",
    "df.iloc[2, 2] = np.nan\n",
    "df.iloc[4, 0] = np.nan\n",
    "print('Dataframe with some NaN values:')\n",
    "print(df)\n",
    "\n",
    "df.dropna(inplace=True)\n",
    "print('Final Dataframe:')\n",
    "print(df)"
   ]
  },
  {
   "cell_type": "markdown",
   "metadata": {},
   "source": [
    "### Assignment 4: Data Aggregation\n",
    "\n",
    "1. Create a Pandas DataFrame with 2 columns: 'Category' and 'Value'. Fill the 'Category' column with random categories ('A', 'B', 'C') and the 'Value' column with random integers. Group the DataFrame by 'Category' and compute the sum and mean of 'Value' for each category.\n",
    "2. Create a Pandas DataFrame with 3 columns: 'Product', 'Category', and 'Sales'. Fill the DataFrame with random data. Group the DataFrame by 'Category' and compute the total sales for each category."
   ]
  },
  {
   "cell_type": "code",
   "execution_count": 10,
   "metadata": {},
   "outputs": [
    {
     "name": "stdout",
     "output_type": "stream",
     "text": [
      "Dataframe:\n",
      "  Category  Value\n",
      "0        A     46\n",
      "1        A     30\n",
      "2        A     37\n",
      "3        C     97\n",
      "4        C     87\n",
      "5        C      4\n",
      "6        B     67\n",
      "7        B     15\n",
      "8        C     47\n",
      "9        B     88\n",
      "Grouped DF\n",
      "          sum       mean\n",
      "Category                \n",
      "A         113  37.666667\n",
      "B         170  56.666667\n",
      "C         235  58.750000\n"
     ]
    }
   ],
   "source": [
    "df = pd.DataFrame({'Category':np.random.choice(['A','B','C'] , size = 10) , 'Value':np.random.randint(1,100,size=10)})\n",
    "print('Dataframe:')\n",
    "print(df)\n",
    "\n",
    "grouped=df.groupby('Category')['Value'].agg(['sum','mean'])\n",
    "print('Grouped DF')\n",
    "print(grouped)"
   ]
  },
  {
   "cell_type": "code",
   "execution_count": 11,
   "metadata": {},
   "outputs": [
    {
     "name": "stdout",
     "output_type": "stream",
     "text": [
      "Dataframe:\n",
      "  Product Category  Sales\n",
      "0   Prod2     Cat2     46\n",
      "1   Prod3     Cat3     77\n",
      "2   Prod1     Cat1     41\n",
      "3   Prod2     Cat2     96\n",
      "4   Prod1     Cat1     90\n",
      "5   Prod1     Cat3     94\n",
      "6   Prod3     Cat2      2\n",
      "7   Prod1     Cat2     71\n",
      "8   Prod1     Cat2     91\n",
      "9   Prod3     Cat2     25\n",
      "Grouped DF\n",
      "Category\n",
      "Cat1    131\n",
      "Cat2    331\n",
      "Cat3    171\n",
      "Name: Sales, dtype: int32\n"
     ]
    }
   ],
   "source": [
    "df = pd.DataFrame({'Product' : np.random.choice(['Prod1','Prod2','Prod3'],size = 10) , 'Category':np.random.choice(['Cat1' , 'Cat2' , 'Cat3'] , size=10) , 'Sales':np.random.randint(1,100,size=10)})\n",
    "print('Dataframe:')\n",
    "print(df)\n",
    "\n",
    "grouped = df.groupby('Category')['Sales'].agg('sum')\n",
    "print('Grouped DF')\n",
    "print(grouped)\n"
   ]
  },
  {
   "cell_type": "markdown",
   "metadata": {},
   "source": [
    "### Assignment 5: Merging DataFrames\n",
    "\n",
    "1. Create two Pandas DataFrames with a common column. Merge the DataFrames using the common column.\n",
    "2. Create two Pandas DataFrames with different columns. Concatenate the DataFrames along the rows and along the columns."
   ]
  },
  {
   "cell_type": "code",
   "execution_count": 14,
   "metadata": {},
   "outputs": [
    {
     "name": "stdout",
     "output_type": "stream",
     "text": [
      "Dataframe1:\n",
      "  Key  Values\n",
      "0   A      50\n",
      "1   B      93\n",
      "2   C       4\n",
      "3   D      71\n",
      "Dataframe2:\n",
      "  Key  Values\n",
      "0   A      17\n",
      "1   B      97\n",
      "2   C      24\n",
      "3   E      50\n",
      "  Key  Values_x  Values_y\n",
      "0   A        50        17\n",
      "1   B        93        97\n",
      "2   C         4        24\n"
     ]
    }
   ],
   "source": [
    "df1 = pd.DataFrame({'Key':['A','B','C','D'] , 'Values': np.random.randint(1,100,size=4)})\n",
    "df2 = pd.DataFrame({'Key':['A','B','C','E'] , 'Values': np.random.randint(1,100,size=4)})\n",
    "print('Dataframe1:')\n",
    "print(df1)\n",
    "\n",
    "print('Dataframe2:')\n",
    "print(df2)\n",
    "\n",
    "merged_df = pd.merge(df1,df2,on='Key')\n",
    "print(merged_df)"
   ]
  },
  {
   "cell_type": "code",
   "execution_count": 16,
   "metadata": {},
   "outputs": [
    {
     "name": "stdout",
     "output_type": "stream",
     "text": [
      "Dataframe 1:\n",
      "    A   B\n",
      "0  30  45\n",
      "1  79  42\n",
      "2  23  89\n",
      "3  26  91\n",
      "Dataframe 2:\n",
      "    C   D\n",
      "0   2  86\n",
      "1  81  10\n",
      "2   9  39\n",
      "3  88  49\n",
      "Row Concatination\n",
      "    A   B   C   D\n",
      "0  30  45   2  86\n",
      "1  79  42  81  10\n",
      "2  23  89   9  39\n",
      "3  26  91  88  49\n",
      "Column Concatination\n",
      "      A     B     C     D\n",
      "0  30.0  45.0   NaN   NaN\n",
      "1  79.0  42.0   NaN   NaN\n",
      "2  23.0  89.0   NaN   NaN\n",
      "3  26.0  91.0   NaN   NaN\n",
      "0   NaN   NaN   2.0  86.0\n",
      "1   NaN   NaN  81.0  10.0\n",
      "2   NaN   NaN   9.0  39.0\n",
      "3   NaN   NaN  88.0  49.0\n"
     ]
    }
   ],
   "source": [
    "df1 = pd.DataFrame({'A':np.random.randint(1,100,size=4) ,'B':np.random.randint(1,100,size=4)})\n",
    "df2 = pd.DataFrame({'C':np.random.randint(1,100,size=4) , 'D':np.random.randint(1,100,size=4)})\n",
    "\n",
    "print('Dataframe 1:')\n",
    "print(df1)\n",
    "print('Dataframe 2:')\n",
    "print(df2)\n",
    "\n",
    "concatenate_row = pd.concat([df1 , df2] , axis=1)\n",
    "concatinate_columns = pd.concat([df1 , df2], axis=0)\n",
    "print('Row Concatination')\n",
    "print(concatenate_row)\n",
    "print('Column Concatination')\n",
    "print(concatinate_columns)\n"
   ]
  },
  {
   "cell_type": "markdown",
   "metadata": {},
   "source": [
    "### Assignment 6: Time Series Analysis\n",
    "\n",
    "1. Create a Pandas DataFrame with a datetime index and one column filled with random integers. Resample the DataFrame to compute the monthly mean of the values.\n",
    "2. Create a Pandas DataFrame with a datetime index ranging from '2021-01-01' to '2021-12-31' and one column filled with random integers. Compute the rolling mean with a window of 7 days."
   ]
  },
  {
   "cell_type": "code",
   "execution_count": 26,
   "metadata": {},
   "outputs": [
    {
     "name": "stdout",
     "output_type": "stream",
     "text": [
      "Dataframe:\n",
      "            data\n",
      "date            \n",
      "2022-01-01    18\n",
      "2022-01-02    49\n",
      "2022-01-03    98\n",
      "2022-01-04    50\n",
      "2022-01-05    33\n",
      "...          ...\n",
      "2022-12-27    67\n",
      "2022-12-28    98\n",
      "2022-12-29    51\n",
      "2022-12-30    35\n",
      "2022-12-31    24\n",
      "\n",
      "[365 rows x 1 columns]\n",
      "Monthly Mean\n",
      "                 data\n",
      "date                 \n",
      "2022-01-31  45.129032\n",
      "2022-02-28  37.464286\n",
      "2022-03-31  46.645161\n",
      "2022-04-30  47.100000\n",
      "2022-05-31  52.161290\n",
      "2022-06-30  49.733333\n",
      "2022-07-31  52.354839\n",
      "2022-08-31  47.645161\n",
      "2022-09-30  47.900000\n",
      "2022-10-31  45.516129\n",
      "2022-11-30  57.900000\n",
      "2022-12-31  54.225806\n"
     ]
    }
   ],
   "source": [
    "Date_range = pd.date_range(start='2022-01-01',end='2022-12-31',freq=\"D\") #freq='D': The frequency is daily (D stands for days).\n",
    "df = pd.DataFrame(Date_range,columns=['date'])\n",
    "df['data'] = np.random.randint(1,100,size=len(Date_range))\n",
    "df.set_index('date' , inplace=True)\n",
    "print('Dataframe:')\n",
    "print(df)\n",
    "\n",
    "Monthly_mean = df.resample('ME').mean() #'ME': Specifies the frequency to be monthly.\n",
    "print('Monthly Mean')\n",
    "print(Monthly_mean)"
   ]
  },
  {
   "cell_type": "code",
   "execution_count": 30,
   "metadata": {},
   "outputs": [
    {
     "name": "stdout",
     "output_type": "stream",
     "text": [
      "Dataframe:\n",
      "            Data\n",
      "Date            \n",
      "2022-01-01    67\n",
      "2022-01-02    62\n",
      "2022-01-03    19\n",
      "2022-01-04     1\n",
      "2022-01-05     8\n",
      "...          ...\n",
      "2022-12-27    25\n",
      "2022-12-28    55\n",
      "2022-12-29     1\n",
      "2022-12-30    93\n",
      "2022-12-31     6\n",
      "\n",
      "[365 rows x 1 columns]\n",
      "Rolling Mean:\n",
      "                 Data\n",
      "Date                 \n",
      "2022-01-01        NaN\n",
      "2022-01-02        NaN\n",
      "2022-01-03        NaN\n",
      "2022-01-04        NaN\n",
      "2022-01-05        NaN\n",
      "...               ...\n",
      "2022-12-27  50.571429\n",
      "2022-12-28  54.142857\n",
      "2022-12-29  41.428571\n",
      "2022-12-30  48.285714\n",
      "2022-12-31  47.142857\n",
      "\n",
      "[365 rows x 1 columns]\n"
     ]
    }
   ],
   "source": [
    "Date_rng = pd.date_range(start='2021-01-01',end='2021-12-31',freq='D')\n",
    "df = pd.DataFrame(Date_range , columns=['Date'])\n",
    "df[\"Data\"] = np.random.randint(1,100,size=len(Date_range))\n",
    "df.set_index('Date' , inplace=True)\n",
    "print('Dataframe:')\n",
    "print(df)\n",
    "\n",
    "rolling_mean  = df.rolling(window=7).mean()\n",
    "print('Rolling Mean:')\n",
    "print(rolling_mean)"
   ]
  },
  {
   "cell_type": "markdown",
   "metadata": {},
   "source": [
    "### Assignment 7: MultiIndex DataFrame\n",
    "\n",
    "1. Create a Pandas DataFrame with a MultiIndex (hierarchical index). Perform some basic indexing and slicing operations on the MultiIndex DataFrame.\n",
    "2. Create a Pandas DataFrame with MultiIndex consisting of 'Category' and 'SubCategory'. Fill the DataFrame with random data and compute the sum of values for each 'Category' and 'SubCategory'.\n"
   ]
  },
  {
   "cell_type": "code",
   "execution_count": 35,
   "metadata": {},
   "outputs": [
    {
     "name": "stdout",
     "output_type": "stream",
     "text": [
      "Dataframe:\n",
      "                       Value1  Value2  Value3\n",
      "Category Sub-Category                        \n",
      "A        One               30      47      78\n",
      "B        Two                8      58       8\n",
      "C        Three             63      71      55\n",
      "D        Four              72      77      77\n",
      "Indexing at Category 'A':\n",
      "              Value1  Value2  Value3\n",
      "Sub-Category                        \n",
      "One               30      47      78\n",
      "Slicing at Category 'B' and SubCategory 'two':\n",
      "Value1     8\n",
      "Value2    58\n",
      "Value3     8\n",
      "Name: (B, Two), dtype: int32\n"
     ]
    }
   ],
   "source": [
    "array = [['A','B','C','D'] , ['One','Two','Three','Four']]\n",
    "index = pd.MultiIndex.from_arrays(array , names=('Category','Sub-Category'))\n",
    "df = pd.DataFrame(np.random.randint(1,100,size=(4,3)) , index=index , columns=['Value1','Value2','Value3'])\n",
    "print('Dataframe:')\n",
    "print(df)\n",
    "\n",
    "# Basic indexing and slicing operations\n",
    "print(\"Indexing at Category 'A':\")\n",
    "print(df.loc['A'])\n",
    "\n",
    "print(\"Slicing at Category 'B' and SubCategory 'two':\")\n",
    "print(df.loc[('B', 'Two')])"
   ]
  },
  {
   "cell_type": "code",
   "execution_count": 40,
   "metadata": {},
   "outputs": [
    {
     "name": "stdout",
     "output_type": "stream",
     "text": [
      "Dataframe:\n",
      "                      Val1  Val2  Val3\n",
      "Category Subcategory                  \n",
      "A        1              88    16    63\n",
      "B        2              83    15    13\n",
      "C        3              42    74    73\n",
      "Sum is\n",
      "                      Val1  Val2  Val3\n",
      "Category Subcategory                  \n",
      "A        1              88    16    63\n",
      "B        2              83    15    13\n",
      "C        3              42    74    73\n"
     ]
    }
   ],
   "source": [
    "arr = [['A','B','C'] , [1,2,3]]\n",
    "index = pd.MultiIndex.from_arrays(arr , names=('Category','Subcategory'))\n",
    "df = pd.DataFrame(np.random.randint(1,100,size=(3,3)) , index=index , columns=['Val1' , 'Val2' , 'Val3'])\n",
    "print('Dataframe:')\n",
    "print(df)\n",
    "\n",
    "Sum = df.groupby(['Category' , 'Subcategory']).sum()\n",
    "print('Sum is')\n",
    "print(Sum)"
   ]
  },
  {
   "cell_type": "markdown",
   "metadata": {},
   "source": [
    "### Assignment 8: Pivot Tables\n",
    "\n",
    "1. Create a Pandas DataFrame with columns 'Date', 'Category', and 'Value'. Create a pivot table to compute the sum of 'Value' for each 'Category' by 'Date'.\n",
    "2. Create a Pandas DataFrame with columns 'Year', 'Quarter', and 'Revenue'. Create a pivot table to compute the mean 'Revenue' for each 'Quarter' by 'Year'.\n"
   ]
  },
  {
   "cell_type": "code",
   "execution_count": 45,
   "metadata": {},
   "outputs": [
    {
     "name": "stdout",
     "output_type": "stream",
     "text": [
      "Dataframe:\n",
      "         Date Category  Value\n",
      "0  2023-11-15        B     34\n",
      "1  2023-11-15        A     32\n",
      "2  2023-11-15        A     86\n",
      "3  2023-11-15        A     96\n",
      "4  2023-11-15        C     32\n",
      "5  2023-11-15        A     55\n",
      "6  2023-11-15        B     14\n",
      "7  2023-11-15        B     30\n",
      "8  2023-11-15        A      4\n",
      "9  2023-11-15        A     36\n",
      "10 2023-11-15        B     22\n",
      "11 2023-11-15        B     70\n",
      "12 2023-11-15        C     37\n",
      "13 2023-11-15        A     58\n",
      "14 2023-11-15        A     97\n",
      "15 2023-11-15        A     85\n",
      "16 2023-11-15        B     47\n",
      "17 2023-11-15        B     96\n",
      "18 2023-11-15        B     50\n",
      "19 2023-11-15        B      1\n",
      "Mean Revenue\n",
      "Category      A    B   C\n",
      "Date                    \n",
      "2023-11-15  549  364  69\n"
     ]
    }
   ],
   "source": [
    "date_rng = pd.date_range(start='2023-01-01' , end='2023-12-31' , freq='D')\n",
    "df = pd.DataFrame({'Date': np.random.choice(date_rng) , 'Category': np.random.choice(['A','B','C'] , size=20) , 'Value':np.random.randint(1,100,size=20)})\n",
    "print('Dataframe:')\n",
    "print(df)\n",
    "\n",
    "Sum_Value = df.pivot_table(values='Value' , index='Date' , columns='Category' , aggfunc='sum')\n",
    "print('Sum Value')\n",
    "print(Sum_Value)"
   ]
  },
  {
   "cell_type": "code",
   "execution_count": 46,
   "metadata": {},
   "outputs": [
    {
     "name": "stdout",
     "output_type": "stream",
     "text": [
      "Dataframe:\n",
      "         Date   Quarter  Revenue\n",
      "0  2023-11-04  Quarter2       32\n",
      "1  2023-11-04  Quarter3       17\n",
      "2  2023-11-04  Quarter4       21\n",
      "3  2023-11-04  Quarter2       78\n",
      "4  2023-11-04  Quarter4       81\n",
      "5  2023-11-04  Quarter1       49\n",
      "6  2023-11-04  Quarter3        7\n",
      "7  2023-11-04  Quarter4       81\n",
      "8  2023-11-04  Quarter2       78\n",
      "9  2023-11-04  Quarter2       34\n",
      "10 2023-11-04  Quarter2       99\n",
      "11 2023-11-04  Quarter3       58\n",
      "12 2023-11-04  Quarter2       28\n",
      "13 2023-11-04  Quarter2       71\n",
      "14 2023-11-04  Quarter1       81\n",
      "15 2023-11-04  Quarter4       92\n",
      "16 2023-11-04  Quarter1        4\n",
      "17 2023-11-04  Quarter1       47\n",
      "18 2023-11-04  Quarter3       56\n",
      "19 2023-11-04  Quarter3       96\n",
      "Mean Revenue\n",
      "Quarter     Quarter1  Quarter2  Quarter3  Quarter4\n",
      "Date                                              \n",
      "2023-11-04     45.25      60.0      46.8     68.75\n"
     ]
    }
   ],
   "source": [
    "data_rng = pd.date_range(start='2023-01-01' , end='2023-12-01' , freq='D')\n",
    "df = pd.DataFrame({'Date':np.random.choice(data_rng) , 'Quarter':np.random.choice(['Quarter1','Quarter2','Quarter3','Quarter4'],size = 20) ,'Revenue':np.random.randint(1,100,size=20)})\n",
    "print('Dataframe:')\n",
    "print(df)\n",
    "\n",
    "Mean_Revenue = df.pivot_table(values='Revenue' , index='Date' , columns='Quarter' , aggfunc='mean')\n",
    "print('Mean Revenue')\n",
    "print(Mean_Revenue)"
   ]
  },
  {
   "cell_type": "markdown",
   "metadata": {},
   "source": [
    "### Assignment 9: Applying Functions\n",
    "\n",
    "1. Create a Pandas DataFrame with 3 columns and 5 rows filled with random integers. Apply a function that doubles the values of the DataFrame.\n",
    "2. Create a Pandas DataFrame with 3 columns and 6 rows filled with random integers. Apply a lambda function to create a new column that is the sum of the existing columns."
   ]
  },
  {
   "cell_type": "code",
   "execution_count": 48,
   "metadata": {},
   "outputs": [
    {
     "name": "stdout",
     "output_type": "stream",
     "text": [
      "Dataframe:\n",
      "    A   B   C\n",
      "0  69  60  66\n",
      "1  50  85  67\n",
      "2  24  52   8\n",
      "3  67  32  17\n",
      "4  37  70  85\n",
      "Doubled Dataframe\n",
      "     A    B    C\n",
      "0  138  120  132\n",
      "1  100  170  134\n",
      "2   48  104   16\n",
      "3  134   64   34\n",
      "4   74  140  170\n"
     ]
    }
   ],
   "source": [
    "df = pd.DataFrame(np.random.randint(1,100,size=(5,3)) , columns=['A','B','C'])\n",
    "print('Dataframe:')\n",
    "print(df)\n",
    " \n",
    "Doubled = df.map(lambda x:x*2) #applymap depricted , use map instead\n",
    "print('Doubled Dataframe')\n",
    "print(Doubled)"
   ]
  },
  {
   "cell_type": "code",
   "execution_count": 56,
   "metadata": {},
   "outputs": [
    {
     "name": "stdout",
     "output_type": "stream",
     "text": [
      "Dataframe\n",
      "    A   B   C\n",
      "0   3  19  40\n",
      "1  38  18  26\n",
      "2  79  24   2\n",
      "3  59  72  80\n",
      "4  87  24  73\n",
      "5  19  31  96\n",
      "Column Sum\n",
      "0     62\n",
      "1     82\n",
      "2    105\n",
      "3    211\n",
      "4    184\n",
      "5    146\n",
      "dtype: int64\n"
     ]
    }
   ],
   "source": [
    "df = pd.DataFrame(np.random.randint(1,100,size=(6,3)),columns=['A','B','C'])\n",
    "print('Dataframe')\n",
    "print(df)\n",
    "\n",
    "column_Sum = df.apply(lambda row: row.sum() , axis=1)\n",
    "print('Column Sum')\n",
    "print(column_Sum)\n"
   ]
  },
  {
   "cell_type": "markdown",
   "metadata": {},
   "source": [
    "### Assignment 10: Working with Text Data\n",
    "\n",
    "1. Create a Pandas Series with 5 random text strings. Convert all the strings to uppercase.\n",
    "2. Create a Pandas Series with 5 random text strings. Extract the first three characters of each string.\n"
   ]
  },
  {
   "cell_type": "code",
   "execution_count": 58,
   "metadata": {},
   "outputs": [
    {
     "name": "stdout",
     "output_type": "stream",
     "text": [
      "Series:\n",
      "0       hi\n",
      "1      how\n",
      "2      are\n",
      "3      you\n",
      "4    hello\n",
      "dtype: object\n",
      "Upper Case\n",
      "0       HI\n",
      "1      HOW\n",
      "2      ARE\n",
      "3      YOU\n",
      "4    HELLO\n",
      "dtype: object\n"
     ]
    }
   ],
   "source": [
    "series  = pd.Series(['hi' , 'how' , 'are' , 'you' , 'hello'])\n",
    "print('Series:')\n",
    "print(series)\n",
    "\n",
    "Upper_Case = series.str.upper()\n",
    "print('Upper Case')\n",
    "print(Upper_Case)\n"
   ]
  },
  {
   "cell_type": "code",
   "execution_count": 59,
   "metadata": {},
   "outputs": [
    {
     "name": "stdout",
     "output_type": "stream",
     "text": [
      "Series:\n",
      "0       hi\n",
      "1      how\n",
      "2      are\n",
      "3      you\n",
      "4    hello\n",
      "dtype: object\n",
      "0     hi\n",
      "1    how\n",
      "2    are\n",
      "3    you\n",
      "4    hel\n",
      "dtype: object\n"
     ]
    }
   ],
   "source": [
    "series  = pd.Series(['hi' , 'how' , 'are' , 'you' , 'hello'])\n",
    "print('Series:')\n",
    "print(series)\n",
    "\n",
    "three_char = series.str[:3]\n",
    "print(three_char)\n"
   ]
  }
 ],
 "metadata": {
  "kernelspec": {
   "display_name": "venv",
   "language": "python",
   "name": "python3"
  },
  "language_info": {
   "codemirror_mode": {
    "name": "ipython",
    "version": 3
   },
   "file_extension": ".py",
   "mimetype": "text/x-python",
   "name": "python",
   "nbconvert_exporter": "python",
   "pygments_lexer": "ipython3",
   "version": "3.12.4"
  }
 },
 "nbformat": 4,
 "nbformat_minor": 2
}
