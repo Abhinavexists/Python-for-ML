{
 "cells": [
  {
   "cell_type": "markdown",
   "metadata": {},
   "source": [
    "### Assignment 1: Array Creation and Manipulation\n",
    "\n",
    "1. Create a NumPy array of shape (5, 5) filled with random integers between 1 and 20. Replace all the elements in the third column with 1.\n",
    "2. Create a NumPy array of shape (4, 4) with values from 1 to 16. Replace the diagonal elements with 0."
   ]
  },
  {
   "cell_type": "code",
   "execution_count": 2,
   "metadata": {},
   "outputs": [],
   "source": [
    "import numpy as np\n",
    "import random"
   ]
  },
  {
   "cell_type": "code",
   "execution_count": 3,
   "metadata": {},
   "outputs": [
    {
     "name": "stdout",
     "output_type": "stream",
     "text": [
      "[[17  5  2 10  5]\n",
      " [ 4  5  7 12 18]\n",
      " [18  1  1  5  5]\n",
      " [ 3  5  8 12 14]\n",
      " [ 4  2  4  9 16]]\n",
      "[[17  5  1 10  5]\n",
      " [ 4  5  1 12 18]\n",
      " [18  1  1  5  5]\n",
      " [ 3  5  1 12 14]\n",
      " [ 4  2  1  9 16]]\n"
     ]
    }
   ],
   "source": [
    "arr= np.random.randint(1,21,size=(5,5))\n",
    "print(arr)\n",
    "\n",
    "arr[: , 2] =  1\n",
    "print(arr)"
   ]
  },
  {
   "cell_type": "code",
   "execution_count": 4,
   "metadata": {},
   "outputs": [
    {
     "name": "stdout",
     "output_type": "stream",
     "text": [
      "Original Array\n",
      "[[ 1  2  3  4]\n",
      " [ 5  6  7  8]\n",
      " [ 9 10 11 12]\n",
      " [13 14 15 16]]\n",
      "Modified Array\n",
      "[[ 0  2  3  4]\n",
      " [ 5  0  7  8]\n",
      " [ 9 10  0 12]\n",
      " [13 14 15  0]]\n"
     ]
    }
   ],
   "source": [
    "arr1 = np.arange(1,17).reshape(4,4)\n",
    "print('Original Array')\n",
    "print(arr1)\n",
    "\n",
    "diagonal_arr = np.fill_diagonal(arr1,0)\n",
    "print('Modified Array')\n",
    "print(arr1)"
   ]
  },
  {
   "cell_type": "markdown",
   "metadata": {},
   "source": [
    "### Assignment 2: Array Indexing and Slicing\n",
    "\n",
    "1. Create a NumPy array of shape (6, 6) with values from 1 to 36. Extract the sub-array consisting of the 3rd to 5th rows and 2nd to 4th columns.\n",
    "2. Create a NumPy array of shape (5, 5) with random integers. Extract the elements on the border."
   ]
  },
  {
   "cell_type": "code",
   "execution_count": 5,
   "metadata": {},
   "outputs": [
    {
     "name": "stdout",
     "output_type": "stream",
     "text": [
      "Original Array\n",
      "[[ 1  2  3  4  5  6]\n",
      " [ 7  8  9 10 11 12]\n",
      " [13 14 15 16 17 18]\n",
      " [19 20 21 22 23 24]\n",
      " [25 26 27 28 29 30]\n",
      " [31 32 33 34 35 36]]\n",
      "Sub Array is\n",
      "[[14 15]\n",
      " [20 21]\n",
      " [26 27]]\n"
     ]
    }
   ],
   "source": [
    "arr = np.arange(1,37).reshape(6,6)\n",
    "print('Original Array')\n",
    "print(arr)\n",
    "\n",
    "sub_array1 = arr[2:5 ,1:3]\n",
    "print(\"Sub Array is\")\n",
    "print(sub_array1)"
   ]
  },
  {
   "cell_type": "code",
   "execution_count": 6,
   "metadata": {},
   "outputs": [
    {
     "name": "stdout",
     "output_type": "stream",
     "text": [
      "[[47 52 86 74 38]\n",
      " [65  8 65 59 69]\n",
      " [10 36 11 62 76]\n",
      " [69 80 35 53 16]\n",
      " [62  5 53 45 43]]\n",
      "[47 52 86 74 38 62  5 53 45 43 65 10 69 69 76 16]\n"
     ]
    }
   ],
   "source": [
    "arr = np.random.randint(1,100,size=(5,5))\n",
    "print(arr)\n",
    "\n",
    "border_elements = np.concatenate((arr[0,:],arr[-1,:],arr[1:-1 , 0] , arr[1:-1 , -1]))\n",
    "print(border_elements)"
   ]
  },
  {
   "cell_type": "markdown",
   "metadata": {},
   "source": [
    "### Assignment 3: Array Operations\n",
    "\n",
    "1. Create two NumPy arrays of shape (3, 4) filled with random integers. Perform element-wise addition, subtraction, multiplication, and division.\n",
    "2. Create a NumPy array of shape (4, 4) with values from 1 to 16. Compute the row-wise and column-wise sum."
   ]
  },
  {
   "cell_type": "code",
   "execution_count": 7,
   "metadata": {},
   "outputs": [
    {
     "name": "stdout",
     "output_type": "stream",
     "text": [
      "Array 1 :\n",
      "[[71 49 69 37]\n",
      " [59 18 30 39]\n",
      " [50 18 57 55]]\n",
      "Array 2 :\n",
      "[[96  5 62 31]\n",
      " [ 4 68 22 95]\n",
      " [83 72 22 30]]\n",
      "Addition\n",
      "[[167  54 131  68]\n",
      " [ 63  86  52 134]\n",
      " [133  90  79  85]]\n",
      "Subtraction\n",
      "[[-25  44   7   6]\n",
      " [ 55 -50   8 -56]\n",
      " [-33 -54  35  25]]\n",
      "Multiplication\n",
      "[[6816  245 4278 1147]\n",
      " [ 236 1224  660 3705]\n",
      " [4150 1296 1254 1650]]\n",
      "Division\n",
      "[[ 0.73958333  9.8         1.11290323  1.19354839]\n",
      " [14.75        0.26470588  1.36363636  0.41052632]\n",
      " [ 0.60240964  0.25        2.59090909  1.83333333]]\n"
     ]
    }
   ],
   "source": [
    "arr1 = np.random.randint(1,100,size = (3,4))\n",
    "arr2 = np.random.randint(1,100,size = (3,4))\n",
    "print(\"Array 1 :\")\n",
    "print(arr1)\n",
    "print(\"Array 2 :\")\n",
    "print(arr2)\n",
    "print(\"Addition\")\n",
    "print(arr1 + arr2)\n",
    "print(\"Subtraction\")\n",
    "print(arr1 - arr2)\n",
    "print(\"Multiplication\")\n",
    "print(arr1 * arr2)\n",
    "print(\"Division\")\n",
    "print(arr1 / arr2)\n"
   ]
  },
  {
   "cell_type": "code",
   "execution_count": 8,
   "metadata": {},
   "outputs": [
    {
     "name": "stdout",
     "output_type": "stream",
     "text": [
      "The Array is:\n",
      " [[ 1  2  3  4]\n",
      " [ 5  6  7  8]\n",
      " [ 9 10 11 12]\n",
      " [13 14 15 16]]\n",
      "Row wise Addition is\n",
      " [10 26 42 58]\n",
      "Coloumn wise Addition is\n",
      " [28 32 36 40]\n"
     ]
    }
   ],
   "source": [
    "arr = np.arange(1,17).reshape(4,4)\n",
    "Coloum_wise_Sum = np.sum(arr, axis = 0)\n",
    "row_wise_sum = np.sum(arr , axis = 1)\n",
    "\n",
    "print(\"The Array is:\\n\", arr)\n",
    "print(\"Row wise Addition is\\n\",row_wise_sum)\n",
    "print(\"Coloumn wise Addition is\\n\",Coloum_wise_Sum)"
   ]
  },
  {
   "cell_type": "markdown",
   "metadata": {},
   "source": [
    "### Assignment 4: Statistical Operations\n",
    "\n",
    "1. Create a NumPy array of shape (5, 5) filled with random integers. Compute the mean, median, standard deviation, and variance of the array.\n",
    "2. Create a NumPy array of shape (3, 3) with values from 1 to 9. Normalize the array (i.e., scale the values to have a mean of 0 and a standard deviation of 1)."
   ]
  },
  {
   "cell_type": "code",
   "execution_count": 9,
   "metadata": {},
   "outputs": [
    {
     "name": "stdout",
     "output_type": "stream",
     "text": [
      "Array:\n",
      " [[14 12 10 19  1]\n",
      " [ 2 24 12 17 24]\n",
      " [17  6 24  6 16]\n",
      " [21  1  7 16 22]\n",
      " [ 1 19 12  5 21]]\n",
      "Mean:\n",
      " 13.16\n",
      "Median:\n",
      " 14.0\n",
      "Standard Variance:\n",
      " 58.2944\n"
     ]
    }
   ],
   "source": [
    "arr = np.random.randint(1,25,size=(5,5))\n",
    "mean = np.mean(arr)\n",
    "median = np.median(arr)\n",
    "Standard_Variance = np.var(arr)\n",
    "\n",
    "print(\"Array:\\n\" , arr)\n",
    "print(\"Mean:\\n\" , mean)\n",
    "print(\"Median:\\n\" , median)\n",
    "print(\"Standard Variance:\\n\" , Standard_Variance)"
   ]
  },
  {
   "cell_type": "code",
   "execution_count": 10,
   "metadata": {},
   "outputs": [
    {
     "name": "stdout",
     "output_type": "stream",
     "text": [
      "The array is\n",
      " [[1 2 3]\n",
      " [4 5 6]\n",
      " [7 8 9]]\n",
      "Normalised Array is\n",
      " [[-1.54919334 -1.161895   -0.77459667]\n",
      " [-0.38729833  0.          0.38729833]\n",
      " [ 0.77459667  1.161895    1.54919334]]\n"
     ]
    }
   ],
   "source": [
    "arr = np.arange(1,10).reshape(3,3)\n",
    "print(\"The array is\\n\" , arr)\n",
    "\n",
    "mean = np.mean(arr)\n",
    "std_dev  = np.std(arr)\n",
    "normalised_arr = (arr - mean) / std_dev\n",
    "\n",
    "print(\"Normalised Array is\\n\" , normalised_arr)"
   ]
  },
  {
   "cell_type": "markdown",
   "metadata": {},
   "source": [
    "### Assignment 5: Broadcasting\n",
    "\n",
    "1. Create a NumPy array of shape (3, 3) filled with random integers. Add a 1D array of shape (3,) to each row of the 2D array using broadcasting.\n",
    "2. Create a NumPy array of shape (4, 4) filled with random integers. Subtract a 1D array of shape (4,) from each column of the 2D array using broadcasting.\n"
   ]
  },
  {
   "cell_type": "code",
   "execution_count": 11,
   "metadata": {},
   "outputs": [
    {
     "name": "stdout",
     "output_type": "stream",
     "text": [
      "2D Array:\n",
      " [[5 6 7]\n",
      " [7 2 6]\n",
      " [9 5 7]]\n",
      "1D Array:\n",
      " [8 9 2]\n",
      "Result of Addition:\n",
      " [[13 15  9]\n",
      " [15 11  8]\n",
      " [17 14  9]]\n"
     ]
    }
   ],
   "source": [
    "arr2D = np.random.randint(1, 11, size=(3, 3))\n",
    "arr1D = np.random.randint(1, 11, size=(3,))\n",
    "\n",
    "addition = arr2D + arr1D\n",
    "print(\"2D Array:\\n\", arr2D)\n",
    "print(\"1D Array:\\n\", arr1D)\n",
    "print(\"Result of Addition:\\n\", addition)"
   ]
  },
  {
   "cell_type": "code",
   "execution_count": 12,
   "metadata": {},
   "outputs": [
    {
     "name": "stdout",
     "output_type": "stream",
     "text": [
      "2D Array:\n",
      " [[ 2  5  6  6]\n",
      " [10  8  3  8]\n",
      " [ 2  6 10 10]\n",
      " [ 9  7  5  3]]\n",
      "1D Array:\n",
      " [5 3 7 4]\n",
      "Result of Subtraction:\n",
      " [[-3  2 -1  2]\n",
      " [ 5  5 -4  4]\n",
      " [-3  3  3  6]\n",
      " [ 4  4 -2 -1]]\n"
     ]
    }
   ],
   "source": [
    "arr2D = np.random.randint(1, 11, size=(4, 4))\n",
    "arr1D = np.random.randint(1, 11, size=(4,))\n",
    "\n",
    "addition = arr2D - arr1D\n",
    "print(\"2D Array:\\n\", arr2D)\n",
    "print(\"1D Array:\\n\", arr1D)\n",
    "print(\"Result of Subtraction:\\n\", addition)"
   ]
  },
  {
   "cell_type": "markdown",
   "metadata": {},
   "source": [
    "### Assignment 6: Linear Algebra\n",
    "\n",
    "1. Create a NumPy array of shape (3, 3) representing a matrix. Compute its determinant, inverse, and eigenvalues.\n",
    "2. Create two NumPy arrays of shape (2, 3) and (3, 2). Perform matrix multiplication on these arrays."
   ]
  },
  {
   "cell_type": "code",
   "execution_count": 13,
   "metadata": {},
   "outputs": [
    {
     "name": "stdout",
     "output_type": "stream",
     "text": [
      "The Matrix is\n",
      " [[ 1  3  5]\n",
      " [ 7  9 11]\n",
      " [13 15 17]]\n",
      "The Determinant is\n",
      " 4.263256414560604e-14\n",
      "The Inverse is\n",
      " [[-2.81474977e+14  5.62949953e+14 -2.81474977e+14]\n",
      " [ 5.62949953e+14 -1.12589991e+15  5.62949953e+14]\n",
      " [-2.81474977e+14  5.62949953e+14 -2.81474977e+14]]\n",
      "The Eigenvalues is\n",
      " [ 2.94452187e+01 -2.44521872e+00 -1.61086274e-15]\n"
     ]
    }
   ],
   "source": [
    "matrix = np.arange(1,18,2).reshape(3,3)\n",
    "Determinant = np.linalg.det(matrix)\n",
    "Inverse = np.linalg.inv(matrix)\n",
    "Eigenvalues = np.linalg.eigvals(matrix)\n",
    "\n",
    "print(\"The Matrix is\\n\" , matrix)\n",
    "print(\"The Determinant is\\n\" , Determinant)\n",
    "print(\"The Inverse is\\n\" , Inverse)\n",
    "print(\"The Eigenvalues is\\n\" , Eigenvalues)"
   ]
  },
  {
   "cell_type": "code",
   "execution_count": 18,
   "metadata": {},
   "outputs": [
    {
     "name": "stdout",
     "output_type": "stream",
     "text": [
      "Matrix1 :\n",
      " [[1 2 3]\n",
      " [4 5 6]]\n",
      "Matrix2 :\n",
      " [[1 2]\n",
      " [3 4]\n",
      " [5 6]]\n",
      "Multiplication of matrix is \n",
      " [[22 28]\n",
      " [49 64]]\n"
     ]
    }
   ],
   "source": [
    "matrix1 = np.arange(1,7).reshape(2,3)\n",
    "matrix2 = np.arange(1,7).reshape(3,2)\n",
    "\n",
    "multiplication = np.linalg.matmul(matrix1,matrix2)\n",
    "print(\"Matrix1 :\\n\" , matrix1)\n",
    "print(\"Matrix2 :\\n\" , matrix2)\n",
    "print(\"Multiplication of matrix is \\n\" , multiplication)\n"
   ]
  },
  {
   "cell_type": "markdown",
   "metadata": {},
   "source": [
    "### Assignment 7: Advanced Array Manipulation\n",
    "\n",
    "1. Create a NumPy array of shape (3, 3) with values from 1 to 9. Reshape the array to shape (1, 9) and then to shape (9, 1).\n",
    "2. Create a NumPy array of shape (5, 5) filled with random integers. Flatten the array and then reshape it back to (5, 5)."
   ]
  },
  {
   "cell_type": "code",
   "execution_count": 20,
   "metadata": {},
   "outputs": [
    {
     "name": "stdout",
     "output_type": "stream",
     "text": [
      "Main array is\n",
      " [[1 2 3]\n",
      " [4 5 6]\n",
      " [7 8 9]]\n",
      "first Manupulated array is\n",
      " [[1 2 3 4 5 6 7 8 9]]\n",
      "Second Manupulation is \n",
      " [[1]\n",
      " [2]\n",
      " [3]\n",
      " [4]\n",
      " [5]\n",
      " [6]\n",
      " [7]\n",
      " [8]\n",
      " [9]]\n"
     ]
    }
   ],
   "source": [
    "arr = np.arange(1,10).reshape(3,3)\n",
    "arr1 = arr.reshape(1,9)\n",
    "arr2 = arr1.reshape(9,1)\n",
    "\n",
    "print(\"Main array is\\n\" , arr)\n",
    "print(\"first Manupulated array is\\n\" , arr1)\n",
    "print(\"Second Manupulation is \\n\" , arr2)"
   ]
  },
  {
   "cell_type": "code",
   "execution_count": 24,
   "metadata": {},
   "outputs": [
    {
     "name": "stdout",
     "output_type": "stream",
     "text": [
      "Array is\n",
      " [[ 4 21 12 18 16]\n",
      " [ 8  7 17 12  4]\n",
      " [21 18 24 20 25]\n",
      " [ 2 20 17 11 10]\n",
      " [25 24 20 24 15]]\n",
      "Flattened array is\n",
      " [ 4 21 12 18 16  8  7 17 12  4 21 18 24 20 25  2 20 17 11 10 25 24 20 24\n",
      " 15]\n",
      "Reshaped Array is\n",
      " [[ 4 21 12 18 16]\n",
      " [ 8  7 17 12  4]\n",
      " [21 18 24 20 25]\n",
      " [ 2 20 17 11 10]\n",
      " [25 24 20 24 15]]\n"
     ]
    }
   ],
   "source": [
    "arr = np.random.randint(1,26,size = (5,5))\n",
    "print(\"Array is\\n\" , arr)\n",
    "flatten_arr = arr.flatten()\n",
    "print(\"Flattened array is\\n\" , flatten_arr)\n",
    "reshape_arr = flatten_arr.reshape(5,5)\n",
    "print(\"Reshaped Array is\\n\" , reshape_arr)"
   ]
  },
  {
   "cell_type": "markdown",
   "metadata": {},
   "source": [
    "### Assignment 8: Fancy Indexing and Boolean Indexing\n",
    "\n",
    "1. Create a NumPy array of shape (5, 5) filled with random integers. Use fancy indexing to extract the elements at the corners of the array.\n",
    "2. Create a NumPy array of shape (4, 4) filled with random integers. Use boolean indexing to set all elements greater than 10 "
   ]
  },
  {
   "cell_type": "code",
   "execution_count": 31,
   "metadata": {},
   "outputs": [
    {
     "name": "stdout",
     "output_type": "stream",
     "text": [
      "Array is\n",
      " [[72 38 24  2 43]\n",
      " [77 62 78 81 39]\n",
      " [14 94 52 79 57]\n",
      " [72 29 99 11 25]\n",
      " [33 46 38 36 75]]\n",
      "Corners are\n",
      " [72 43 33 75]\n"
     ]
    }
   ],
   "source": [
    "arr = np.random.randint(1,100,size=(5,5))\n",
    "fancy_Indexing = arr[[0,0,-1,-1],[0,-1,0,-1]] #i9f you use () , the object is not callable\n",
    "print(\"Array is\\n\" , arr)\n",
    "print(\"Corners are\\n\" , fancy_Indexing)"
   ]
  },
  {
   "cell_type": "code",
   "execution_count": 41,
   "metadata": {},
   "outputs": [
    {
     "name": "stdout",
     "output_type": "stream",
     "text": [
      "Array is\n",
      " [[24 11  7  8]\n",
      " [ 1 10  6  6]\n",
      " [ 6 18  3 15]\n",
      " [27 15 16 15]]\n",
      "required value is\n",
      " [24 11 18 15 27 15 16 15]\n"
     ]
    }
   ],
   "source": [
    "arr = np.random.randint(1,30,size=(4,4))\n",
    "boolean_Indexing = arr[arr>10]\n",
    "print(\"Array is\\n\" , arr)\n",
    "print(\"required value is\\n\", boolean_Indexing)"
   ]
  },
  {
   "cell_type": "markdown",
   "metadata": {},
   "source": [
    "### Assignment 9: Structured Arrays\n",
    "\n",
    "1. Create a structured array with fields 'name' (string), 'age' (integer), and 'weight' (float). Add some data and sort the array by age.\n",
    "2. Create a structured array with fields 'x' and 'y' (both integers). Add some data and compute the Euclidean distance between each pair of points."
   ]
  },
  {
   "cell_type": "code",
   "execution_count": 57,
   "metadata": {},
   "outputs": [
    {
     "name": "stdout",
     "output_type": "stream",
     "text": [
      "Data\n",
      " [('Abhi', 20, 61.5) ('Shubh', 19, 66.5)]\n",
      "Sorted Data\n",
      " [('Shubh', 19, 66.5) ('Abhi', 20, 61.5)]\n"
     ]
    }
   ],
   "source": [
    "data_type = [('name' , 'U10') , ('age' , 'i4') , ('weight' , 'f8')]\n",
    "arr = np.array([('Abhi' , 20 , 61.5 ) , ('Shubh',19,66.5)], dtype=data_type)\n",
    "sorted_array = np.sort(arr , order='age')\n",
    "print('Data\\n',arr)\n",
    "print('Sorted Data\\n' , sorted_array)"
   ]
  },
  {
   "cell_type": "markdown",
   "metadata": {},
   "source": [
    "### Explanation of Each Field:\n",
    "\n",
    "#### `('name', 'U10')`:\n",
    "- **`'name'`**: This is the field name.\n",
    "- **`'U10'`**: This indicates a Unicode string of up to 10 characters. It can store any string with a maximum length of 10 characters.\n",
    "\n",
    "#### `('integer', 'i2')`:\n",
    "- **`'integer'`**: This is the field name.\n",
    "- **`'i2'`**: This represents a 16-bit signed integer (2 bytes). It can hold integer values in the range of `-32,768` to `32,767`.\n",
    "\n",
    "#### `('weight', 'f8')`:\n",
    "- **`'weight'`**: This is the field name.\n",
    "- **`'f8'`**: This represents a 64-bit floating-point number (8 bytes). It is equivalent to a double precision floating-point number and is used for values that require more precision.\n"
   ]
  },
  {
   "cell_type": "code",
   "execution_count": 59,
   "metadata": {},
   "outputs": [],
   "source": [
    "data_type = [('x' , 'i4') , ('y' , 'i4')]\n",
    "data = np.array([(12,13) , (14,15) , (23,24)] , dtype=data_type)\n",
    "Euclidean_Distance = np.sqrt()"
   ]
  }
 ],
 "metadata": {
  "kernelspec": {
   "display_name": "Python 3",
   "language": "python",
   "name": "python3"
  },
  "language_info": {
   "codemirror_mode": {
    "name": "ipython",
    "version": 3
   },
   "file_extension": ".py",
   "mimetype": "text/x-python",
   "name": "python",
   "nbconvert_exporter": "python",
   "pygments_lexer": "ipython3",
   "version": "3.12.4"
  }
 },
 "nbformat": 4,
 "nbformat_minor": 2
}
