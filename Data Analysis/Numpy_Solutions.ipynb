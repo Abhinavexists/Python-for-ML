{
 "cells": [
  {
   "cell_type": "markdown",
   "metadata": {},
   "source": [
    "### Assignment 1: Array Creation and Manipulation\n",
    "\n",
    "1. Create a NumPy array of shape (5, 5) filled with random integers between 1 and 20. Replace all the elements in the third column with 1.\n",
    "2. Create a NumPy array of shape (4, 4) with values from 1 to 16. Replace the diagonal elements with 0."
   ]
  },
  {
   "cell_type": "code",
   "execution_count": 20,
   "metadata": {},
   "outputs": [],
   "source": [
    "import numpy as np\n",
    "import random"
   ]
  },
  {
   "cell_type": "code",
   "execution_count": 29,
   "metadata": {},
   "outputs": [
    {
     "name": "stdout",
     "output_type": "stream",
     "text": [
      "[[ 7 18 18  4  1]\n",
      " [14 16  8 15  8]\n",
      " [ 8  1 12 16  2]\n",
      " [11 16  8  4  6]\n",
      " [17 14  6 16  2]]\n",
      "[[ 7 18  1  4  1]\n",
      " [14 16  1 15  8]\n",
      " [ 8  1  1 16  2]\n",
      " [11 16  1  4  6]\n",
      " [17 14  1 16  2]]\n"
     ]
    }
   ],
   "source": [
    "arr= np.random.randint(1,21,size=(5,5))\n",
    "print(arr)\n",
    "\n",
    "arr[: , 2] =  1\n",
    "print(arr)"
   ]
  },
  {
   "cell_type": "code",
   "execution_count": 11,
   "metadata": {},
   "outputs": [
    {
     "name": "stdout",
     "output_type": "stream",
     "text": [
      "Original Array\n",
      "[[ 1  2  3  4]\n",
      " [ 5  6  7  8]\n",
      " [ 9 10 11 12]\n",
      " [13 14 15 16]]\n",
      "Modified Array\n",
      "[[ 0  2  3  4]\n",
      " [ 5  0  7  8]\n",
      " [ 9 10  0 12]\n",
      " [13 14 15  0]]\n"
     ]
    }
   ],
   "source": [
    "arr1 = np.arange(1,17).reshape(4,4)\n",
    "print('Original Array')\n",
    "print(arr1)\n",
    "\n",
    "diagonal_arr = np.fill_diagonal(arr1,0)\n",
    "print('Modified Array')\n",
    "print(arr1)"
   ]
  },
  {
   "cell_type": "markdown",
   "metadata": {},
   "source": [
    "### Assignment 2: Array Indexing and Slicing\n",
    "\n",
    "1. Create a NumPy array of shape (6, 6) with values from 1 to 36. Extract the sub-array consisting of the 3rd to 5th rows and 2nd to 4th columns.\n",
    "2. Create a NumPy array of shape (5, 5) with random integers. Extract the elements on the border."
   ]
  },
  {
   "cell_type": "code",
   "execution_count": 19,
   "metadata": {},
   "outputs": [
    {
     "name": "stdout",
     "output_type": "stream",
     "text": [
      "Original Array\n",
      "[[ 1  2  3  4  5  6]\n",
      " [ 7  8  9 10 11 12]\n",
      " [13 14 15 16 17 18]\n",
      " [19 20 21 22 23 24]\n",
      " [25 26 27 28 29 30]\n",
      " [31 32 33 34 35 36]]\n",
      "Sub Array is\n",
      "[[14 15]\n",
      " [20 21]\n",
      " [26 27]]\n"
     ]
    }
   ],
   "source": [
    "arr = np.arange(1,37).reshape(6,6)\n",
    "print('Original Array')\n",
    "print(arr)\n",
    "\n",
    "sub_array1 = arr[2:5 ,1:3]\n",
    "print(\"Sub Array is\")\n",
    "print(sub_array1)"
   ]
  },
  {
   "cell_type": "code",
   "execution_count": 45,
   "metadata": {},
   "outputs": [
    {
     "name": "stdout",
     "output_type": "stream",
     "text": [
      "[[67 16  5 19 10]\n",
      " [57 32 75 92 74]\n",
      " [85 63 10 96 18]\n",
      " [ 4 26 48 13 27]\n",
      " [ 4 93 81 49 13]]\n",
      "[67 16  5 19 10  4 93 81 49 13 57 85  4 74 18 27]\n"
     ]
    }
   ],
   "source": [
    "arr = np.random.randint(1,100,size=(5,5))\n",
    "print(arr)\n",
    "\n",
    "border_elements = np.concatenate((arr[0,:],arr[-1,:],arr[1:-1 , 0] , arr[1:-1 , -1]))\n",
    "print(border_elements)"
   ]
  },
  {
   "cell_type": "code",
   "execution_count": null,
   "metadata": {},
   "outputs": [],
   "source": []
  }
 ],
 "metadata": {
  "kernelspec": {
   "display_name": "Python 3",
   "language": "python",
   "name": "python3"
  },
  "language_info": {
   "codemirror_mode": {
    "name": "ipython",
    "version": 3
   },
   "file_extension": ".py",
   "mimetype": "text/x-python",
   "name": "python",
   "nbconvert_exporter": "python",
   "pygments_lexer": "ipython3",
   "version": "3.12.4"
  }
 },
 "nbformat": 4,
 "nbformat_minor": 2
}
