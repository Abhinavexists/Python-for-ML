{
 "cells": [
  {
   "cell_type": "markdown",
   "metadata": {},
   "source": [
    "### Assignment 1: Creating and Connecting to a Database\n",
    "\n",
    "1. Write a Python function to create a new SQLite3 database named `test.db`.\n",
    "2. Write a Python function to create a table named `employees` with columns `id` (integer), `name` (text), `age` (integer), and `department` (text) in the `test.db` database."
   ]
  },
  {
   "cell_type": "code",
   "execution_count": 1,
   "metadata": {},
   "outputs": [
    {
     "name": "stdout",
     "output_type": "stream",
     "text": [
      "Database is succesfully created and connected\n"
     ]
    }
   ],
   "source": [
    "import sqlite3\n",
    "\n",
    "def create_database():\n",
    "    connection = sqlite3.connect('test.db')\n",
    "    connection.close()\n",
    "    print('Database is succesfully created and connected')\n",
    "\n",
    "create_database()"
   ]
  },
  {
   "cell_type": "code",
   "execution_count": 2,
   "metadata": {},
   "outputs": [
    {
     "name": "stdout",
     "output_type": "stream",
     "text": [
      "The table is succesfully created\n"
     ]
    }
   ],
   "source": [
    "def create_table():\n",
    "    connection = sqlite3.connect('test.db')\n",
    "    cursor = connection.cursor()\n",
    "    cursor.execute('''\n",
    "    CREATE TABLE IF NOT EXISTS employees(\n",
    "                   id INTEGER PRIMARY KEY,\n",
    "                   Name TEXT NOT NULL,\n",
    "                   Age INTEGER , \n",
    "                   Department TEXT\n",
    "                   )\n",
    "''')\n",
    "    connection.commit()\n",
    "    connection.close()\n",
    "    print('The table is succesfully created')\n",
    "\n",
    "create_table()"
   ]
  },
  {
   "cell_type": "markdown",
   "metadata": {},
   "source": [
    "### Assignment 2: Inserting Data\n",
    "\n",
    "1. Write a Python function to insert a new employee into the `employees` table.\n",
    "2. Insert at least 5 different employees into the `employees` table.\n"
   ]
  },
  {
   "cell_type": "code",
   "execution_count": 3,
   "metadata": {},
   "outputs": [
    {
     "name": "stdout",
     "output_type": "stream",
     "text": [
      "Employees Data has been inserted succesfully\n"
     ]
    }
   ],
   "source": [
    "def new_employee(id,Name,Age,Department):\n",
    "    connection = sqlite3.connect('test.db')\n",
    "    cursor  = connection.cursor()\n",
    "    cursor.execute('''\n",
    "    INSERT INTO employees(id,Name,Age,Department)\n",
    "    VALUES(?,?,?,?)\n",
    "''' , (id,Name,Age,Department))\n",
    "    connection.commit()\n",
    "    connection.close()\n",
    "    print('Employees Data has been inserted succesfully')\n",
    "\n",
    "new_employee(1001,'John',23,'HR')"
   ]
  },
  {
   "cell_type": "code",
   "execution_count": 4,
   "metadata": {},
   "outputs": [
    {
     "name": "stdout",
     "output_type": "stream",
     "text": [
      "Employees Data has been inserted succesfully\n",
      "Employees Data has been inserted succesfully\n",
      "Employees Data has been inserted succesfully\n"
     ]
    }
   ],
   "source": [
    "new_employee(1002,'Ryan',26,'Finance')\n",
    "new_employee(1003,'Ron',25,'Technical')\n",
    "new_employee(1004,'Anya',27,'Technical')\n"
   ]
  },
  {
   "cell_type": "code",
   "execution_count": 5,
   "metadata": {},
   "outputs": [
    {
     "name": "stdout",
     "output_type": "stream",
     "text": [
      "Employees Data has been inserted succesfully\n"
     ]
    }
   ],
   "source": [
    "new_employee(1005,'Ken',27,'HR')"
   ]
  },
  {
   "cell_type": "markdown",
   "metadata": {},
   "source": [
    "### Assignment 3: Querying Data\n",
    "\n",
    "1. Write a Python function to fetch and display all records from the `employees` table.\n",
    "2. Write a Python function to fetch and display all employees from a specific department."
   ]
  },
  {
   "cell_type": "code",
   "execution_count": 6,
   "metadata": {},
   "outputs": [
    {
     "name": "stdout",
     "output_type": "stream",
     "text": [
      "(1001, 'John', 23, 'HR')\n",
      "(1002, 'Ryan', 26, 'Finance')\n",
      "(1003, 'Ron', 25, 'Technical')\n",
      "(1004, 'Anya', 27, 'Technical')\n",
      "(1005, 'Ken', 27, 'HR')\n"
     ]
    }
   ],
   "source": [
    "def display_all_records():\n",
    "    connection =  sqlite3.connect('test.db')\n",
    "    cursor = connection.cursor()\n",
    "    cursor.execute('''\n",
    "    SELECT * FROM employees\n",
    "''')\n",
    "    records = cursor.fetchall()\n",
    "    connection.close()\n",
    "    for record in records:\n",
    "        print(record)\n",
    "\n",
    "display_all_records()"
   ]
  },
  {
   "cell_type": "code",
   "execution_count": 7,
   "metadata": {},
   "outputs": [
    {
     "name": "stdout",
     "output_type": "stream",
     "text": [
      "(1001, 'John', 23, 'HR')\n",
      "(1005, 'Ken', 27, 'HR')\n"
     ]
    }
   ],
   "source": [
    "def display_dept(Department):                 \n",
    "    connection = sqlite3.connect('test.db')\n",
    "    cursor = connection.cursor()\n",
    "    cursor.execute('''\n",
    "    SELECT * FROM employees WHERE Department=?\n",
    "''',(Department,))\n",
    "    records = cursor.fetchall()\n",
    "    connection.close()\n",
    "\n",
    "    for record in records:\n",
    "        print(record)\n",
    "\n",
    "display_dept('HR')\n",
    "# (Department,): This creates a tuple with one element. Without the comma, Department would just be a string.\n",
    "# SQLite requires parameters to be passed as a tuple (or a list) when using placeholders (?) in the query.\n"
   ]
  },
  {
   "cell_type": "markdown",
   "metadata": {},
   "source": [
    "### Assignment 4: Updating Data\n",
    "\n",
    "1. Write a Python function to update the department of an employee based on their `id`.\n",
    "2. Update the department of at least 2 employees and display the updated records."
   ]
  },
  {
   "cell_type": "code",
   "execution_count": 8,
   "metadata": {},
   "outputs": [
    {
     "name": "stdout",
     "output_type": "stream",
     "text": [
      "The Department has been updates Successfully\n"
     ]
    }
   ],
   "source": [
    "def update_department(id,Department):\n",
    "    connection = sqlite3.connect('test.db')\n",
    "    cursor = connection.cursor()\n",
    "    cursor.execute('''\n",
    "    UPDATE employees\n",
    "    Set Department = ?\n",
    "    where id = ?\n",
    "''' , (Department , id))\n",
    "    connection.commit()\n",
    "    connection.close()\n",
    "    print('The Department has been updates Successfully')\n",
    "\n",
    "update_department(1001 , 'Finance')"
   ]
  },
  {
   "cell_type": "code",
   "execution_count": 9,
   "metadata": {},
   "outputs": [
    {
     "name": "stdout",
     "output_type": "stream",
     "text": [
      "The Department has been updates Successfully\n"
     ]
    }
   ],
   "source": [
    "update_department(1002 , 'HR')"
   ]
  },
  {
   "cell_type": "code",
   "execution_count": 10,
   "metadata": {},
   "outputs": [
    {
     "name": "stdout",
     "output_type": "stream",
     "text": [
      "(1001, 'John', 23, 'Finance')\n",
      "(1002, 'Ryan', 26, 'HR')\n",
      "(1003, 'Ron', 25, 'Technical')\n",
      "(1004, 'Anya', 27, 'Technical')\n",
      "(1005, 'Ken', 27, 'HR')\n"
     ]
    }
   ],
   "source": [
    "display_all_records()"
   ]
  },
  {
   "cell_type": "markdown",
   "metadata": {},
   "source": [
    "### Assignment 5: Deleting Data\n",
    "\n",
    "1. Write a Python function to delete an employee from the `employees` table based on their `id`.\n",
    "2. Delete at least 1 employee and display the remaining records."
   ]
  },
  {
   "cell_type": "code",
   "execution_count": 11,
   "metadata": {},
   "outputs": [
    {
     "name": "stdout",
     "output_type": "stream",
     "text": [
      "The Record has been deleted succesfully\n"
     ]
    }
   ],
   "source": [
    "def delete_employee(id):\n",
    "    connection = sqlite3.connect('test.db')\n",
    "    cursor = connection.cursor()\n",
    "    cursor.execute('''\n",
    "    DELETE from employees\n",
    "    WHERE id = ?\n",
    "''' , (id,))\n",
    "    connection.commit()\n",
    "    connection.close()\n",
    "    print('The Record has been deleted succesfully')\n",
    "\n",
    "delete_employee(1001)\n",
    "\n"
   ]
  },
  {
   "cell_type": "code",
   "execution_count": 12,
   "metadata": {},
   "outputs": [
    {
     "name": "stdout",
     "output_type": "stream",
     "text": [
      "(1002, 'Ryan', 26, 'HR')\n",
      "(1003, 'Ron', 25, 'Technical')\n",
      "(1004, 'Anya', 27, 'Technical')\n",
      "(1005, 'Ken', 27, 'HR')\n"
     ]
    }
   ],
   "source": [
    "display_all_records()"
   ]
  },
  {
   "cell_type": "markdown",
   "metadata": {},
   "source": [
    "### Assignment 6: Advanced Queries\n",
    "\n",
    "1. Write a Python function to fetch and display employees older than a certain age.\n",
    "2. Write a Python function to fetch and display employees whose names start with a specific letter."
   ]
  },
  {
   "cell_type": "code",
   "execution_count": 13,
   "metadata": {},
   "outputs": [
    {
     "name": "stdout",
     "output_type": "stream",
     "text": [
      "(1002, 'Ryan', 26, 'HR')\n",
      "(1004, 'Anya', 27, 'Technical')\n",
      "(1005, 'Ken', 27, 'HR')\n"
     ]
    }
   ],
   "source": [
    "def employee_age(Age):\n",
    "    connection = sqlite3.connect('test.db')\n",
    "    cursor = connection.cursor()\n",
    "    cursor.execute('''\n",
    "    SELECT * FROM employees\n",
    "    WHERE Age > ?\n",
    "''',(Age,))\n",
    "    records = cursor.fetchall()\n",
    "    connection.close()\n",
    "    for record in records:\n",
    "        print(record)\n",
    "\n",
    "employee_age(25)"
   ]
  },
  {
   "cell_type": "code",
   "execution_count": 14,
   "metadata": {},
   "outputs": [
    {
     "name": "stdout",
     "output_type": "stream",
     "text": [
      "(1004, 'Anya', 27, 'Technical')\n"
     ]
    }
   ],
   "source": [
    "def employee_name(letter):\n",
    "    connection = sqlite3.connect('test.db')\n",
    "    cursor = connection.cursor()\n",
    "    cursor.execute('''\n",
    "    SELECT * FROM employees\n",
    "    WHERE Name LIKE ? \n",
    "''',(letter + '%',))\n",
    "    records = cursor.fetchall()\n",
    "    connection.close()\n",
    "    for record in records:\n",
    "        print(record)\n",
    "\n",
    "employee_name(\"A\")\n",
    "    "
   ]
  },
  {
   "cell_type": "markdown",
   "metadata": {},
   "source": [
    "### Assignment 7: Handling Transactions\n",
    "\n",
    "1. Write a Python function to insert multiple employees into the `employees` table in a single transaction. Ensure that if any insertion fails, none of the insertions are committed.\n",
    "2. Write a Python function to update the age of multiple employees in a single transaction. Ensure that if any update fails, none of the updates are committed.\n"
   ]
  },
  {
   "cell_type": "code",
   "execution_count": 15,
   "metadata": {},
   "outputs": [],
   "source": [
    "def insert_employees(employees):\n",
    "    connection = sqlite3.connect('test.db')\n",
    "    cursor = connection.cursor()\n",
    "    try:\n",
    "        cursor.execute('''\n",
    "    INSERT INTO employees(id,Name,Age,Department)\n",
    "                   values(?,?,?,?)\n",
    "''' , employees)\n",
    "        connection.commit()\n",
    "        print(\"All insertions are done succesfully\")\n",
    "    except Exception as e:\n",
    "        connection.rollback()\n",
    "        print('Error Occurred , Transaction Rolledback')\n",
    "        print(e)\n",
    "    finally:\n",
    "        connection.close()\n",
    "\n",
    "    employees = [\n",
    "    (6, 'Frank', 40, 'Finance'),\n",
    "    (7, 'Grace', 29, 'Engineering'),\n",
    "    (8, 'Hannah', 35, 'Marketing'),\n",
    "    (9, 'Ivan', 38, 'Sales'),\n",
    "    (6, 'Jack', 45, 'HR')  # Duplicate ID to cause an error\n",
    "]\n",
    "\n",
    "    "
   ]
  },
  {
   "cell_type": "code",
   "execution_count": 16,
   "metadata": {},
   "outputs": [
    {
     "name": "stdout",
     "output_type": "stream",
     "text": [
      "Age Updated Succesfully\n"
     ]
    }
   ],
   "source": [
    "def update_age(updates):\n",
    "    connection = sqlite3.connect('test.db')\n",
    "    cursor = connection.cursor()\n",
    "    try:\n",
    "        cursor.executemany('''\n",
    "    UPDATE employees\n",
    "    SET Age = ?\n",
    "    WHERE id = ?\n",
    "''' , updates)\n",
    "        connection.commit()\n",
    "        print('Age Updated Succesfully')\n",
    "    except Exception as e:\n",
    "        connection.rollback()\n",
    "        print('Update failed , Rolling Back')\n",
    "    finally:\n",
    "        connection.close()\n",
    "\n",
    "updates = [\n",
    "    (32, 1),\n",
    "    (26, 2),\n",
    "    (33, 3),\n",
    "    (41, 4),  # Non-existing ID to cause an error\n",
    "    (23, 5)\n",
    "]\n",
    "update_age(updates)"
   ]
  },
  {
   "cell_type": "markdown",
   "metadata": {},
   "source": [
    "### Assignment 8: Creating Relationships\n",
    "\n",
    "1. Create a new table named `departments` with columns `id` (integer) and `name` (text).\n",
    "2. Modify the `employees` table to include a foreign key referencing the `id` column in the `departments` table.\n",
    "3. Write a Python function to insert data into both the `departments` and `employees` tables, ensuring referential integrity.\n"
   ]
  },
  {
   "cell_type": "code",
   "execution_count": 17,
   "metadata": {},
   "outputs": [],
   "source": [
    "connection  = sqlite3.connect('test.db')\n",
    "cursor = connection.cursor()\n",
    "cursor.execute('''\n",
    "CREATE TABLE IF NOT EXISTS departments(\n",
    "               id INTEGER PRimary Key,\n",
    "               Name Text Not Null\n",
    "               )\n",
    "''')\n",
    "connection.commit()"
   ]
  },
  {
   "cell_type": "code",
   "execution_count": 18,
   "metadata": {},
   "outputs": [
    {
     "data": {
      "text/plain": [
       "<sqlite3.Cursor at 0x22f16277440>"
      ]
     },
     "execution_count": 18,
     "metadata": {},
     "output_type": "execute_result"
    }
   ],
   "source": [
    "# Disable foreign key constraints\n",
    "cursor.execute('PRAGMA foreign_keys=off;')\n",
    "        \n",
    "# Start a transaction\n",
    "cursor.execute('BEGIN TRANSACTION;')\n",
    "        \n",
    "# Rename the existing table\n",
    "cursor.execute('ALTER TABLE employees RENAME TO old_employees;')\n",
    "        \n",
    "# Create the new employees table with the foreign key constraint\n",
    "cursor.execute('''\n",
    "            CREATE TABLE employees (\n",
    "                id INTEGER PRIMARY KEY,\n",
    "                name TEXT NOT NULL,\n",
    "                age INTEGER,\n",
    "                department TEXT,\n",
    "                department_id INTEGER,\n",
    "                FOREIGN KEY(department_id) REFERENCES departments(id)\n",
    "            );\n",
    "''')\n",
    "        \n",
    "# Insert data from old table to new one without department_id\n",
    "cursor.execute('''\n",
    "            INSERT INTO employees (id, name, age, department)\n",
    "            SELECT id, name, age, department FROM old_employees;\n",
    "''')\n",
    "        \n",
    " # Drop the old table\n",
    "cursor.execute('DROP TABLE old_employees;') "
   ]
  },
  {
   "cell_type": "code",
   "execution_count": null,
   "metadata": {},
   "outputs": [],
   "source": [
    "def insert_department_and_employee(department_id, department_name, employee_id, name, age, department):\n",
    "    conn = sqlite3.connect('test.db')\n",
    "    cursor = conn.cursor()\n",
    "    try:\n",
    "        cursor.execute('''\n",
    "            INSERT INTO departments (id, name)\n",
    "            VALUES (?, ?)\n",
    "        ''', (department_id, department_name))\n",
    "        cursor.execute('''\n",
    "            INSERT INTO employees (id, name, age, department, department_id)\n",
    "            VALUES (?, ?, ?, ?, ?)\n",
    "        ''', (employee_id, name, age, department, department_id))\n",
    "        conn.commit()\n",
    "        print(\"Department and employee inserted successfully.\")\n",
    "    except Exception as e:\n",
    "        conn.rollback()\n",
    "        print(\"Error occurred, transaction rolled back.\")\n",
    "        print(e)\n",
    "    finally:\n",
    "        conn.close()\n",
    "\n",
    "# Test the function\n",
    "insert_department_and_employee(1, 'Finance', 10, 'Zara', 28, 'Finance')"
   ]
  },
  {
   "cell_type": "markdown",
   "metadata": {},
   "source": [
    "### Assignment 9: Indexing and Optimization\n",
    "\n",
    "1. Create an index on the `name` column of the `employees` table.\n",
    "2. Write a Python function to fetch and display all employees whose names start with a specific letter. Compare the performance with and without the index."
   ]
  },
  {
   "cell_type": "code",
   "execution_count": null,
   "metadata": {},
   "outputs": [],
   "source": [
    "def index_name():\n",
    "    connection = sqlite3.connect('test.db')\n",
    "    cursor = connection.cursor()\n",
    "    cursor.execute('''\n",
    "    CREATE INDEX idx_name on employees('Name')\n",
    "''')\n",
    "    connection.commit()\n",
    "    connection.close()\n",
    "    print(\"Index on 'name' column created successfully.\")\n",
    "\n",
    "index_name()"
   ]
  },
  {
   "cell_type": "code",
   "execution_count": null,
   "metadata": {},
   "outputs": [],
   "source": [
    "import time\n",
    "\n",
    "def fetch_employees_name_starts_with_performance(letter):\n",
    "    conn = sqlite3.connect('test.db')\n",
    "    cursor = conn.cursor()\n",
    "    start_time = time.time()\n",
    "    cursor.execute('SELECT * FROM employees WHERE name LIKE ?', (letter + '%',))\n",
    "    records = cursor.fetchall()\n",
    "    end_time = time.time()\n",
    "    conn.close()\n",
    "    print(\"Time taken: {} seconds\".format(end_time - start_time))\n",
    "    for record in records:\n",
    "        print(record)\n",
    "\n",
    "# Test the function with the index\n",
    "fetch_employees_name_starts_with_performance('A')"
   ]
  },
  {
   "cell_type": "markdown",
   "metadata": {},
   "source": [
    "### Assignment 10: Backing Up and Restoring Data\n",
    "\n",
    "1. Write a Python function to back up the `test.db` database to a file named `backup.db`.\n",
    "2. Write a Python function to restore the `test.db` database from the `backup.db` file."
   ]
  },
  {
   "cell_type": "code",
   "execution_count": 22,
   "metadata": {},
   "outputs": [
    {
     "name": "stdout",
     "output_type": "stream",
     "text": [
      "Database backuped succesfullly\n"
     ]
    }
   ],
   "source": [
    "import shutil\n",
    "\n",
    "def backup():\n",
    "   shutil.copy('test.db','backup.db')\n",
    "   print('Database backuped succesfullly')\n",
    "\n",
    "backup()"
   ]
  },
  {
   "cell_type": "code",
   "execution_count": 23,
   "metadata": {},
   "outputs": [
    {
     "name": "stdout",
     "output_type": "stream",
     "text": [
      "Database Restored succesfullly\n"
     ]
    }
   ],
   "source": [
    "def restore():\n",
    "   shutil.copy('backup.db','test.db')\n",
    "   print('Database Restored succesfullly')\n",
    "\n",
    "restore()"
   ]
  }
 ],
 "metadata": {
  "kernelspec": {
   "display_name": "venv",
   "language": "python",
   "name": "python3"
  },
  "language_info": {
   "codemirror_mode": {
    "name": "ipython",
    "version": 3
   },
   "file_extension": ".py",
   "mimetype": "text/x-python",
   "name": "python",
   "nbconvert_exporter": "python",
   "pygments_lexer": "ipython3",
   "version": "3.12.4"
  }
 },
 "nbformat": 4,
 "nbformat_minor": 2
}
